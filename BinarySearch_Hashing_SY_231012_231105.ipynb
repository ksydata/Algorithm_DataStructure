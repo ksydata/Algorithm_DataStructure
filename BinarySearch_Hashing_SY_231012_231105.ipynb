{
  "nbformat": 4,
  "nbformat_minor": 0,
  "metadata": {
    "colab": {
      "provenance": [],
      "authorship_tag": "ABX9TyPmqq+7oJ3RLiMOJf/y1mgc",
      "include_colab_link": true
    },
    "kernelspec": {
      "name": "python3",
      "display_name": "Python 3"
    },
    "language_info": {
      "name": "python"
    }
  },
  "cells": [
    {
      "cell_type": "markdown",
      "metadata": {
        "id": "view-in-github",
        "colab_type": "text"
      },
      "source": [
        "<a href=\"https://colab.research.google.com/github/ksydata/Algorithm_DataStructure/blob/main/BinarySearch_Hashing_SY_231012_231105.ipynb\" target=\"_parent\"><img src=\"https://colab.research.google.com/assets/colab-badge.svg\" alt=\"Open In Colab\"/></a>"
      ]
    },
    {
      "cell_type": "code",
      "execution_count": 2,
      "metadata": {
        "id": "y5_NUFjvW9yJ"
      },
      "outputs": [],
      "source": [
        "import numpy as np\n",
        "import pandas as pd\n",
        "import os\n",
        "from typing import *\n",
        "import time\n",
        "from abc import ABC, abstractmethod"
      ]
    },
    {
      "cell_type": "markdown",
      "source": [
        "#### 알고리즘 성능 비교(빅오표기법 시간복잡도)\n",
        "\n",
        "각 복잡도 클래스에 대한 알고리즘에 대한 크기가 N인 문제 인스턴스(행)을 처리하는 데 드는 예상시간은 1시간이다.\n",
        "\n",
        "| 연번 | 알고리즘 | 1시간 동안 처리 가능한 문제 인스턴스(행) 크기 N |\n",
        "| --- | --- | --- |\n",
        "| 0 | O(1) 알고리즘 | 성능이 문제 인스턴스 크기와 무관 |\n",
        "| 1 | O(logN) 알고리즘 | 문제 인스턴스 크기 2^4096개 이하 |\n",
        "| 2 | O(N) 알고리즘 | 4096개 이하 |\n",
        "| 3 | O(NlogN) 알고리즘 | 462개 이하 |\n",
        "| 4 | O(N^2) 알고리즘 | 64개 이하 |\n",
        "| 5 | O(2^N) 알고리즘 | 12개 이하 |\n",
        "| 6 | O(N!) 알고리즘 | 7개 이하 |\n",
        "\n",
        "| 연번 | 알고리즘 | 상황 |\n",
        "| --- | --- | --- |\n",
        "| 0 | 삽입 정렬 알고리즘 | 항목이 몇 개 되지 않는다 |\n",
        "| 1 | 삽입 정렬 알고리즘 | 항목이 대부분 정렬되어 있다 |\n",
        "| 2 | 힙 정렬 알고리즘 | 최저 상황을 고려하여야 한다 |\n",
        "| 3 | 퀵 정렬 알고리즘 | 평균 정렬 결과가 필요하다 |\n",
        "| 4 | 버킷 정렬 알고리즘 | 항목을 조밀한 모집단에서 가져왔다 |\n",
        "| 5 | 삽입 정렬 알고리즘 | 가능한 짧은 코드를 선호한다 |"
      ],
      "metadata": {
        "id": "u9DwxDSMYB8h"
      }
    },
    {
      "cell_type": "markdown",
      "source": [
        "## 이진배열탐색 알고리즘\n"
      ],
      "metadata": {
        "id": "f7hgybZjJMCQ"
      }
    },
    {
      "cell_type": "markdown",
      "source": [
        "#### 1.정렬된 리스트에서 Target하는 특정 수를 찾는 이진배열탐색 구현(인덱스 위치)"
      ],
      "metadata": {
        "id": "yH7GGgGdcfxn"
      }
    },
    {
      "cell_type": "code",
      "source": [
        "def binaryArraySearch(Array, target):\n",
        "  low_index = 0\n",
        "  high_index = len(Array) - 1\n",
        "\n",
        "  while low_index <= high_index:\n",
        "    # 조건을 걸어서 반복 루프를 돌릴 것\n",
        "\n",
        "    mid_index = (low_index + high_index) // 2\n",
        "      # 입력받은 배열의 중간값 위치를 몫으로 계산\n",
        "\n",
        "  # [1] 인덱스 번호 high가 low보다 작아져 교차되면 반복 루프 종료\n",
        "    if target < Array[mid_index]:\n",
        "      # target이 중간값보다 작으면 이어서 계속 찾음\n",
        "      high_index = mid_index - 1\n",
        "        # 배열의 끝 범위를 high에서 mid_index-1로 제한하는 접근 방식(파이썬은 0부터 시작하니까 1빼주는 것 잊지말 것)\n",
        "    elif target > Array[mid_index]:\n",
        "      # targert이 중간값보다 크면 이어서 계속 찾음\n",
        "      low_index = mid_index + 1\n",
        "        # 배열의 시작 범위를 low에서 mid_index+1로 제한하는 접근 방식\n",
        "\n",
        "  # [2] target이 중간값과 같으면 반복 루프 종료\n",
        "    else:\n",
        "      return True\n",
        "        # target = Array[mid_index]\n",
        "\n",
        "    # SY's Error\n",
        "      # if low >= Array[mid_index]: Array[mid_index] = low\n",
        "      # elif high <= Array[mid_index]: Array[mid_index] = high\n",
        "\n",
        "  return False\n",
        "    # 배열 크기가 0일 때 인덱스 에러를 방지하는 출력값"
      ],
      "metadata": {
        "id": "7h7FlCDqXAbl"
      },
      "execution_count": null,
      "outputs": []
    },
    {
      "cell_type": "code",
      "source": [
        "binaryArraySearch(Array = [5*n for n in range(0, 100, 5)], target = 25)"
      ],
      "metadata": {
        "colab": {
          "base_uri": "https://localhost:8080/"
        },
        "id": "97YZD8S2ekQb",
        "outputId": "e162e588-138c-4b33-ae66-e13807027540"
      },
      "execution_count": null,
      "outputs": [
        {
          "output_type": "execute_result",
          "data": {
            "text/plain": [
              "True"
            ]
          },
          "metadata": {},
          "execution_count": 7
        }
      ]
    },
    {
      "cell_type": "markdown",
      "source": [
        "#### 2.이진배열탐색으로 리스트에서 값 찾은 후 위치 반환하기"
      ],
      "metadata": {
        "id": "dFwBDZ65jywT"
      }
    },
    {
      "cell_type": "code",
      "source": [
        "def binaryArraySearchValue(Array, target):\n",
        "  # 그전에 target >= Array[0]이나 target <= Array[-1]인지 확인할 필요가 있나\n",
        "  # 정렬된 리스트에서 있을 수 없는 목표값을 찾는 의미없는 탐색을 방지하기 위함이나 굳이 할 필요는 없음\n",
        "\n",
        "  low_index = 0\n",
        "  high_index = len(Array) - 1\n",
        "\n",
        "  while low_index <= high_index:\n",
        "    mid_index = (low_index + high_index) // 2\n",
        "\n",
        "    if target < Array[mid_index]:\n",
        "      high_index = mid_index - 1\n",
        "    elif target > Array[mid_index]:\n",
        "      low_index = mid_index + 1\n",
        "    else:\n",
        "      return mid_index\n",
        "\n",
        "  return -(low_index + 1)\n",
        "    # 배열에 없는 값을 탐색할 경우 target을 0을 제외한 모든 인덱스가 될 수 있도록 (low_index + 1)에 음수를 취한 값을 반환"
      ],
      "metadata": {
        "id": "clgPvtSJekM7"
      },
      "execution_count": null,
      "outputs": []
    },
    {
      "cell_type": "code",
      "source": [
        "display([5*n for n in range(0, 10, 1)])\n",
        "binaryArraySearchValue(Array = [5*n for n in range(0, 10, 1)], target = 25)"
      ],
      "metadata": {
        "colab": {
          "base_uri": "https://localhost:8080/",
          "height": 52
        },
        "id": "vuQbysaMekED",
        "outputId": "83c493a0-f211-402e-ee01-2536819f58e9"
      },
      "execution_count": null,
      "outputs": [
        {
          "output_type": "display_data",
          "data": {
            "text/plain": [
              "[0, 5, 10, 15, 20, 25, 30, 35, 40, 45]"
            ]
          },
          "metadata": {}
        },
        {
          "output_type": "execute_result",
          "data": {
            "text/plain": [
              "5"
            ]
          },
          "metadata": {},
          "execution_count": 9
        }
      ]
    },
    {
      "cell_type": "markdown",
      "source": [
        "#### 3.목표에 없는 값(target)을 조회할 때 유효하지 않은 위치 인덱스(-1)을 반환하는 대신 배열에 값을 삽입한다면 해당 위치에 넣을 수 있다는 반환값을 출력하는 알고리즘\n",
        "floor($log_2(N)$) 이상 순회할 수 없는 이진배열탐색의 while문 반복 루프"
      ],
      "metadata": {
        "id": "fDZZQ2A1pXFP"
      }
    },
    {
      "cell_type": "code",
      "source": [
        "def binaryArraySearchNaN(Array, target):\n",
        "\n",
        "  low_index = 0\n",
        "  high_index = len(Array) - 1\n",
        "\n",
        "  while low_index <= high_index:\n",
        "    mid_index = (low_index + high_index) // 2\n",
        "    difference = target - Array[mid_index]\n",
        "\n",
        "    if difference < 0:\n",
        "      # target < Array[mid_index]:\n",
        "      high_index = mid_index - 1\n",
        "    elif difference > 0:\n",
        "      # target > Array[mid_index]:\n",
        "      low_index = mid_index + 1\n",
        "    else:\n",
        "      return mid_index\n",
        "\n",
        "  return None"
      ],
      "metadata": {
        "id": "SNmBXwpIekAe"
      },
      "execution_count": null,
      "outputs": []
    },
    {
      "cell_type": "code",
      "source": [
        "binaryArraySearchNaN(Array = [5*n for n in range(0, 10, 1)], target = 31)"
      ],
      "metadata": {
        "id": "piGEodF_kXnR"
      },
      "execution_count": null,
      "outputs": []
    },
    {
      "cell_type": "markdown",
      "source": [
        "#### 4.1)리스트에서 순열을 생성하기"
      ],
      "metadata": {
        "id": "b-9NSiK-rrBB"
      }
    },
    {
      "cell_type": "code",
      "source": [
        "class PermutationList:\n",
        "  def __init__(self, Array: List):\n",
        "    self.Array = Array\n",
        "\n",
        "  # 팩토리얼(재귀함수)\n",
        "  def factorial(self, N):\n",
        "    from scipy.special import factorial\n",
        "\n",
        "    return self.Array * factorial(N)\n",
        "\n",
        "  def checkSorted(self):\n",
        "    for index, value in enumerate(self.Array):\n",
        "      if index > 0 and value < self.Array[index-1]:\n",
        "        # 정렬되어 있다면 index와 value가 같은 배열 위치값으로 반환될 것\n",
        "        return False\n",
        "\n",
        "    return True\n",
        "\n",
        "  def permutationSort(self):\n",
        "    from itertools import permutations\n",
        "\n",
        "    for attempt in permutations:\n",
        "      if self.checkSorted(attempt):\n",
        "        self.Array[:] = attempt[:]\n",
        "        return"
      ],
      "metadata": {
        "id": "640CjVDVkXj6"
      },
      "execution_count": null,
      "outputs": []
    },
    {
      "cell_type": "code",
      "source": [
        "permutationInstance = PermutationList(Array = [5*n for n in range(0, 10, 1)])"
      ],
      "metadata": {
        "id": "s5OcE_x2kXhm"
      },
      "execution_count": null,
      "outputs": []
    },
    {
      "cell_type": "code",
      "source": [
        "# permutationInstance.factorial(N = 10)"
      ],
      "metadata": {
        "id": "ignutZ8ot1Ic"
      },
      "execution_count": null,
      "outputs": []
    },
    {
      "cell_type": "markdown",
      "source": [
        "#### 4.2)리스트에서 **반복적으로 최댓값을 제거**하여 **정렬하기**"
      ],
      "metadata": {
        "id": "IahuQ5u9wkdk"
      }
    },
    {
      "cell_type": "code",
      "source": [
        "def maxSorted(Array):\n",
        "  result: List = []\n",
        "\n",
        "  while len(Array) > 1:\n",
        "    # 둘 이상의 값을 가져야 최댓값과 최솟값이 존재함\n",
        "    index_max = max(\n",
        "        range(len(Array)),\n",
        "        key = Array.__getitem__\n",
        "    )\n",
        "    result.insert(0, Array[index_max])\n",
        "    Array = list(Array[ :index_max ]) + list(Array[ index_max+1: ])\n",
        "      # index_max행번호의 원소를 리스트에서 제외함(index_max행번호 위치의 값에 0을 삽입하여 result 리스트에 저장)\n",
        "    print(\"\\n\", index_max, \"\\n\", result, \"\\n\", Array, \"\\n\")\n",
        "\n",
        "  return Array + result"
      ],
      "metadata": {
        "id": "Z5OSGQhot5V4"
      },
      "execution_count": null,
      "outputs": []
    },
    {
      "cell_type": "code",
      "source": [
        "maxSorted(Array = [5*n for n in range(0, 5, 1)])"
      ],
      "metadata": {
        "colab": {
          "base_uri": "https://localhost:8080/"
        },
        "id": "2mJXuxeu0rHN",
        "outputId": "35bf8800-7b08-4512-9465-b7b5f4282710"
      },
      "execution_count": null,
      "outputs": [
        {
          "output_type": "stream",
          "name": "stdout",
          "text": [
            "\n",
            " 4 \n",
            " [20] \n",
            " [0, 5, 10, 15] \n",
            "\n",
            "\n",
            " 3 \n",
            " [15, 20] \n",
            " [0, 5, 10] \n",
            "\n",
            "\n",
            " 2 \n",
            " [10, 15, 20] \n",
            " [0, 5] \n",
            "\n",
            "\n",
            " 1 \n",
            " [5, 10, 15, 20] \n",
            " [0] \n",
            "\n"
          ]
        },
        {
          "output_type": "execute_result",
          "data": {
            "text/plain": [
              "[0, 5, 10, 15, 20]"
            ]
          },
          "metadata": {},
          "execution_count": 16
        }
      ]
    },
    {
      "cell_type": "markdown",
      "source": [
        "클래스 연산자 오버로딩 메서드\n",
        "\n",
        "> Vector Class\n",
        "> self._x와 같이 nonpublic 멤버변수는 import되지 않고 감춰지므로 좌표값을 참조하기 위해 magic method `__getitem__`, `__setitem__`을 사용\n",
        "> * `__getitem__`\n",
        "  self의 k번째 값을 리턴하는 매직 메서드\n",
        "> * `__setitem__`\n",
        "  self의 k번째 값에 value값을 대입하는 매직 메서드"
      ],
      "metadata": {
        "id": "uBsGVULo0KzC"
      }
    },
    {
      "cell_type": "markdown",
      "source": [
        "\n",
        "> Point Class\n",
        "> * `__add__`, `__sub__`, `__mul__`, `__mod__`(%), `__truediv__`(/), `__floordiv__`(//)\n",
        "> * `__iadd__`, `__isub__`, `__imul__`, `__imod__`, `__itruediv__`, `__ifloordiv__`\n",
        "> * `__lt__`(<), `__le__`(<=), `__gt__`(>), `__ge__`(>=), `__eq__`(==), `__ne__`(!=)\n",
        "> * dot(p, q) = 두 벡터 p, q의 내적 = p*x * q*x + p*y * q*y\n",
        "> * dist(p, q) = 두 점 p, q의 길이\n",
        "> * length(p) = 벡터 p의 길이\n",
        "> * move(p, dx, dy) = 점 p를 x축으로 dx만큼, y축으로 dy만큼 더해 이동"
      ],
      "metadata": {
        "id": "5gUfCDdU0CZB"
      }
    },
    {
      "cell_type": "markdown",
      "source": [
        "---"
      ],
      "metadata": {
        "id": "zBOz4e5iy_LC"
      }
    },
    {
      "cell_type": "markdown",
      "source": [
        "## 해싱과 해시 테이블\n",
        "\n",
        "* 효율성을 유지하면서 심볼 테이블 크기를 조정하는 방법\n",
        "* 계산적 해시함수가 키 값을 균일하게 분포시켜 심볼 테이블 구현의 효율성을 보장하는 방법\n",
        "\n",
        "* 연속적인 호출로 연산의 동작이 변경될 수 있는 경우에 평균 런타임 성능을 결정하기 위한 분할 상환 분석(amortized analysis)\n",
        "* 기하학적 크기 재조정으로 비용이 큰 크기 조정 연산의 빈도를 줄이는 방법\n"
      ],
      "metadata": {
        "id": "D69gFHg7y7QQ"
      }
    },
    {
      "cell_type": "code",
      "source": [
        "class HashTable1:\n",
        "  \"\"\"entry 구조체는 (key, value)쌍으로 저장하며, HashTable1 클래스는 entry 객체를 M개 저장가능한 table 배열을 구성\"\"\"\n",
        "  def __init__(self, M):\n",
        "    self.table = [None] * M\n",
        "    self.M = M\n",
        "\n",
        "  def get(self, k):\n",
        "    \"\"\"key에 대한 해시코드를 계산하는 get 메서드\"\"\"\n",
        "    hashcode = hash(k) % self.M\n",
        "    # 삽입될 entry를 위해 해시 코드를 계산하기 위한 hash(key) % M을 사용한다\n",
        "    # 예측 불가능한 salt값이 추가된다.\n",
        "    return self.table[hashcode].value if self.table[hashcode] else None\n",
        "    # get(key)에 대한 hashcode로 식별된 버킷에서\n",
        "    # entry를 찾는데 실패하면 miss\n",
        "    # get(key)의 인자(파라미터)로 들어오는 key가 일치하는 key의 entry를 찾으면 hit\n",
        "    # 문제는 두 key에 대한 해시코드가 같은 버킷을 계산하는 경우에 발생하는 충돌을 해결하는 대안이 없다는 것\n",
        "\n",
        "  def put(self, k, v):\n",
        "    \"\"\"key에 대한 해시코드와 연관된 entry의 위치의 value를 수정하는 set 메서드\"\"\"\n",
        "    hashcode = hash(k) % self.M\n",
        "    # M은 연관된 값을 모두 저장할 공간을 만들기 위한 수로 최소한 예상되는 키의 수만큼 커야 한다.\n",
        "    entry = self.table\n",
        "    if entry:\n",
        "      if entry.key == k:\n",
        "        entry.value = v\n",
        "        # k에 대한 해시코드와 연관된 entry의 위치를 찾고, 있으면 값을 덮어씌우고 없으면 새로운 엔트리로 저장한다.\n",
        "      else:\n",
        "        raise RuntimeError(\n",
        "            \"Key Collision: {} and {}\".format(k, entry.key) )\n",
        "            # 서로 다른 두 키가 해시코드값으로 식별된 동일한 버킷에 매칭되면 충돌 발생\n",
        "    else:\n",
        "      self.table[hashcode] = Entry(k, v)"
      ],
      "metadata": {
        "id": "37mtEDYu_Yor"
      },
      "execution_count": 3,
      "outputs": []
    },
    {
      "cell_type": "code",
      "source": [
        "# help(HashTable1)"
      ],
      "metadata": {
        "id": "8Fz4MKQ9APUX"
      },
      "execution_count": 5,
      "outputs": []
    },
    {
      "cell_type": "code",
      "source": [
        "class HashTable2:\n",
        "  \"\"\"개방주소법 : 실행횟수 N으로 저장된 엔트리 수를 추적하므로 사용하지 않는 버킷이 최소 한 개 있다는 것을 보장한다\"\"\"\n",
        "  def __init__(self, M):\n",
        "    self.table = [None] * M\n",
        "    self.M = M\n",
        "    self.N = 0\n",
        "\n",
        "  def get(self, k):\n",
        "    \"\"\"key가 k인 Entry가 있을 수 있는 첫 번째 버킷에서 시작하여 인덱스를 1씩 증가시키면서 k와 연관된 value를 반환하는 get 메서드\"\"\"\n",
        "    hashcode = hash(k) % self.M\n",
        "    while self.table[hashcode]:\n",
        "      # self.table[hashcode] == True:\n",
        "      if self.table[hashcode].key == k:\n",
        "        return self.table[hashcode].value\n",
        "      hashcode = (hashcode + 1) % self.M\n",
        "      # k와 연관된 값이 아니라면, 다음 버킷으로 이동하며 필요 시 0으로 돌아간다\n",
        "    return None\n",
        "    # table[hashcode] 인덱스의 값이 비어있다면 k가 table의 key에 없음을 알 수 있다\n",
        "\n",
        "  def set(self, k, v):\n",
        "    hashcode = hash(k) % self.M\n",
        "    while self.table[hashcode]:\n",
        "      if self.table[hashcode].key == k:\n",
        "        self.table[hashcode].value = v\n",
        "        return\n",
        "      hashcode = (hashcode + 1) % self.M\n",
        "\n",
        "      if self.N >= self.M - 1:\n",
        "        raise RuntimeError(\"Table is full.\")\n",
        "        # k가 table의 key에서 없는 것을 확인하면, hashcode가 마지막 비어 있는 버킷일경우 RuntimeError를 발생시킨다.\n",
        "\n",
        "      self.table[hashcode] = Entry(k, v)\n",
        "      self.N += 1\n",
        "      # table[hashcode]에 새로운 Entry를 생성하고 key의 개수인 N을 업데이트한다"
      ],
      "metadata": {
        "id": "8Nt9jrFV9_6C"
      },
      "execution_count": null,
      "outputs": []
    },
    {
      "cell_type": "code",
      "source": [
        "class HashTable3:\n",
        "  \"\"\"분리 연쇄법: table의 같은 hashcode 값 인덱스 번호를 갖는 key node들의 연결 리스트 구현에서 저장할 수 있는 entry 개수 N을 제한하지 않는다\"\"\"\n",
        "  def __init__(self, M):\n",
        "    self.table = [None] * M\n",
        "    self.M = M\n",
        "    self.N = 0\n",
        "\n",
        "  def get(self, k):\n",
        "    \"\"\"k와 일치하는 key를 갖는 Entry를 찾을 때까지 next참조를 순회하는 get 메서드\"\"\"\n",
        "    hashcode = hash(k) % self.M\n",
        "    entry = self.table[hashcode]\n",
        "    while entry:\n",
        "      # self.table[hashcode] == True:\n",
        "      if entry.key == k:\n",
        "        return entry.value\n",
        "      entry = entry.next\n",
        "    return None\n",
        "    # table[hashcode] 인덱스의 값이 비어있다면 k가 table의 key에 없음을 알 수 있다\n",
        "\n",
        "  def set(self, k, v):\n",
        "    hashcode = hash(k) % self.M\n",
        "    entry = self.table[hashcode]\n",
        "    while entry:\n",
        "      # self.table[hashcode] == True:\n",
        "      if entry.key == k:\n",
        "        entry.value = v\n",
        "        return\n",
        "      entry = entry.next\n",
        "\n",
        "      self.table[hashcode] = LinkedEntry(k, v, self.table[hashcode])\n",
        "      self.N += 1\n",
        "      # table[hashcode]에 새로운 LinkedEntry(k, v)에 대한 새로운 노드를 생성하고\n",
        "\t\t\t# key의 개수인 N을 업데이트한다\n",
        "\n",
        "  def remove(self, k):\n",
        "    \"\"\"연결 리스트에서 엔트리를 삭제하는 remove 메서드\"\"\"\n",
        "    hashcode = hash(k) % self.M\n",
        "    entry = self.table[hashcode]\n",
        "    prev = None\n",
        "    while entry:\n",
        "      if entry.key == k:\n",
        "        if prev:\n",
        "          prev.next = entry.next\n",
        "          # 제거할 키 값을 가진 엔트리를 찾으면 탐색 동안 이전 노드의 참조 prev를 유지한다\n",
        "        else:\n",
        "          self.table[hashcode] = entry.next\n",
        "          # prev참조가 없으면 엔트리는 첫 노드다.\n",
        "          # 따라서 table의 hashcode의 값이 연결리스트 내 두 번째 노드를 가리키도록 설정한다\n",
        "        self.N -= 1\n",
        "        return entry.value\n",
        "        # k와 연관된(제거할) value를 반환한다\n",
        "\n",
        "      prev, entry = entry, entry.next\n",
        "      # 키를 못 찾은 경우 prev를 엔트리로, entry를 다음 엔트리로 설정하여 계속 while루프를 순회한다\n",
        "    return None\n",
        "    # k가 없어 None을 반환한다"
      ],
      "metadata": {
        "id": "lCY5NNzAKhDY"
      },
      "execution_count": 10,
      "outputs": []
    },
    {
      "cell_type": "code",
      "source": [],
      "metadata": {
        "id": "-n58M1LALoP0"
      },
      "execution_count": null,
      "outputs": []
    }
  ]
}