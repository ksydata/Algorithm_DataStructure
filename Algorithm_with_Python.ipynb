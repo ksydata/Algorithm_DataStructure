{
 "cells": [
  {
   "cell_type": "code",
   "execution_count": 1,
   "id": "dd7caec4",
   "metadata": {},
   "outputs": [],
   "source": [
    "### 모두의 알고리즘 with Python ###\n",
    "## 제1장. 알고리즘 기초 ##"
   ]
  },
  {
   "cell_type": "code",
   "execution_count": 6,
   "id": "27189dd9",
   "metadata": {},
   "outputs": [
    {
     "data": {
      "text/plain": [
       "2"
      ]
     },
     "execution_count": 6,
     "metadata": {},
     "output_type": "execute_result"
    }
   ],
   "source": [
    "# 1. 절댓값 구하기 알고리즘 (1) 부호 판단\n",
    "\n",
    "'''\n",
    "[SY version]\n",
    "def abs_sign(a):\n",
    "    a = 0\n",
    "    if a >= 0:\n",
    "        a = a\n",
    "    else a < 0:\n",
    "        a = -a\n",
    "'''\n",
    "\n",
    "import math\n",
    "    # [수학 모듈 사용]\n",
    "    \n",
    "def abs_sign(a):\n",
    "    if a >= 0:\n",
    "        return a\n",
    "    else:\n",
    "        return -a\n",
    "    # [절댓값 알고리즘 1] 부호판단\n",
    "    # [입력] 실수 a\n",
    "    # [출력] a의 절댓값\n",
    "\n",
    "abs_sign(-2)"
   ]
  },
  {
   "cell_type": "code",
   "execution_count": 8,
   "id": "77a974c9",
   "metadata": {},
   "outputs": [
    {
     "data": {
      "text/plain": [
       "4.0"
      ]
     },
     "execution_count": 8,
     "metadata": {},
     "output_type": "execute_result"
    }
   ],
   "source": [
    "# 1. 절댓값 구하기 알고리즘 (2) 제곱 후 제곱근\n",
    "\n",
    "def abs_square(a):\n",
    "    b = a**2 \n",
    "        # [제곱 a*a]\n",
    "    return math.sqrt(b)\n",
    "        # [수학모듈의 제곱근 함수]\n",
    "abs_square(-4)"
   ]
  },
  {
   "cell_type": "code",
   "execution_count": 62,
   "id": "f2665e36",
   "metadata": {},
   "outputs": [
    {
     "data": {
      "text/plain": [
       "55.0"
      ]
     },
     "execution_count": 62,
     "metadata": {},
     "output_type": "execute_result"
    }
   ],
   "source": [
    "# 2. 1부터 n까지 합 구하기 알고리즘\n",
    "# (1) n = 10\n",
    "# (2) n = 100\n",
    "\n",
    "# [SY version 1]\n",
    "def two_num_of_sum(n):\n",
    "    for i in range(10):\n",
    "        # n = 0\n",
    "        # i = 0\n",
    "            # [i = 0] : 20\n",
    "            # [if not] : 65\n",
    "        i += 1\n",
    "        n += i\n",
    "    return n\n",
    "\n",
    "two_num_of_sum(10)\n",
    "\n",
    "'''\n",
    "[SY version 2]\n",
    "f= lambda n : n*(n - 1)/2 if input(n) else return \"error\"\n",
    "'''\n",
    "\n",
    "# [SY version 3]\n",
    "def two_num_of_sum(n):\n",
    "    for i in range(10):\n",
    "        i += 1\n",
    "        n = i*(i + 1)/2\n",
    "    return n\n",
    "    \n",
    "two_num_of_sum(10)"
   ]
  },
  {
   "cell_type": "code",
   "execution_count": 60,
   "id": "3face416",
   "metadata": {},
   "outputs": [],
   "source": [
    "'''\n",
    "[1부터 n까지 합 구하기 알고리즘]\n",
    "\n",
    "i. \"합을 기록할 변수 s\"를 만들고 0을 저장\n",
    "ii. 변수 i를 만들어 1부터 n까지의 숫자를 1씩 증가시키며 반복\n",
    "iii.[반복 블록] 기존의 s에 i를 더하여 얻은 값을 다시 s에 저장\n",
    "iv. 반복이 끝났을 때 s에 저장된 값 = 결과값\n",
    "'''\n",
    "\n",
    "def twonum_of_sum(n):\n",
    "    s = 0\n",
    "    for i in range(1, n+1):\n",
    "        s = s + i\n",
    "    return s\n",
    "\n",
    "twonum_of_sum(10)"
   ]
  },
  {
   "cell_type": "code",
   "execution_count": 61,
   "id": "aa193891",
   "metadata": {
    "collapsed": true
   },
   "outputs": [
    {
     "data": {
      "text/plain": [
       "55"
      ]
     },
     "execution_count": 61,
     "metadata": {},
     "output_type": "execute_result"
    }
   ],
   "source": []
  },
  {
   "cell_type": "code",
   "execution_count": 69,
   "id": "f554487f",
   "metadata": {},
   "outputs": [
    {
     "data": {
      "text/plain": [
       "12"
      ]
     },
     "execution_count": 69,
     "metadata": {},
     "output_type": "execute_result"
    }
   ],
   "source": [
    "from dataclasses import dataclass\n",
    "    # [파이썬 구조체와 클래스 구현]\n",
    "    \n",
    "@dataclass\n",
    "class Rectangle:\n",
    "    width : int\n",
    "    height : int\n",
    "    \n",
    "    def area(self):\n",
    "        return self.width * self.height\n",
    "    \n",
    "rect = Rectangle(3, 4)\n",
    "rect.area()"
   ]
  },
  {
   "cell_type": "code",
   "execution_count": 84,
   "id": "75769c38",
   "metadata": {},
   "outputs": [
    {
     "name": "stdout",
     "output_type": "stream",
     "text": [
      "0.008897초 걸렸습니다.\n"
     ]
    }
   ],
   "source": [
    "# 2. 1부터 n까지 연속한 숫자의 제곱 합 구하기 알고리즘\n",
    "\n",
    "# [SY version]\n",
    "\n",
    "import timeit\n",
    " \n",
    "start_time = timeit.default_timer() \n",
    "    # [시작 시간 체크]\n",
    " \n",
    "def num_squared_sum(n):\n",
    "    s = 0\n",
    "    for i in range(1, n+1):\n",
    "        s = s + i**2\n",
    "    return s\n",
    "\n",
    "num_squared_sum(10000)\n",
    "\n",
    "terminate_time = timeit.default_timer() \n",
    "    # [종료 시간 체크]\n",
    "    \n",
    "print(\"%f초 걸렸습니다.\" % (terminate_time - start_time)) \n",
    "    # [0.008897초]"
   ]
  },
  {
   "cell_type": "code",
   "execution_count": 85,
   "id": "3e44aaaa",
   "metadata": {},
   "outputs": [
    {
     "name": "stdout",
     "output_type": "stream",
     "text": [
      "0.000257초 걸렸습니다.\n"
     ]
    }
   ],
   "source": [
    "import timeit\n",
    " \n",
    "start_time = timeit.default_timer() \n",
    "    # [시작 시간 체크]\n",
    " \n",
    "def num_squared_sum(n):\n",
    "   return n * (n + 1) * (2*n + 1) // 6\n",
    "\n",
    "num_squared_sum(10000)\n",
    "\n",
    "terminate_time = timeit.default_timer() \n",
    "    # [종료 시간 체크]\n",
    "    \n",
    "print(\"%f초 걸렸습니다.\" % (terminate_time - start_time)) \n",
    "    # [0.000257초]"
   ]
  },
  {
   "cell_type": "code",
   "execution_count": null,
   "id": "220bc19c",
   "metadata": {},
   "outputs": [],
   "source": []
  },
  {
   "cell_type": "code",
   "execution_count": null,
   "id": "df9d9b31",
   "metadata": {},
   "outputs": [],
   "source": [
    "# 3. 주어진 숫자 n개 중 최댓값 찾기 알고리즘\n",
    "# [list function] len()_append()_insert(i, x)_pop(i)_clear()_x in a\n",
    "\n",
    "# [SY version]\n",
    "\n",
    "def max_search(n):\n",
    "    list = [17, 92, 18, 58, 7, 33, 42]\n",
    "    \n",
    "    for i in list:\n",
    "        if len(list) % 2 != 0:\n",
    "            list[len(list) / 2]"
   ]
  }
 ],
 "metadata": {
  "kernelspec": {
   "display_name": "Python 3 (ipykernel)",
   "language": "python",
   "name": "python3"
  },
  "language_info": {
   "codemirror_mode": {
    "name": "ipython",
    "version": 3
   },
   "file_extension": ".py",
   "mimetype": "text/x-python",
   "name": "python",
   "nbconvert_exporter": "python",
   "pygments_lexer": "ipython3",
   "version": "3.9.7"
  }
 },
 "nbformat": 4,
 "nbformat_minor": 5
}
