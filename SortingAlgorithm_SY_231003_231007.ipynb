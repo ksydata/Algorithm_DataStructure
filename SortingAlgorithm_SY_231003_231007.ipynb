{
  "nbformat": 4,
  "nbformat_minor": 0,
  "metadata": {
    "colab": {
      "provenance": [],
      "authorship_tag": "ABX9TyOVVoI4bItucFbGi5vd0all",
      "include_colab_link": true
    },
    "kernelspec": {
      "name": "python3",
      "display_name": "Python 3"
    },
    "language_info": {
      "name": "python"
    }
  },
  "cells": [
    {
      "cell_type": "markdown",
      "metadata": {
        "id": "view-in-github",
        "colab_type": "text"
      },
      "source": [
        "<a href=\"https://colab.research.google.com/github/ksydata/Algorithm_DataStructure/blob/main/SortingAlgorithm_SY_231003_231007.ipynb\" target=\"_parent\"><img src=\"https://colab.research.google.com/assets/colab-badge.svg\" alt=\"Open In Colab\"/></a>"
      ]
    },
    {
      "cell_type": "markdown",
      "source": [
        "## 정렬 알고리즘\n",
        "\n",
        "1. 리스트에서 가장 큰 값 찾기\n",
        "  \n",
        "    flawed(), largest(), alternate()\n",
        "\n",
        "2. 리스트에서 가장 큰 두 수 찾기\n",
        "\n",
        "    largest_two(), sorting_two(), double_two(), mutable_two(), tournament()"
      ],
      "metadata": {
        "id": "f7hgybZjJMCQ"
      }
    },
    {
      "cell_type": "code",
      "source": [
        "import numpy as np\n",
        "import pandas as pd\n",
        "import os\n",
        "from typing import *\n",
        "import time"
      ],
      "metadata": {
        "id": "XlcFQ8km2KyN"
      },
      "execution_count": null,
      "outputs": []
    },
    {
      "cell_type": "markdown",
      "source": [
        "### 1.리스트에서 가장 큰 값 찾기\n",
        "* 적어도 하나의 값을 가지는 리스트 my_list\n",
        "* 각 값을 my_max와 두 수 비교하여 : **미만 연산자 활용**\n",
        "* 더 큰 값이 있으면 my_max를 업데이트하여\n",
        "* 가장 큰 값을 찾는 방식"
      ],
      "metadata": {
        "id": "7JeEmMdE1ZoU"
      }
    },
    {
      "cell_type": "code",
      "execution_count": null,
      "metadata": {
        "id": "fE2H4jMn0kIp"
      },
      "outputs": [],
      "source": [
        "def flawed(my_list: List) -> int:\n",
        "  my_max = 0\n",
        "  for value in my_list:\n",
        "    if my_max < value:\n",
        "      my_max = value\n",
        "    else:\n",
        "      break\n",
        "  return my_max"
      ]
    },
    {
      "cell_type": "markdown",
      "source": [
        "* 크기가 N인 문제 인스턴스에서 flawed()는 미만 연산을 N회 실행"
      ],
      "metadata": {
        "id": "SdveHCdF3EyC"
      }
    },
    {
      "cell_type": "code",
      "source": [
        "display([3*n for n in range(1, 10, 1)])\n",
        "flawed(my_list = [3*n for n in range(1, 10, 1)])"
      ],
      "metadata": {
        "colab": {
          "base_uri": "https://localhost:8080/",
          "height": 54
        },
        "id": "kEzkSB-T0v2A",
        "outputId": "ff479fce-8711-4980-804d-7c7529225150"
      },
      "execution_count": null,
      "outputs": [
        {
          "output_type": "display_data",
          "data": {
            "text/plain": [
              "[3, 6, 9, 12, 15, 18, 21, 24, 27]"
            ]
          },
          "metadata": {}
        },
        {
          "output_type": "execute_result",
          "data": {
            "text/plain": [
              "27"
            ]
          },
          "metadata": {},
          "execution_count": 7
        }
      ]
    },
    {
      "cell_type": "markdown",
      "source": [
        "* flawed()는 0(my_max)보다 큰 수가 적어도 한 개 있다고 가정한다는 결함이 존재"
      ],
      "metadata": {
        "id": "6CVRSwuW4FL-"
      }
    },
    {
      "cell_type": "code",
      "source": [
        "display([3*n for n in range(-10, -1, 1)])\n",
        "flawed(my_list = [3*n for n in range(-10, -1, 1)])"
      ],
      "metadata": {
        "colab": {
          "base_uri": "https://localhost:8080/",
          "height": 54
        },
        "id": "vDFbCZzo28cl",
        "outputId": "b9f50377-09c7-4351-b9e0-4b7a685f77d6"
      },
      "execution_count": null,
      "outputs": [
        {
          "output_type": "display_data",
          "data": {
            "text/plain": [
              "[-30, -27, -24, -21, -18, -15, -12, -9, -6]"
            ]
          },
          "metadata": {}
        },
        {
          "output_type": "execute_result",
          "data": {
            "text/plain": [
              "0"
            ]
          },
          "metadata": {},
          "execution_count": 10
        }
      ]
    },
    {
      "cell_type": "markdown",
      "source": [
        "* my_list가 빈 리스트인 경우에도 가장 작은 값으로 설정된 값을 반환한다는 결함이 존재"
      ],
      "metadata": {
        "id": "IDX31BOc33Um"
      }
    },
    {
      "cell_type": "code",
      "source": [
        "def flawed2(my_list: List) -> int:\n",
        "  my_max = float(\"-inf\")\n",
        "  for value in my_list:\n",
        "    if my_max < value:\n",
        "      my_max = value\n",
        "    else:\n",
        "      break\n",
        "  return my_max"
      ],
      "metadata": {
        "id": "R_zpGRJQ3XkW"
      },
      "execution_count": null,
      "outputs": []
    },
    {
      "cell_type": "code",
      "source": [
        "display([3*n for n in range(-10, -1, 1)])\n",
        "flawed2(my_list = [3*n for n in range(-10, -1, 1)])"
      ],
      "metadata": {
        "colab": {
          "base_uri": "https://localhost:8080/",
          "height": 54
        },
        "id": "IcKmajE53tqg",
        "outputId": "ef88c070-88f0-49d6-cb2f-d4abdd22373c"
      },
      "execution_count": null,
      "outputs": [
        {
          "output_type": "display_data",
          "data": {
            "text/plain": [
              "[-30, -27, -24, -21, -18, -15, -12, -9, -6]"
            ]
          },
          "metadata": {}
        },
        {
          "output_type": "execute_result",
          "data": {
            "text/plain": [
              "-6"
            ]
          },
          "metadata": {},
          "execution_count": 14
        }
      ]
    },
    {
      "cell_type": "code",
      "source": [
        "flawed2(my_list = [])"
      ],
      "metadata": {
        "colab": {
          "base_uri": "https://localhost:8080/"
        },
        "id": "A3clqX3W3xLq",
        "outputId": "c8ba9272-0ab3-4210-e850-7ed01814e8b6"
      },
      "execution_count": null,
      "outputs": [
        {
          "output_type": "execute_result",
          "data": {
            "text/plain": [
              "-inf"
            ]
          },
          "metadata": {},
          "execution_count": 15
        }
      ]
    },
    {
      "cell_type": "markdown",
      "source": [
        "* 주요 연산 횟수를 계산\n",
        "* 원소가 없더라도 상관없는 리스트 my_list의 값 중\n",
        "* 하나의 값을 my_max로 선택한 뒤\n",
        "* 나머지 값들이 모두 my_max보다 큰지 확인하는 방식"
      ],
      "metadata": {
        "id": "9yGBo_uj4DlW"
      }
    },
    {
      "cell_type": "code",
      "source": [
        "# SY's Trial\n",
        "def largest(my_list: List) -> int:\n",
        "  if len(my_list) > 0:\n",
        "    my_max = my_list[0]\n",
        "    for value in my_list[1:]:\n",
        "      if my_max < value:\n",
        "        my_max = value\n",
        "      else:\n",
        "        break\n",
        "  else:\n",
        "    return None\n",
        "  return my_max"
      ],
      "metadata": {
        "id": "PU3rFAoS4APC"
      },
      "execution_count": null,
      "outputs": []
    },
    {
      "cell_type": "code",
      "source": [
        "largest(my_list = [3*n for n in range(-10, -1, 1)])"
      ],
      "metadata": {
        "colab": {
          "base_uri": "https://localhost:8080/"
        },
        "id": "ywemkM_h6hVv",
        "outputId": "fa069ecf-4ebe-45c8-d72a-80df1b305e7c"
      },
      "execution_count": null,
      "outputs": [
        {
          "output_type": "execute_result",
          "data": {
            "text/plain": [
              "-6"
            ]
          },
          "metadata": {},
          "execution_count": 17
        }
      ]
    },
    {
      "cell_type": "code",
      "source": [
        "largest(my_list = [])"
      ],
      "metadata": {
        "id": "4qUMOf1S6l-y"
      },
      "execution_count": null,
      "outputs": []
    },
    {
      "cell_type": "markdown",
      "source": [
        "* 빈 리스트로 largest()나 max()를 수행하면 런타임 예외 오류 발생(적어도 값이 하나 이상인 my_list이어야 한다는 전제)"
      ],
      "metadata": {
        "id": "U2Lmy6x37iMb"
      }
    },
    {
      "cell_type": "code",
      "source": [
        "# Solution\n",
        "def largest2(my_list):\n",
        "  my_max = my_list[0]\n",
        "  for index in range(1, len(my_list), 1):\n",
        "    if my_max < my_list[index]:\n",
        "      my_max = my_list[index]\n",
        "  return my_max"
      ],
      "metadata": {
        "id": "U8mW6-L66okq"
      },
      "execution_count": null,
      "outputs": []
    },
    {
      "cell_type": "code",
      "source": [
        "largest2(my_list = [])\n",
        "# IndexError: list index out of range"
      ],
      "metadata": {
        "id": "a2GSihzO7QlT"
      },
      "execution_count": null,
      "outputs": []
    },
    {
      "cell_type": "markdown",
      "source": [
        "* my_list에서 가장 **큰 값의 위치**를 찾는 접근 방식\n",
        "* my_list에 있는 각 값을 반복적으로 확인하여 리스트 내 다른 값들보다 크거나 같은지 비교\n",
        "\n",
        "\n",
        "* my_list를 순회할 때, 각 값 value는 가장 큰 값이 될 수 있다.\n",
        "* value가 다른 값 item보다 작으면(if value < item) 순회를 멈추고(break)\n",
        "* value가 가장 큰 값이 아닌 것으로 기록한다. (value_is_largest = False)\n",
        "* value_is_largest = True이면 value가 my_list에서 최댓값이므로 value를 반환한다.\n",
        "* my_list가 빈 리스트이면 None을 반환한다. (IndexError: list index out of range에 대응)"
      ],
      "metadata": {
        "id": "OFyPPSm276Tm"
      }
    },
    {
      "cell_type": "code",
      "source": [
        "def alternate(my_list: List):\n",
        "  for value in my_list:\n",
        "    value_is_largest = True\n",
        "\n",
        "    for item in my_list:\n",
        "      if value < item:\n",
        "        value_is_largest = False\n",
        "        break\n",
        "\n",
        "    if value_is_largest:\n",
        "      # value_is_largest = True(else)\n",
        "      return value\n",
        "\n",
        "  return None"
      ],
      "metadata": {
        "id": "TORhaUpD7R7C"
      },
      "execution_count": null,
      "outputs": []
    },
    {
      "cell_type": "markdown",
      "source": [
        "* value에 대한 for loop은 최댓값을 찾으면 중단된다는 점"
      ],
      "metadata": {
        "id": "LbAyhvmuBSuO"
      }
    },
    {
      "cell_type": "code",
      "source": [
        "display([3*n for n in range(-10, -1, 1)])\n",
        "alternate(my_list = [3*n for n in range(-10, -1, 1)])"
      ],
      "metadata": {
        "colab": {
          "base_uri": "https://localhost:8080/",
          "height": 54
        },
        "id": "99e6zWGKA0SL",
        "outputId": "e106cf28-fe5e-47e9-eaa4-d51a097a4f61"
      },
      "execution_count": null,
      "outputs": [
        {
          "output_type": "display_data",
          "data": {
            "text/plain": [
              "[-30, -27, -24, -21, -18, -15, -12, -9, -6]"
            ]
          },
          "metadata": {}
        },
        {
          "output_type": "execute_result",
          "data": {
            "text/plain": [
              "-6"
            ]
          },
          "metadata": {},
          "execution_count": 38
        }
      ]
    },
    {
      "cell_type": "code",
      "source": [
        "alternate(my_list = [])"
      ],
      "metadata": {
        "id": "nfxOg89gA3po"
      },
      "execution_count": null,
      "outputs": []
    },
    {
      "cell_type": "markdown",
      "source": [
        "* 최상의 경우 : 리스트가 내림차순 정렬된 경우 미만 연산이 원소 수만큼 실행된다. **N회**\n",
        "* 리스트의 모든 요소를 한 번씩 확인하는 작업은 입력 크기에 비례하여 진행된다. (선형 탐색)"
      ],
      "metadata": {
        "id": "EBQ26sIqCh0D"
      }
    },
    {
      "cell_type": "code",
      "source": [
        "before = time.process_time()\n",
        "alternate(my_list = [9, 5, 2, 1, 3, 4])\n",
        "after = time.process_time()\n",
        "\n",
        "print(after - before)"
      ],
      "metadata": {
        "colab": {
          "base_uri": "https://localhost:8080/"
        },
        "id": "xNsQYEIxA-oy",
        "outputId": "8a90404d-544b-4aa3-e06e-a265e559d7dd"
      },
      "execution_count": null,
      "outputs": [
        {
          "output_type": "stream",
          "name": "stdout",
          "text": [
            "0.00011376699999843254\n"
          ]
        }
      ]
    },
    {
      "cell_type": "markdown",
      "source": [
        "* 최악의 경우 : 리스트가 오름차순 정렬된 경우 모든 값을 순회한다. (N^2 + 3N - 2)/2 **O(N^2)**\n",
        "* 이중 반복문을 사용하여 리스트의 모든 요소 쌍을 확인하는 작업은 입력 크기의 제곱에 비례한다.\n",
        "* 현재 데이터의 상태와 상관없이 무조건 모든 원소를 비교하교 위치를 바꾼다."
      ],
      "metadata": {
        "id": "MtM4TgBhDwEb"
      }
    },
    {
      "cell_type": "code",
      "source": [
        "before = time.process_time()\n",
        "alternate(my_list = [1, 2, 3, 4, 5, 9])\n",
        "after = time.process_time()\n",
        "\n",
        "print(after - before)"
      ],
      "metadata": {
        "colab": {
          "base_uri": "https://localhost:8080/"
        },
        "id": "IDh5z2acDjGM",
        "outputId": "b3f9e3f8-71bb-4792-f09b-64896299011f"
      },
      "execution_count": null,
      "outputs": [
        {
          "output_type": "stream",
          "name": "stdout",
          "text": [
            "0.00014050400000087393\n"
          ]
        }
      ]
    },
    {
      "cell_type": "code",
      "source": [
        "def alternate2(my_list: List):\n",
        "  my_list.sort(reverse = True)\n",
        "  # my_list.sort(key = lambda x: x[1], reverse = True)\n",
        "  print(my_list)\n",
        "  for value in my_list:\n",
        "    value_is_largest = True\n",
        "\n",
        "    for item in my_list:\n",
        "      if value < item:\n",
        "        value_is_largest = False\n",
        "        break\n",
        "\n",
        "    if value_is_largest:\n",
        "      # value_is_largest = True(else)\n",
        "      return value\n",
        "\n",
        "  return None"
      ],
      "metadata": {
        "id": "8I64IgmcFlwF"
      },
      "execution_count": null,
      "outputs": []
    },
    {
      "cell_type": "code",
      "source": [
        "before = time.process_time()\n",
        "alternate2(my_list = [1, 2, 3, 4, 5, 9])\n",
        "after = time.process_time()\n",
        "\n",
        "print(after - before)"
      ],
      "metadata": {
        "colab": {
          "base_uri": "https://localhost:8080/"
        },
        "id": "ZxuqBvpBDqug",
        "outputId": "65c14bfe-2a47-4723-81bb-26d394b7056e"
      },
      "execution_count": null,
      "outputs": [
        {
          "output_type": "stream",
          "name": "stdout",
          "text": [
            "[9, 5, 4, 3, 2, 1]\n",
            "0.0009332370000016965\n"
          ]
        }
      ]
    },
    {
      "cell_type": "markdown",
      "source": [
        "### 2.리스트에서 가장 큰 두 수 찾기"
      ],
      "metadata": {
        "id": "MSnSViPMJH1B"
      }
    },
    {
      "cell_type": "code",
      "source": [
        "# SY's Trial\n",
        "def largest_two(my_list):\n",
        "  my_list.sort(reverse = True)\n",
        "  if len(my_list) > 1:\n",
        "    return my_list[0], my_list[1]\n",
        "  else:\n",
        "    return None"
      ],
      "metadata": {
        "id": "SKjYHAm4FeLA"
      },
      "execution_count": null,
      "outputs": []
    },
    {
      "cell_type": "code",
      "source": [
        "largest_two(my_list = [1, 2, 3, 4, 5, 9])"
      ],
      "metadata": {
        "colab": {
          "base_uri": "https://localhost:8080/"
        },
        "id": "uTFqpW38KZQX",
        "outputId": "fb281f56-8782-4553-f6a4-1eb006d9a739"
      },
      "execution_count": null,
      "outputs": [
        {
          "output_type": "execute_result",
          "data": {
            "text/plain": [
              "(9, 5)"
            ]
          },
          "metadata": {},
          "execution_count": 64
        }
      ]
    },
    {
      "cell_type": "markdown",
      "source": [
        "* my_list의 처음 두 값으로 my_max, my_second를 설정한다.\n",
        "* my_list[index]가 새로 찾은 최댓값이면 my_max를 my_list[index]로 설정하고,\n",
        "* **이전 my_max는 my_second에 넣는다.**\n",
        "* my_list[index]가 second보다 클 경우 다만, my_max보다 작을 경우\n",
        "* **my_second만 업데이트한다.**(my_second <= my_list[index] <= my_max)"
      ],
      "metadata": {
        "id": "S_OANFcIRqmW"
      }
    },
    {
      "cell_type": "markdown",
      "source": [
        "* 최상의 경우 : 두 값을 찾기 위한 미만 연산이 N-1회 수행된다."
      ],
      "metadata": {
        "id": "zyrd8Tc2S3n1"
      }
    },
    {
      "cell_type": "markdown",
      "source": [
        "* 최악의 경우 : for loop 내의 if 조건의 미만 연산이 False일 경우, 미만 연산은 1 + 2(N-2) = 2N-3회 실행된다.\n",
        "* 2N-3 : **두 번째로 큰 값을 찾기 위해 가장 큰 값을 제외하고, N-1-1회 (N-1 + N-2)**\n",
        "* **my_list가 내림차순일 때 미만 연산이 가장 많이 실행된다(?)**"
      ],
      "metadata": {
        "id": "Mm3QOmiFSXl4"
      }
    },
    {
      "cell_type": "code",
      "source": [
        "def largest_two(my_list: List = []):\n",
        "    length = len(my_list)\n",
        "    if length > 1:\n",
        "        my_max, my_second = my_list[0:2]\n",
        "\n",
        "        for value in my_list[2:]:\n",
        "            if my_max < value:\n",
        "                my_second = my_max\n",
        "                my_max = value\n",
        "            elif my_second < value:\n",
        "                my_second = value\n",
        "            else: break\n",
        "        return my_max, my_second\n",
        "    else: return None"
      ],
      "metadata": {
        "id": "dphseti7Tg5J"
      },
      "execution_count": null,
      "outputs": []
    },
    {
      "cell_type": "markdown",
      "source": [
        "* my_list의 값을 내림차순으로 담고 있는 리스트를 새로 생성하고\n",
        "* (원본 문제 인스턴스의 복사본을 만들어 추가 저장공간을 필요로 하는 알고리즘)\n",
        "* 처음 두 값을 꺼내어 튜플로 반환"
      ],
      "metadata": {
        "id": "ghVaNlKIT_Te"
      }
    },
    {
      "cell_type": "code",
      "source": [
        "def sorting_two(my_list: List = []):"
      ],
      "metadata": {
        "id": "R9iuG8iPKZKJ"
      },
      "execution_count": null,
      "outputs": []
    },
    {
      "cell_type": "code",
      "source": [],
      "metadata": {
        "id": "xGKnkKf7TwtJ"
      },
      "execution_count": null,
      "outputs": []
    },
    {
      "cell_type": "markdown",
      "source": [
        "* max()를 활용하여 my_list의 최댓값 my_max를 찾고,\n",
        "* my_list의 복사본에서 최댓값을 제거한 후,\n",
        "* (원본 문제 인스턴스의 복사본을 만들어 추가 저장공간을 필요로 하는 알고리즘)\n",
        "* 다시 max()를 활용하여 두 번째로 큰 수 my_second를 찾는 방식"
      ],
      "metadata": {
        "id": "i-W_5bTKUWoo"
      }
    },
    {
      "cell_type": "code",
      "source": [
        "def double_two(my_list: List = []):\n",
        "    from copy import copy\n",
        "    my_list_copy = my_list\n",
        "    # my_list_copy = my_list.deep.copy()\n",
        "    my_max = max(my_list)\n",
        "    my_list_copy.remove(my_max)\n",
        "    my_second = my_list_copy.max()"
      ],
      "metadata": {
        "id": "-3eH9x5TKZIV"
      },
      "execution_count": null,
      "outputs": []
    },
    {
      "cell_type": "code",
      "source": [
        "double_two(my_list = [1, 2, 3, 4, 5, 9])"
      ],
      "metadata": {
        "id": "xAoP91PVTzH1"
      },
      "execution_count": null,
      "outputs": []
    },
    {
      "cell_type": "markdown",
      "source": [
        "* my_list에서 가장 큰 값의 위치를 찾고,\n",
        "* my_list에서 최댓값 my_max을 제거한다.\n",
        "* (문제 인스턴스에서 제공된 입력 자체를 수정하는 알고리즘, 가변 입력)\n",
        "* my_list에서 남은 값 중 가장 큰 값을 my_second로 설정"
      ],
      "metadata": {
        "id": "V9wvqKHgUlvp"
      }
    },
    {
      "cell_type": "code",
      "source": [
        "def mutable_two(my_list: List = []):"
      ],
      "metadata": {
        "id": "kLrke_SSTw_r"
      },
      "execution_count": null,
      "outputs": []
    },
    {
      "cell_type": "code",
      "source": [],
      "metadata": {
        "id": "LUsMoQdgVNFw"
      },
      "execution_count": null,
      "outputs": []
    },
    {
      "cell_type": "code",
      "source": [],
      "metadata": {
        "id": "Rz9ul9qqVQVx"
      },
      "execution_count": null,
      "outputs": []
    },
    {
      "cell_type": "markdown",
      "source": [
        "* 토너먼트 알고리즘\n",
        "\n",
        "* (RecordedItem Class)"
      ],
      "metadata": {
        "id": "eZbMSidNVWq2"
      }
    },
    {
      "cell_type": "code",
      "source": [],
      "metadata": {
        "id": "KhCwus7UVVw0"
      },
      "execution_count": null,
      "outputs": []
    },
    {
      "cell_type": "markdown",
      "source": [],
      "metadata": {
        "id": "yn9YkeioVNg5"
      }
    }
  ]
}