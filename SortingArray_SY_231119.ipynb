{
  "nbformat": 4,
  "nbformat_minor": 0,
  "metadata": {
    "colab": {
      "provenance": [],
      "authorship_tag": "ABX9TyPkaqyl8IDYl46wDDuLCpuX"
    },
    "kernelspec": {
      "name": "python3",
      "display_name": "Python 3"
    },
    "language_info": {
      "name": "python"
    }
  },
  "cells": [
    {
      "cell_type": "markdown",
      "source": [
        "### 정렬 알고리즘\n",
        "\n",
        "값의 컬렉션을 정렬된 순서로 구성하는 작업"
      ],
      "metadata": {
        "id": "WDIvbpTCnFBG"
      }
    },
    {
      "cell_type": "code",
      "execution_count": null,
      "metadata": {
        "id": "3WJr2BWxm5hk"
      },
      "outputs": [],
      "source": [
        "from abc import ABC, abstractmethod\n",
        "\n",
        "class SortingAlgorithm(ABC):\n",
        "  \"\"\"정렬 알고리즘의 일관성을 유지하는 SortingAlgorithm 부모 추상 클래스\"\"\"\n",
        "  @abstractmethod\n",
        "  def sorting(self, data):\n",
        "    \"\"\"상속(자식) 구체 클래스에서 반드시 오버라이딩해야 하는 sorting 추상 메서드\"\"\"\n",
        "    pass"
      ]
    },
    {
      "cell_type": "markdown",
      "source": [
        "선택 정렬(Selection Sort)이란 배열의 전체 값 중 최솟값이나 최댓값을 찾아[비교] 맨 앞이나 맨 뒤로 보내면서 원래 있던 값과 그 자리를 바꾸는 과정[교환]을 반복하여 정렬을 완료하는 알고리즘이다.\n",
        "\n",
        "배열을 정렬된 부분과 정렬되지 않은 부분으로 나누고(index 전후), 정렬된 부분의 끝(index+1)으로 이동시키는 과정을 반복한다.\n",
        "\n",
        "선택 정렬의 교환 횟수는 N-1인 반면 각 자료를 비교하는 횟수는 N(N-1)/2로 성능이 O(N^2)이다."
      ],
      "metadata": {
        "id": "H8YXZZ4ifQja"
      }
    },
    {
      "cell_type": "code",
      "source": [
        "class SelectionSort(SortingAlgorithm):\n",
        "  \"\"\"선택 정렬 구체 클래스\"\"\"\n",
        "  # def __init__(self, data: any):\n",
        "    # self.data = data\n",
        "\n",
        "  def sorting(self, data):\n",
        "    \"\"\"배열 등의 왼쪽에서 오른쪽으로 진행하면서\n",
        "    가장 작은 값을 반복적으로 선택하여 적합한 위치로 교환하는 메서드\"\"\"\n",
        "    length = len(data)\n",
        "\n",
        "    for index in range(0, length, 1):\n",
        "      min_index = index\n",
        "      # data 변수에 입력되는 배열에서 가장 작은 값의 인덱스 번호(위치)\n",
        "\n",
        "      for next_index in range(index+1, length, 1):\n",
        "        if data[next_index] < data[min_index]:\n",
        "        # 가장 작은 인덱스 위치의 값이 > 그 다음 인덱스 위치의 값보다 클 경우\n",
        "          min_index = next_index\n",
        "          # 가장 작은 값의 인덱스 위치를 그 다음 인덱스 위치로 변경\n",
        "          print(min_index, data)\n",
        "      data[index], data[min_index] = data[min_index], data[index]\n",
        "      # 가장 작은 인덱스 위치의 값이 < 그 다음 인덱스 위치의 값보다 작을 경우\n",
        "      # 정렬을 보장하기 위해 가장 작은 인덱스 위치의 값과 인덱스 위치 i의 값을 교환\n",
        "      # 즉, data[min_index]가 data[index]보다 앞에 있는 인덱스 위치로 재배치"
      ],
      "metadata": {
        "id": "KH2aAJnBZpuA"
      },
      "execution_count": 44,
      "outputs": []
    },
    {
      "cell_type": "code",
      "source": [
        "from typing import *\n",
        "\n",
        "if __name__ == \"__main__\":\n",
        "  \"\"\"프로그램의 실행을 위한 시작 지점 역할을 수행하는(제일 먼저 실행되는) 메인 함수\"\"\"\n",
        "  array_to_sort: List = [96, 88, 34, 8, 13, 65, 25, 72, 47, 51]\n",
        "\n",
        "  selection_to_sort = SelectionSort()\n",
        "  array_to_selectionsort = array_to_sort.copy()\n",
        "  # 원본 데이터를 복사하여 새로운 배열 생성\n",
        "  selection_to_sort.sorting(data = array_to_selectionsort)\n",
        "  print(array_to_selectionsort)\n",
        "  # 선택 정렬된 배열을 반환"
      ],
      "metadata": {
        "colab": {
          "base_uri": "https://localhost:8080/"
        },
        "id": "pWHfl4ilcMfo",
        "outputId": "32511477-97d3-4f72-f1cc-2564b6c21bb9"
      },
      "execution_count": 45,
      "outputs": [
        {
          "output_type": "stream",
          "name": "stdout",
          "text": [
            "1 [96, 88, 34, 8, 13, 65, 25, 72, 47, 51]\n",
            "2 [96, 88, 34, 8, 13, 65, 25, 72, 47, 51]\n",
            "3 [96, 88, 34, 8, 13, 65, 25, 72, 47, 51]\n",
            "2 [8, 88, 34, 96, 13, 65, 25, 72, 47, 51]\n",
            "4 [8, 88, 34, 96, 13, 65, 25, 72, 47, 51]\n",
            "6 [8, 13, 34, 96, 88, 65, 25, 72, 47, 51]\n",
            "4 [8, 13, 25, 96, 88, 65, 34, 72, 47, 51]\n",
            "5 [8, 13, 25, 96, 88, 65, 34, 72, 47, 51]\n",
            "6 [8, 13, 25, 96, 88, 65, 34, 72, 47, 51]\n",
            "5 [8, 13, 25, 34, 88, 65, 96, 72, 47, 51]\n",
            "8 [8, 13, 25, 34, 88, 65, 96, 72, 47, 51]\n",
            "9 [8, 13, 25, 34, 47, 65, 96, 72, 88, 51]\n",
            "7 [8, 13, 25, 34, 47, 51, 96, 72, 88, 65]\n",
            "9 [8, 13, 25, 34, 47, 51, 96, 72, 88, 65]\n",
            "[8, 13, 25, 34, 47, 51, 65, 72, 88, 96]\n"
          ]
        }
      ]
    },
    {
      "cell_type": "markdown",
      "source": [
        "삽입 정렬(Insertion Sort)이란 데이터를 순서대로 뽑아서 적합한 위치를 찾아 추가함으로써 정렬을 완료하는 알고리즘이다.\n",
        "\n",
        "삽입 정렬의 최악의 경우 교환 횟수와 비교 횟수는 N(N-1)/2로 성능이 O(N^2)이다. 참고로 삽입 정렬은 값 자체의 순서에 따라 성능이 다르며, 큰 값부터 내림차순 정렬일 경우 작은 값부터 오름차순 정렬된 배열로 자료를 재배치하려면 N^2회 비교가 필요하다."
      ],
      "metadata": {
        "id": "MTMQh5-eCnCC"
      }
    },
    {
      "cell_type": "code",
      "source": [
        "class InsertionSort(SortingAlgorithm):\n",
        "  \"\"\"삽입 정렬 구체 클래스\"\"\"\n",
        "  def sorting(self, data):\n",
        "    length = len(data)\n",
        "\n",
        "    for index in range(0+1, length, 1):\n",
        "    # 두번째 인덱스부터\n",
        "      min_index = index\n",
        "\n",
        "      for prior_index in range(index, 0, -1):\n",
        "      # 가장 작은 값의 인덱스 위치에서 1만큼 감소된 위치에서 for루프 반복\n",
        "        if data[prior_index-1] <= data[prior_index]:\n",
        "        # 바로 옆에 있는 데이터와 비교한다는 점에서 안정정렬\n",
        "          break\n",
        "          # 이전 인덱스의 값이 그전 인덱스의 값보다 크거나 같을 때 적절한 위치를 찾았으니 멈춤\n",
        "          print(min_index, data)\n",
        "      # 이전 인덱스의 값이 그전 인덱스의 값보다 작을 경우(오름차순 정렬에 안맞는 상황)\n",
        "      data[index], data[prior_index] = data[prior_index], data[index]\n",
        "      # 비순차적인 두 값에 따라 인덱스의 위치를 교환"
      ],
      "metadata": {
        "id": "hXW_5JOyibTK"
      },
      "execution_count": 50,
      "outputs": []
    },
    {
      "cell_type": "code",
      "source": [
        "if __name__ == \"__main__\":\n",
        "  array_to_sort: List = [96, 88, 34, 8, 13, 65, 25, 72, 47, 51]\n",
        "\n",
        "  insertion_to_sort = SelectionSort()\n",
        "  array_to_insertionsort = array_to_sort.copy()\n",
        "  # 원본 데이터를 복사하여 새로운 배열 생성\n",
        "  insertion_to_sort.sorting(data = array_to_insertionsort)\n",
        "  print(array_to_insertionsort)\n",
        "  # 삽입 정렬된 배열을 반환"
      ],
      "metadata": {
        "colab": {
          "base_uri": "https://localhost:8080/"
        },
        "id": "2cICCAK_EWfC",
        "outputId": "3e813292-206a-40f2-8d41-e12faf37990d"
      },
      "execution_count": 51,
      "outputs": [
        {
          "output_type": "stream",
          "name": "stdout",
          "text": [
            "1 [96, 88, 34, 8, 13, 65, 25, 72, 47, 51]\n",
            "2 [96, 88, 34, 8, 13, 65, 25, 72, 47, 51]\n",
            "3 [96, 88, 34, 8, 13, 65, 25, 72, 47, 51]\n",
            "2 [8, 88, 34, 96, 13, 65, 25, 72, 47, 51]\n",
            "4 [8, 88, 34, 96, 13, 65, 25, 72, 47, 51]\n",
            "6 [8, 13, 34, 96, 88, 65, 25, 72, 47, 51]\n",
            "4 [8, 13, 25, 96, 88, 65, 34, 72, 47, 51]\n",
            "5 [8, 13, 25, 96, 88, 65, 34, 72, 47, 51]\n",
            "6 [8, 13, 25, 96, 88, 65, 34, 72, 47, 51]\n",
            "5 [8, 13, 25, 34, 88, 65, 96, 72, 47, 51]\n",
            "8 [8, 13, 25, 34, 88, 65, 96, 72, 47, 51]\n",
            "9 [8, 13, 25, 34, 47, 65, 96, 72, 88, 51]\n",
            "7 [8, 13, 25, 34, 47, 51, 96, 72, 88, 65]\n",
            "9 [8, 13, 25, 34, 47, 51, 96, 72, 88, 65]\n",
            "[8, 13, 25, 34, 47, 51, 65, 72, 88, 96]\n"
          ]
        }
      ]
    },
    {
      "cell_type": "markdown",
      "source": [
        "버블 정렬(Bubble Sort)란 버블이 수면 위로 올라오는 것처럼 왼쪽에서 오른쪽 방향으로 옆에 있는 데이터와 비교하여 작은 값을 앞으로 보내는(교환) 과정을 반복하여 정렬을 완료하는 알고리즘이다.\n",
        "\n",
        "1루프를 순회하면 가장 큰 값이 배열 맨 뒤로 이동하므로, 정렬을 위해 1루프를 수행할 때마다 정렬에서 제외되는 데이터가 늘어난다.\n"
      ],
      "metadata": {
        "id": "1v67E5FoK4O5"
      }
    },
    {
      "cell_type": "code",
      "source": [
        "class BubbleSort(SortingAlgorithm):\n",
        "  \"\"\"버블 정렬 구체 클래스\"\"\"\n",
        "  def sorting(self, data):\n",
        "    length = len(data)\n",
        "\n",
        "    for index in range(0, length-1, 1):\n",
        "      for prior_index in range(0, length-2, 1):\n",
        "        if data[prior_index] > data[prior_index+1]:\n",
        "          # 인덱스와 이전인덱스의 요소가 크기 순이 아니면 교환하면\n",
        "          data[prior_index], data[prior_index+1] = data[prior_index+1], data[prior_index]\n",
        "          print(prior_index, data)"
      ],
      "metadata": {
        "id": "k_wVYEKhEkLf"
      },
      "execution_count": 55,
      "outputs": []
    },
    {
      "cell_type": "code",
      "source": [
        "if __name__ == \"__main__\":\n",
        "  array_to_sort: List = [96, 88, 34, 8, 13, 65, 25, 72, 47, 51]\n",
        "\n",
        "  bubble_to_sort = SelectionSort()\n",
        "  array_to_bubblesort = array_to_sort.copy()\n",
        "  # 원본 데이터를 복사하여 새로운 배열 생성\n",
        "  bubble_to_sort.sorting(data = array_to_bubblesort)\n",
        "  print(array_to_bubblesort)\n",
        "  # 삽입 정렬된 배열을 반환"
      ],
      "metadata": {
        "colab": {
          "base_uri": "https://localhost:8080/"
        },
        "id": "N5wc3f5RPXMS",
        "outputId": "f91d5dd2-abc0-4cfe-acac-5ce3c6150cfc"
      },
      "execution_count": 56,
      "outputs": [
        {
          "output_type": "stream",
          "name": "stdout",
          "text": [
            "1 [96, 88, 34, 8, 13, 65, 25, 72, 47, 51]\n",
            "2 [96, 88, 34, 8, 13, 65, 25, 72, 47, 51]\n",
            "3 [96, 88, 34, 8, 13, 65, 25, 72, 47, 51]\n",
            "2 [8, 88, 34, 96, 13, 65, 25, 72, 47, 51]\n",
            "4 [8, 88, 34, 96, 13, 65, 25, 72, 47, 51]\n",
            "6 [8, 13, 34, 96, 88, 65, 25, 72, 47, 51]\n",
            "4 [8, 13, 25, 96, 88, 65, 34, 72, 47, 51]\n",
            "5 [8, 13, 25, 96, 88, 65, 34, 72, 47, 51]\n",
            "6 [8, 13, 25, 96, 88, 65, 34, 72, 47, 51]\n",
            "5 [8, 13, 25, 34, 88, 65, 96, 72, 47, 51]\n",
            "8 [8, 13, 25, 34, 88, 65, 96, 72, 47, 51]\n",
            "9 [8, 13, 25, 34, 47, 65, 96, 72, 88, 51]\n",
            "7 [8, 13, 25, 34, 47, 51, 96, 72, 88, 65]\n",
            "9 [8, 13, 25, 34, 47, 51, 96, 72, 88, 65]\n",
            "[8, 13, 25, 34, 47, 51, 65, 72, 88, 96]\n"
          ]
        }
      ]
    },
    {
      "cell_type": "code",
      "source": [],
      "metadata": {
        "id": "_wtNkIEEQ-TP"
      },
      "execution_count": 56,
      "outputs": []
    }
  ]
}