{
  "nbformat": 4,
  "nbformat_minor": 0,
  "metadata": {
    "colab": {
      "provenance": [],
      "history_visible": true,
      "collapsed_sections": [
        "jH8SLj3-_vdO",
        "6FxEGGSdCAuz",
        "rEdIcpvbGn6e",
        "HkccCQn3K66I",
        "UgatpqHn1G-D",
        "MXqE_KTVNXpE",
        "z2k0VmVKIeGa",
        "sDUAf2jZhMXe",
        "8MKtPA1Rt_aM"
      ],
      "mount_file_id": "1h5AcYi2DB8eJaJJEZhLu4yk4J3JklVMN",
      "authorship_tag": "ABX9TyPdc+2nsEAe63YqYn66UN68"
    },
    "kernelspec": {
      "name": "python3",
      "display_name": "Python 3"
    },
    "language_info": {
      "name": "python"
    }
  },
  "cells": [
    {
      "cell_type": "markdown",
      "source": [
        "> # **데이터 과학을 위한 수학**"
      ],
      "metadata": {
        "id": "kwxNHlJd-gw8"
      }
    },
    {
      "cell_type": "markdown",
      "source": [
        "## **한 권으로 시작하는 파이썬 데이터 사이언스 입문 A to Z  &  공돌이의 수학정리노트**"
      ],
      "metadata": {
        "id": "SrG54YQ7twdi"
      }
    },
    {
      "cell_type": "code",
      "source": [
        "import numpy as np\n",
        "import math\n",
        "!pip install lea\n",
        "from lea import leaf\n",
        "  # [이산확률을 처리하는 모듈]\n",
        "import lea\n",
        "import scipy.linalg as LA\n",
        "  # [선형대수 모듈 사용, LU 분해 목적]"
      ],
      "metadata": {
        "id": "IthEY31C-cBz",
        "colab": {
          "base_uri": "https://localhost:8080/"
        },
        "outputId": "8ef7f367-6984-4da2-ed83-8dca1b9e6ad5"
      },
      "execution_count": 1,
      "outputs": [
        {
          "output_type": "stream",
          "name": "stdout",
          "text": [
            "Looking in indexes: https://pypi.org/simple, https://us-python.pkg.dev/colab-wheels/public/simple/\n",
            "Collecting lea\n",
            "  Downloading lea-3.4.2.tar.gz (86 kB)\n",
            "\u001b[K     |████████████████████████████████| 86 kB 4.0 MB/s \n",
            "\u001b[?25hBuilding wheels for collected packages: lea\n",
            "  Building wheel for lea (setup.py) ... \u001b[?25l\u001b[?25hdone\n",
            "  Created wheel for lea: filename=lea-3.4.2-py3-none-any.whl size=124488 sha256=30b3c4534fa4b451b704d16961a47d5ef19baf7d17c82dc3f25d345970817ec3\n",
            "  Stored in directory: /root/.cache/pip/wheels/2d/4d/cc/bf51f1873249189694bff9787a0bc73ad049fa932d2d6e9682\n",
            "Successfully built lea\n",
            "Installing collected packages: lea\n",
            "Successfully installed lea-3.4.2\n"
          ]
        }
      ]
    },
    {
      "cell_type": "code",
      "source": [
        "%matplotlib inline\n",
        "import matplotlib.pyplot as plt\n",
        "import pandas as pd"
      ],
      "metadata": {
        "id": "cFHQvfel9zC0"
      },
      "execution_count": 2,
      "outputs": []
    },
    {
      "cell_type": "markdown",
      "source": [
        "```\n",
        "# 구글 드라이브를 코랩 노트북 연동하여 패키지 코드 설치 없이 실행\n",
        "# 구글 드라이브에 라이브러리를 밀어넣는 방식으로 사용하지 않음 \n",
        "\n",
        "import os, sys\n",
        "from google.colab import drive\n",
        "drive.mout(\"/content/drive/\")\n",
        "\n",
        "pack_path = \"/content/packages\"\n",
        "os.mkdir(pack_path)\n",
        "os.symlink(\"/content/drive/MyDrive/colab Notebooks/pack_env\", pack_path)\n",
        "sys.path.instert(0, pack_path)\n",
        "```"
      ],
      "metadata": {
        "id": "zMcTwK2KIK4J"
      }
    },
    {
      "cell_type": "code",
      "source": [
        "!pip install pgmpy\n",
        "from pgmpy.factors.discrete import TabularCPD\n",
        "  # [조건부 확률을 구현하고 베이즈 정리를 적용하는 클래스]\n",
        "  # [베이즈 정리는 사건 A의 확률이 사건 B에 의해 갱신(update)된 확률을 계산]"
      ],
      "metadata": {
        "id": "jv6dubnoLWqg",
        "colab": {
          "base_uri": "https://localhost:8080/"
        },
        "outputId": "6b3fb17e-61e5-47bb-c3c5-bdbe9384825e"
      },
      "execution_count": 3,
      "outputs": [
        {
          "output_type": "stream",
          "name": "stdout",
          "text": [
            "Looking in indexes: https://pypi.org/simple, https://us-python.pkg.dev/colab-wheels/public/simple/\n",
            "Collecting pgmpy\n",
            "  Downloading pgmpy-0.1.20-py3-none-any.whl (1.9 MB)\n",
            "\u001b[K     |████████████████████████████████| 1.9 MB 8.4 MB/s \n",
            "\u001b[?25hRequirement already satisfied: joblib in /usr/local/lib/python3.8/dist-packages (from pgmpy) (1.2.0)\n",
            "Requirement already satisfied: scikit-learn in /usr/local/lib/python3.8/dist-packages (from pgmpy) (1.0.2)\n",
            "Requirement already satisfied: scipy in /usr/local/lib/python3.8/dist-packages (from pgmpy) (1.7.3)\n",
            "Requirement already satisfied: torch in /usr/local/lib/python3.8/dist-packages (from pgmpy) (1.13.0+cu116)\n",
            "Requirement already satisfied: tqdm in /usr/local/lib/python3.8/dist-packages (from pgmpy) (4.64.1)\n",
            "Requirement already satisfied: pandas in /usr/local/lib/python3.8/dist-packages (from pgmpy) (1.3.5)\n",
            "Requirement already satisfied: opt-einsum in /usr/local/lib/python3.8/dist-packages (from pgmpy) (3.3.0)\n",
            "Requirement already satisfied: networkx in /usr/local/lib/python3.8/dist-packages (from pgmpy) (2.8.8)\n",
            "Requirement already satisfied: statsmodels in /usr/local/lib/python3.8/dist-packages (from pgmpy) (0.12.2)\n",
            "Requirement already satisfied: pyparsing in /usr/local/lib/python3.8/dist-packages (from pgmpy) (3.0.9)\n",
            "Requirement already satisfied: numpy in /usr/local/lib/python3.8/dist-packages (from pgmpy) (1.21.6)\n",
            "Requirement already satisfied: python-dateutil>=2.7.3 in /usr/local/lib/python3.8/dist-packages (from pandas->pgmpy) (2.8.2)\n",
            "Requirement already satisfied: pytz>=2017.3 in /usr/local/lib/python3.8/dist-packages (from pandas->pgmpy) (2022.6)\n",
            "Requirement already satisfied: six>=1.5 in /usr/local/lib/python3.8/dist-packages (from python-dateutil>=2.7.3->pandas->pgmpy) (1.15.0)\n",
            "Requirement already satisfied: threadpoolctl>=2.0.0 in /usr/local/lib/python3.8/dist-packages (from scikit-learn->pgmpy) (3.1.0)\n",
            "Requirement already satisfied: patsy>=0.5 in /usr/local/lib/python3.8/dist-packages (from statsmodels->pgmpy) (0.5.3)\n",
            "Requirement already satisfied: typing-extensions in /usr/local/lib/python3.8/dist-packages (from torch->pgmpy) (4.4.0)\n",
            "Installing collected packages: pgmpy\n",
            "Successfully installed pgmpy-0.1.20\n"
          ]
        }
      ]
    },
    {
      "cell_type": "code",
      "execution_count": 4,
      "metadata": {
        "colab": {
          "base_uri": "https://localhost:8080/"
        },
        "id": "TxI0SISH8bsF",
        "outputId": "f310a0b2-fcb8-4d10-e5f2-2d664f49de88"
      },
      "outputs": [
        {
          "output_type": "execute_result",
          "data": {
            "text/plain": [
              "array([  1.,  13.,  36.,  70., 115., 171., 238., 316., 405., 505.])"
            ]
          },
          "metadata": {},
          "execution_count": 4
        }
      ],
      "source": [
        "# sigma(k) = n(n+!)/2\n",
        "# sigma(k^2) = n(n+1)(2n+1)/6\n",
        "\n",
        "y = np.linspace(1, 100, 10)\n",
        "y.cumsum()\n",
        "  # [누적합]"
      ]
    },
    {
      "cell_type": "code",
      "source": [
        "np.add(y, y)\n",
        "  # [벡터화 합 연산]"
      ],
      "metadata": {
        "colab": {
          "base_uri": "https://localhost:8080/"
        },
        "id": "Hvxsdni2-4tb",
        "outputId": "e3c657e5-f498-4f1a-e9ac-ea777d076004"
      },
      "execution_count": 5,
      "outputs": [
        {
          "output_type": "execute_result",
          "data": {
            "text/plain": [
              "array([  2.,  24.,  46.,  68.,  90., 112., 134., 156., 178., 200.])"
            ]
          },
          "metadata": {},
          "execution_count": 5
        }
      ]
    },
    {
      "cell_type": "code",
      "source": [
        "y.prod()\n",
        "  # [팩토리얼]\n",
        "y.cumprod()\n",
        "  # [원소의 누적곱]"
      ],
      "metadata": {
        "colab": {
          "base_uri": "https://localhost:8080/"
        },
        "id": "8-zaRJt2_BZD",
        "outputId": "0af5a8f4-8dcb-477e-a24b-07ba29b8772c"
      },
      "execution_count": 6,
      "outputs": [
        {
          "output_type": "execute_result",
          "data": {
            "text/plain": [
              "array([1.00000000e+00, 1.20000000e+01, 2.76000000e+02, 9.38400000e+03,\n",
              "       4.22280000e+05, 2.36476800e+07, 1.58439456e+09, 1.23582776e+11,\n",
              "       1.09988670e+13, 1.09988670e+15])"
            ]
          },
          "metadata": {},
          "execution_count": 6
        }
      ]
    },
    {
      "cell_type": "markdown",
      "source": [
        "##### 지수함수"
      ],
      "metadata": {
        "id": "jH8SLj3-_vdO"
      }
    },
    {
      "cell_type": "code",
      "source": [
        "x: float\n",
        "  # [x의 타입 어노테이션]"
      ],
      "metadata": {
        "id": "D7dFVz2L_xrQ"
      },
      "execution_count": 7,
      "outputs": []
    },
    {
      "cell_type": "code",
      "source": [
        "x = np.array(\n",
        "    [3, 4, 5, 6, 7, 8],\n",
        "    dtype = float\n",
        ")\n",
        "x.dtype"
      ],
      "metadata": {
        "colab": {
          "base_uri": "https://localhost:8080/"
        },
        "id": "dDpbw3vg_2hn",
        "outputId": "cc1db1bf-5b68-48ad-8c02-609d4cbc19f4"
      },
      "execution_count": 8,
      "outputs": [
        {
          "output_type": "execute_result",
          "data": {
            "text/plain": [
              "dtype('float64')"
            ]
          },
          "metadata": {},
          "execution_count": 8
        }
      ]
    },
    {
      "cell_type": "code",
      "source": [
        "x"
      ],
      "metadata": {
        "colab": {
          "base_uri": "https://localhost:8080/"
        },
        "id": "nGhRp_DAAAwk",
        "outputId": "4e094c03-685d-4c93-a2a5-531af3c91595"
      },
      "execution_count": 9,
      "outputs": [
        {
          "output_type": "execute_result",
          "data": {
            "text/plain": [
              "array([3., 4., 5., 6., 7., 8.])"
            ]
          },
          "metadata": {},
          "execution_count": 9
        }
      ]
    },
    {
      "cell_type": "code",
      "source": [
        "# numpy\n",
        "\n",
        "np.power(x, 2)\n",
        "  # [ndarray를 인자로 받아 모든 원소 제곱 (지수 계산]\n",
        "  # [단 power()은 지수를 음수로 표시할 수 없음]"
      ],
      "metadata": {
        "colab": {
          "base_uri": "https://localhost:8080/"
        },
        "id": "_EgFtMVRACVY",
        "outputId": "38e7248b-6aea-40bb-b59d-4207a29a5ae0"
      },
      "execution_count": 10,
      "outputs": [
        {
          "output_type": "execute_result",
          "data": {
            "text/plain": [
              "array([ 9., 16., 25., 36., 49., 64.])"
            ]
          },
          "metadata": {},
          "execution_count": 10
        }
      ]
    },
    {
      "cell_type": "code",
      "source": [
        "x ** -2"
      ],
      "metadata": {
        "colab": {
          "base_uri": "https://localhost:8080/"
        },
        "id": "WramvLQqBOtc",
        "outputId": "e2150da2-4293-49ec-d363-4488a9eedb22"
      },
      "execution_count": 11,
      "outputs": [
        {
          "output_type": "execute_result",
          "data": {
            "text/plain": [
              "array([0.11111111, 0.0625    , 0.04      , 0.02777778, 0.02040816,\n",
              "       0.015625  ])"
            ]
          },
          "metadata": {},
          "execution_count": 11
        }
      ]
    },
    {
      "cell_type": "code",
      "source": [
        "np.power(x, 1/2)\n",
        "  # [제곱근 처리는 분수로 인자 전달]"
      ],
      "metadata": {
        "colab": {
          "base_uri": "https://localhost:8080/"
        },
        "id": "HY41N7WpBRoU",
        "outputId": "8a9d40c6-14d5-413d-e92f-14776d08121d"
      },
      "execution_count": 12,
      "outputs": [
        {
          "output_type": "execute_result",
          "data": {
            "text/plain": [
              "array([1.73205081, 2.        , 2.23606798, 2.44948974, 2.64575131,\n",
              "       2.82842712])"
            ]
          },
          "metadata": {},
          "execution_count": 12
        }
      ]
    },
    {
      "cell_type": "code",
      "source": [
        "np.exp(x)\n",
        "  # [자연상수 e의 지수함수에 배열을 넣어 모든 원소의 값 계산]"
      ],
      "metadata": {
        "colab": {
          "base_uri": "https://localhost:8080/"
        },
        "id": "rBoAwiUeBWCq",
        "outputId": "e43917a5-a49a-4c9b-8d91-75c0e0b31e69"
      },
      "execution_count": 13,
      "outputs": [
        {
          "output_type": "execute_result",
          "data": {
            "text/plain": [
              "array([  20.08553692,   54.59815003,  148.4131591 ,  403.42879349,\n",
              "       1096.63315843, 2980.95798704])"
            ]
          },
          "metadata": {},
          "execution_count": 13
        }
      ]
    },
    {
      "cell_type": "code",
      "source": [
        "# math : Q&A\n",
        "\n",
        "math.pow(2, x[0])\n",
        "  # [scholar 값으로 처리하여 넘파이 배열의 1차원 원소를 제곱 처리]"
      ],
      "metadata": {
        "colab": {
          "base_uri": "https://localhost:8080/"
        },
        "id": "bc_uMoAFAb91",
        "outputId": "04537510-36f1-4019-cf8a-2f96977fa0f3"
      },
      "execution_count": 14,
      "outputs": [
        {
          "output_type": "execute_result",
          "data": {
            "text/plain": [
              "8.0"
            ]
          },
          "metadata": {},
          "execution_count": 14
        }
      ]
    },
    {
      "cell_type": "code",
      "source": [
        "for i in x:\n",
        "  print(math.exp( i ))\n",
        "    # [밑이 e일 경우 exp(), 2일 경우 exp2()]"
      ],
      "metadata": {
        "colab": {
          "base_uri": "https://localhost:8080/"
        },
        "id": "pu7xdPMJAyim",
        "outputId": "079edd3e-a7d4-4847-c75c-a6903a40d473"
      },
      "execution_count": 15,
      "outputs": [
        {
          "output_type": "stream",
          "name": "stdout",
          "text": [
            "20.085536923187668\n",
            "54.598150033144236\n",
            "148.4131591025766\n",
            "403.4287934927351\n",
            "1096.6331584284585\n",
            "2980.9579870417283\n"
          ]
        }
      ]
    },
    {
      "cell_type": "markdown",
      "source": [
        "##### 로그함수\n",
        "\n",
        "큰 수를 작은 수로 바꾸어 정규성을 높이고, \n",
        "분석에서 정확한 값을 구하기 위함\n",
        "\n",
        "```\n",
        "a^(logcb) = b^(logca)\n",
        "logaa^(logcb) = logab^(logca)\n",
        "logcb*logaa = logca * logab\n",
        "logcb - logca = logab(logcb/logca)\n",
        "logcb/logca = logab\n",
        "logcb = logab*logca\n",
        "logcb = logcb\n",
        "```"
      ],
      "metadata": {
        "id": "6FxEGGSdCAuz"
      }
    },
    {
      "cell_type": "code",
      "source": [
        "# 지수함수의 역함수 : 로그함수\n",
        "\n",
        "print(x)\n",
        "print(np.log(x))\n",
        "\n",
        "for i in x :\n",
        "  if i !=  8:\n",
        "    print(math.log( i ), end = \", \")\n",
        "  else:\n",
        "    print(math.log( i ))\n",
        "      # [밑이 e인 자연로그]"
      ],
      "metadata": {
        "colab": {
          "base_uri": "https://localhost:8080/"
        },
        "id": "F8mVVW1yBodm",
        "outputId": "c038d907-55b9-4ad7-c210-d553b7f340a7"
      },
      "execution_count": 16,
      "outputs": [
        {
          "output_type": "stream",
          "name": "stdout",
          "text": [
            "[3. 4. 5. 6. 7. 8.]\n",
            "[1.09861229 1.38629436 1.60943791 1.79175947 1.94591015 2.07944154]\n",
            "1.0986122886681098, 1.3862943611198906, 1.6094379124341003, 1.791759469228055, 1.9459101490553132, 2.0794415416798357\n"
          ]
        }
      ]
    },
    {
      "cell_type": "code",
      "source": [
        "np.log10(x)\n",
        "  # [밑이 10인 로그]"
      ],
      "metadata": {
        "colab": {
          "base_uri": "https://localhost:8080/"
        },
        "id": "cF0F4TWTFytu",
        "outputId": "559b6f4d-f766-4832-e050-5c5584e4fc2c"
      },
      "execution_count": 17,
      "outputs": [
        {
          "output_type": "execute_result",
          "data": {
            "text/plain": [
              "array([0.47712125, 0.60205999, 0.69897   , 0.77815125, 0.84509804,\n",
              "       0.90308999])"
            ]
          },
          "metadata": {},
          "execution_count": 17
        }
      ]
    },
    {
      "cell_type": "code",
      "source": [
        "x_ = np.linspace(1, 2000, 30)\n",
        "y_ = np.log(x_)\n",
        "\n",
        "plt.plot(x_, y_)\n",
        "plt.grid()\n",
        "plt.show()\n",
        "  # [로그 함수 시각화]"
      ],
      "metadata": {
        "colab": {
          "base_uri": "https://localhost:8080/",
          "height": 0
        },
        "id": "3qRpeM3XGVfd",
        "outputId": "3fcc7fa0-e202-4b65-e712-43a860dcb911"
      },
      "execution_count": 18,
      "outputs": [
        {
          "output_type": "display_data",
          "data": {
            "text/plain": [
              "<Figure size 432x288 with 1 Axes>"
            ],
            "image/png": "[encoded data removed]"
          },
          "metadata": {
            "needs_background": "light"
          }
        }
      ]
    },
    {
      "cell_type": "markdown",
      "source": [
        "##### 삼각함수\n",
        "\n",
        "특정한 각의 변화를 함수로 만든 것\n",
        "- 빗변과 높이의 비 : sin\n",
        "- 빗변과 밑변의 비 : cos\n",
        "- 밑변과 높이의 비 : tan"
      ],
      "metadata": {
        "id": "rEdIcpvbGn6e"
      }
    },
    {
      "cell_type": "code",
      "source": [
        "print(np.sin(0), np.cos(0), np.tan(0))\n",
        "  # [각도를 라디안으로 변환하려면 deg2rad()를 사용하여야 함]"
      ],
      "metadata": {
        "colab": {
          "base_uri": "https://localhost:8080/"
        },
        "id": "vg54W2uTGis_",
        "outputId": "f3051c61-ad0f-4280-b526-3dded7979139"
      },
      "execution_count": 19,
      "outputs": [
        {
          "output_type": "stream",
          "name": "stdout",
          "text": [
            "0.0 1.0 0.0\n"
          ]
        }
      ]
    },
    {
      "cell_type": "code",
      "source": [
        "np.sin(np.deg2rad( 5 ))"
      ],
      "metadata": {
        "colab": {
          "base_uri": "https://localhost:8080/"
        },
        "id": "yGp0akOqIA-Q",
        "outputId": "ed0bd8f9-36b2-4133-802f-214a01e82dba"
      },
      "execution_count": 20,
      "outputs": [
        {
          "output_type": "execute_result",
          "data": {
            "text/plain": [
              "0.08715574274765817"
            ]
          },
          "metadata": {},
          "execution_count": 20
        }
      ]
    },
    {
      "cell_type": "code",
      "source": [
        "np.sin(5 * np.pi / 180)\n",
        "  # [하나의 스칼라를 각으로 보고, 라디안으로 변환을 pi / 180로 곱하여 구함]"
      ],
      "metadata": {
        "colab": {
          "base_uri": "https://localhost:8080/"
        },
        "id": "clc6GlqkH0jG",
        "outputId": "0105ca5f-3188-4fba-a009-597c4b9c34e2"
      },
      "execution_count": 21,
      "outputs": [
        {
          "output_type": "execute_result",
          "data": {
            "text/plain": [
              "0.08715574274765817"
            ]
          },
          "metadata": {},
          "execution_count": 21
        }
      ]
    },
    {
      "cell_type": "markdown",
      "source": [
        "##### 집합, 경우의 수(순열과 조합)"
      ],
      "metadata": {
        "id": "HkccCQn3K66I"
      }
    },
    {
      "cell_type": "code",
      "source": [
        "a = np.array(\n",
        "    [[1, 2, 3], [3, 2, 1]],\n",
        "    dtype = int\n",
        ")"
      ],
      "metadata": {
        "id": "wleOZYtpHZdt"
      },
      "execution_count": 22,
      "outputs": []
    },
    {
      "cell_type": "code",
      "source": [
        "np.in1d(a, 3)\n",
        "np.isin(a, 3)\n",
        "  # [다차원 배열 a에 정수 3 원소 일치 여부 True]"
      ],
      "metadata": {
        "colab": {
          "base_uri": "https://localhost:8080/"
        },
        "id": "afQ1iS9TLVcx",
        "outputId": "8b923aef-70d4-4a15-d684-d837db9d5203"
      },
      "execution_count": 23,
      "outputs": [
        {
          "output_type": "execute_result",
          "data": {
            "text/plain": [
              "array([[False, False,  True],\n",
              "       [ True, False, False]])"
            ]
          },
          "metadata": {},
          "execution_count": 23
        }
      ]
    },
    {
      "cell_type": "code",
      "source": [
        "b = np.array(\n",
        "    [[1, 2, 7], [4, 5, 6]],\n",
        "    dtype = int\n",
        ")"
      ],
      "metadata": {
        "id": "iM-TCIazLpzA"
      },
      "execution_count": 24,
      "outputs": []
    },
    {
      "cell_type": "code",
      "source": [
        "a.shape == b.shape\n",
        "  # [다차원 배열의 형상 비교 2 by 3]"
      ],
      "metadata": {
        "colab": {
          "base_uri": "https://localhost:8080/"
        },
        "id": "UmjyJejqL6C2",
        "outputId": "1e1a9b39-4a59-41f8-b832-dbcb03596c64"
      },
      "execution_count": 25,
      "outputs": [
        {
          "output_type": "execute_result",
          "data": {
            "text/plain": [
              "True"
            ]
          },
          "metadata": {},
          "execution_count": 25
        }
      ]
    },
    {
      "cell_type": "code",
      "source": [
        "np.setdiff1d(a, b)\n",
        "  # [차집합]"
      ],
      "metadata": {
        "colab": {
          "base_uri": "https://localhost:8080/"
        },
        "id": "64MCfiJ-MBOU",
        "outputId": "4013012c-09cd-4070-f37a-f3c4cb20f172"
      },
      "execution_count": 26,
      "outputs": [
        {
          "output_type": "execute_result",
          "data": {
            "text/plain": [
              "array([3])"
            ]
          },
          "metadata": {},
          "execution_count": 26
        }
      ]
    },
    {
      "cell_type": "code",
      "source": [
        "np.intersect1d(a, b)\n",
        "  # [교집합]"
      ],
      "metadata": {
        "colab": {
          "base_uri": "https://localhost:8080/"
        },
        "id": "RNIfqyjbMLXq",
        "outputId": "fd9db44f-c760-446c-975c-19b93d63085c"
      },
      "execution_count": 27,
      "outputs": [
        {
          "output_type": "execute_result",
          "data": {
            "text/plain": [
              "array([1, 2])"
            ]
          },
          "metadata": {},
          "execution_count": 27
        }
      ]
    },
    {
      "cell_type": "code",
      "source": [
        "np.union1d(a, b)\n",
        "  # [합집합]"
      ],
      "metadata": {
        "colab": {
          "base_uri": "https://localhost:8080/"
        },
        "id": "uSzze5pOMS6i",
        "outputId": "e40c8651-b9e9-4ad9-9caf-a5e3b0728365"
      },
      "execution_count": 28,
      "outputs": [
        {
          "output_type": "execute_result",
          "data": {
            "text/plain": [
              "array([1, 2, 3, 4, 5, 6, 7])"
            ]
          },
          "metadata": {},
          "execution_count": 28
        }
      ]
    },
    {
      "cell_type": "code",
      "source": [
        "np.setxor1d(a, b)\n",
        "  # [대칭 차집합]"
      ],
      "metadata": {
        "colab": {
          "base_uri": "https://localhost:8080/"
        },
        "id": "tISbrQqMMY8R",
        "outputId": "7abfe08a-ceeb-4f9d-e01c-666528377660"
      },
      "execution_count": 29,
      "outputs": [
        {
          "output_type": "execute_result",
          "data": {
            "text/plain": [
              "array([3, 4, 5, 6, 7])"
            ]
          },
          "metadata": {},
          "execution_count": 29
        }
      ]
    },
    {
      "cell_type": "code",
      "source": [
        "np.union1d(a, b)\n",
        "np.intersect1d(a, b)"
      ],
      "metadata": {
        "colab": {
          "base_uri": "https://localhost:8080/"
        },
        "id": "aZiEEGkLMeQ5",
        "outputId": "11da6392-a68c-4fb3-838a-791b3282931c"
      },
      "execution_count": 30,
      "outputs": [
        {
          "output_type": "execute_result",
          "data": {
            "text/plain": [
              "array([1, 2])"
            ]
          },
          "metadata": {},
          "execution_count": 30
        }
      ]
    },
    {
      "cell_type": "code",
      "source": [
        "# nPr = n!/(n-r)! = P(n, r)\n",
        "\n",
        "n = 10\n",
        "r = 3\n",
        "p = np.arange(1, (n+1))"
      ],
      "metadata": {
        "id": "UggjBDYcfdoA"
      },
      "execution_count": 31,
      "outputs": []
    },
    {
      "cell_type": "code",
      "source": [
        "p"
      ],
      "metadata": {
        "colab": {
          "base_uri": "https://localhost:8080/"
        },
        "id": "1fYU8fohyen5",
        "outputId": "170619e0-361f-4514-a9f6-116e4a3f4dd9"
      },
      "execution_count": 32,
      "outputs": [
        {
          "output_type": "execute_result",
          "data": {
            "text/plain": [
              "array([ 1,  2,  3,  4,  5,  6,  7,  8,  9, 10])"
            ]
          },
          "metadata": {},
          "execution_count": 32
        }
      ]
    },
    {
      "cell_type": "code",
      "source": [
        "# 순열 계산 10P3 : 서로 다른 10개 중 순서대로 3개를 선택하여 나열한 것\n",
        "\n",
        "np.prod(p)\n",
        "  # 10!"
      ],
      "metadata": {
        "colab": {
          "base_uri": "https://localhost:8080/"
        },
        "id": "BokkfY-ryhi4",
        "outputId": "574d5b03-568d-4e44-82fd-51602aeaf071"
      },
      "execution_count": 33,
      "outputs": [
        {
          "output_type": "execute_result",
          "data": {
            "text/plain": [
              "3628800"
            ]
          },
          "metadata": {},
          "execution_count": 33
        }
      ]
    },
    {
      "cell_type": "code",
      "source": [
        "np.prod(p) / np.prod( np.arange(1, (n-(r-1))) )"
      ],
      "metadata": {
        "colab": {
          "base_uri": "https://localhost:8080/"
        },
        "id": "iLDqRR5Dy2E7",
        "outputId": "1da3bd8b-86c8-4d2e-f03a-cc06d51277f5"
      },
      "execution_count": 34,
      "outputs": [
        {
          "output_type": "execute_result",
          "data": {
            "text/plain": [
              "720.0"
            ]
          },
          "metadata": {},
          "execution_count": 34
        }
      ]
    },
    {
      "cell_type": "code",
      "source": [
        "math.factorial(n) / math.factorial(n-r)"
      ],
      "metadata": {
        "colab": {
          "base_uri": "https://localhost:8080/"
        },
        "id": "vQ28738wzIyd",
        "outputId": "1ca389a4-b9f8-4cc8-bad5-cd3675e6234d"
      },
      "execution_count": 35,
      "outputs": [
        {
          "output_type": "execute_result",
          "data": {
            "text/plain": [
              "720.0"
            ]
          },
          "metadata": {},
          "execution_count": 35
        }
      ]
    },
    {
      "cell_type": "code",
      "source": [
        "# nCr = nPr / r! = n!/ {(n-r)! * r!)\n",
        "# n개의 원소를 가지는 집합에서 r개의 부분집합을 중복을 제외하고 선택한 것\n",
        "\n",
        "np.prod(p) / (np.prod(np.arange(1, (n-(r-1)))) * np.prod(np.arange(1, r+1)))"
      ],
      "metadata": {
        "colab": {
          "base_uri": "https://localhost:8080/"
        },
        "id": "8k0UuLIyzQIR",
        "outputId": "630bcb8e-84de-44d6-c560-a139fe70f90f"
      },
      "execution_count": 36,
      "outputs": [
        {
          "output_type": "execute_result",
          "data": {
            "text/plain": [
              "120.0"
            ]
          },
          "metadata": {},
          "execution_count": 36
        }
      ]
    },
    {
      "cell_type": "code",
      "source": [
        "math.factorial(n) / (math.factorial(n-r) * math.factorial(r))"
      ],
      "metadata": {
        "colab": {
          "base_uri": "https://localhost:8080/"
        },
        "id": "GZ9rFLzo02Zw",
        "outputId": "189c8e3e-055c-4416-b562-dfd8cca61ae5"
      },
      "execution_count": 37,
      "outputs": [
        {
          "output_type": "execute_result",
          "data": {
            "text/plain": [
              "120.0"
            ]
          },
          "metadata": {},
          "execution_count": 37
        }
      ]
    },
    {
      "cell_type": "markdown",
      "source": [
        "##### 확률의 원리, 확률변수와 확률분포, 베이지안"
      ],
      "metadata": {
        "id": "UgatpqHn1G-D"
      }
    },
    {
      "cell_type": "code",
      "source": [
        "dice = leaf.dice(1, prob_type = \"r\")\n",
        "  # [주사위를 한 번 던질 경우]\n",
        "  # [확률과 확률값]"
      ],
      "metadata": {
        "id": "jF7l84f92TKN"
      },
      "execution_count": 38,
      "outputs": []
    },
    {
      "cell_type": "code",
      "source": [
        "print(dice.support)\n",
        "  # [주사위의 구성된 값(속성) 확인]\n",
        "print(dice.ps)\n",
        "  # [주사위의 결과들이 나올 확률 확인]"
      ],
      "metadata": {
        "colab": {
          "base_uri": "https://localhost:8080/"
        },
        "id": "y8NRJnhl2S9F",
        "outputId": "7840a447-21a3-4aca-85c9-d98e152c3438"
      },
      "execution_count": 39,
      "outputs": [
        {
          "output_type": "stream",
          "name": "stdout",
          "text": [
            "(1, 2, 3, 4, 5, 6)\n",
            "(1/6, 1/6, 1/6, 1/6, 1/6, 1/6)\n"
          ]
        }
      ]
    },
    {
      "cell_type": "code",
      "source": [
        "# 조건부확률은 특정 조건이 정해졌을 때, given()을 사용하여 계산\n",
        "  # 나이브 베이지안 분류기 알고리즘 구현을 위한 학습\n",
        "\n",
        "print(lea.P(dice % 2 == 0))\n",
        "print(lea.P(dice == 4))\n",
        "  # [주사위를 던질 때, 특정 값이 4일 조건의 확률]\n",
        "print(dice == 4)\n",
        "  # [비교연산을 사용하여 참, 거짓 확률 반환]\n",
        "\n",
        "print(\n",
        "    dice.given( (dice % 2 == 0) ).p(4)\n",
        ")\n",
        "  # [짝수가 주어진 조건으로 주사위를 던졌을 때 특정값이 4일 조건부 확률]"
      ],
      "metadata": {
        "id": "sh2qvNHl3A4M",
        "colab": {
          "base_uri": "https://localhost:8080/"
        },
        "outputId": "ea3a6c73-b4d2-4752-81e9-9e0e51b00624"
      },
      "execution_count": 40,
      "outputs": [
        {
          "output_type": "stream",
          "name": "stdout",
          "text": [
            "1/2\n",
            "1/6\n",
            "False : 5/6\n",
            "True  : 1/6\n",
            "1/3\n"
          ]
        }
      ]
    },
    {
      "cell_type": "code",
      "source": [
        "die1 = lea.interval(1, 6, prob_type = \"r\")\n",
        "die2 = die1.new()\n",
        "  # [1~6까지 확률 생성 후 이산확률 복제]"
      ],
      "metadata": {
        "id": "z8pdNUBQ4MXh"
      },
      "execution_count": 41,
      "outputs": []
    },
    {
      "cell_type": "code",
      "source": [
        "die12 = lea.joint(die1, die2)\n",
        "  # [두 주사위를 던졌을 때의 확률을 결합]"
      ],
      "metadata": {
        "id": "WVYbNZU3LLmW"
      },
      "execution_count": 42,
      "outputs": []
    },
    {
      "cell_type": "code",
      "source": [
        "print(die12)\n",
        "  # [확률분포표]"
      ],
      "metadata": {
        "colab": {
          "base_uri": "https://localhost:8080/"
        },
        "id": "c_NhyF4kLqxd",
        "outputId": "fd666f12-31bb-4b55-dce8-b1f3a5ee6a9d"
      },
      "execution_count": 43,
      "outputs": [
        {
          "output_type": "stream",
          "name": "stdout",
          "text": [
            "(1, 1) : 1/36\n",
            "(1, 2) : 1/36\n",
            "(1, 3) : 1/36\n",
            "(1, 4) : 1/36\n",
            "(1, 5) : 1/36\n",
            "(1, 6) : 1/36\n",
            "(2, 1) : 1/36\n",
            "(2, 2) : 1/36\n",
            "(2, 3) : 1/36\n",
            "(2, 4) : 1/36\n",
            "(2, 5) : 1/36\n",
            "(2, 6) : 1/36\n",
            "(3, 1) : 1/36\n",
            "(3, 2) : 1/36\n",
            "(3, 3) : 1/36\n",
            "(3, 4) : 1/36\n",
            "(3, 5) : 1/36\n",
            "(3, 6) : 1/36\n",
            "(4, 1) : 1/36\n",
            "(4, 2) : 1/36\n",
            "(4, 3) : 1/36\n",
            "(4, 4) : 1/36\n",
            "(4, 5) : 1/36\n",
            "(4, 6) : 1/36\n",
            "(5, 1) : 1/36\n",
            "(5, 2) : 1/36\n",
            "(5, 3) : 1/36\n",
            "(5, 4) : 1/36\n",
            "(5, 5) : 1/36\n",
            "(5, 6) : 1/36\n",
            "(6, 1) : 1/36\n",
            "(6, 2) : 1/36\n",
            "(6, 3) : 1/36\n",
            "(6, 4) : 1/36\n",
            "(6, 5) : 1/36\n",
            "(6, 6) : 1/36\n"
          ]
        }
      ]
    },
    {
      "cell_type": "code",
      "source": [
        "die_df = pd.DataFrame(die12.ps, \n",
        "                      index = die12.support,\n",
        "                      columns = [\"dice joint\"])\n",
        " # [주사위의 구성된 값(속성) 확인]\n",
        " # [주사위의 결과들이 나올 확률 확인]"
      ],
      "metadata": {
        "id": "1FtQ2FHWL5B-"
      },
      "execution_count": 44,
      "outputs": []
    },
    {
      "cell_type": "code",
      "source": [
        "die_df.T"
      ],
      "metadata": {
        "colab": {
          "base_uri": "https://localhost:8080/",
          "height": 0
        },
        "id": "_KUmr4HYL6KN",
        "outputId": "6b5531da-3b3e-4c1e-d199-959abfe8d04d"
      },
      "execution_count": 45,
      "outputs": [
        {
          "output_type": "execute_result",
          "data": {
            "text/plain": [
              "               1                                   2                    ...  \\\n",
              "               1     2     3     4     5     6     1     2     3     4  ...   \n",
              "dice joint  1/36  1/36  1/36  1/36  1/36  1/36  1/36  1/36  1/36  1/36  ...   \n",
              "\n",
              "               5                       6                                \n",
              "               3     4     5     6     1     2     3     4     5     6  \n",
              "dice joint  1/36  1/36  1/36  1/36  1/36  1/36  1/36  1/36  1/36  1/36  \n",
              "\n",
              "[1 rows x 36 columns]"
            ],
            "text/html": [
              "\n",
              "  <div id=\"df-73b2fbd6-d5dd-4114-b202-3c5c02115775\">\n",
              "    <div class=\"colab-df-container\">\n",
              "      <div>\n",
              "<style scoped>\n",
              "    .dataframe tbody tr th:only-of-type {\n",
              "        vertical-align: middle;\n",
              "    }\n",
              "\n",
              "    .dataframe tbody tr th {\n",
              "        vertical-align: top;\n",
              "    }\n",
              "\n",
              "    .dataframe thead tr th {\n",
              "        text-align: left;\n",
              "    }\n",
              "</style>\n",
              "<table border=\"1\" class=\"dataframe\">\n",
              "  <thead>\n",
              "    <tr>\n",
              "      <th></th>\n",
              "      <th colspan=\"6\" halign=\"left\">1</th>\n",
              "      <th colspan=\"4\" halign=\"left\">2</th>\n",
              "      <th>...</th>\n",
              "      <th colspan=\"4\" halign=\"left\">5</th>\n",
              "      <th colspan=\"6\" halign=\"left\">6</th>\n",
              "    </tr>\n",
              "    <tr>\n",
              "      <th></th>\n",
              "      <th>1</th>\n",
              "      <th>2</th>\n",
              "      <th>3</th>\n",
              "      <th>4</th>\n",
              "      <th>5</th>\n",
              "      <th>6</th>\n",
              "      <th>1</th>\n",
              "      <th>2</th>\n",
              "      <th>3</th>\n",
              "      <th>4</th>\n",
              "      <th>...</th>\n",
              "      <th>3</th>\n",
              "      <th>4</th>\n",
              "      <th>5</th>\n",
              "      <th>6</th>\n",
              "      <th>1</th>\n",
              "      <th>2</th>\n",
              "      <th>3</th>\n",
              "      <th>4</th>\n",
              "      <th>5</th>\n",
              "      <th>6</th>\n",
              "    </tr>\n",
              "  </thead>\n",
              "  <tbody>\n",
              "    <tr>\n",
              "      <th>dice joint</th>\n",
              "      <td>1/36</td>\n",
              "      <td>1/36</td>\n",
              "      <td>1/36</td>\n",
              "      <td>1/36</td>\n",
              "      <td>1/36</td>\n",
              "      <td>1/36</td>\n",
              "      <td>1/36</td>\n",
              "      <td>1/36</td>\n",
              "      <td>1/36</td>\n",
              "      <td>1/36</td>\n",
              "      <td>...</td>\n",
              "      <td>1/36</td>\n",
              "      <td>1/36</td>\n",
              "      <td>1/36</td>\n",
              "      <td>1/36</td>\n",
              "      <td>1/36</td>\n",
              "      <td>1/36</td>\n",
              "      <td>1/36</td>\n",
              "      <td>1/36</td>\n",
              "      <td>1/36</td>\n",
              "      <td>1/36</td>\n",
              "    </tr>\n",
              "  </tbody>\n",
              "</table>\n",
              "<p>1 rows × 36 columns</p>\n",
              "</div>\n",
              "      <button class=\"colab-df-convert\" onclick=\"convertToInteractive('df-73b2fbd6-d5dd-4114-b202-3c5c02115775')\"\n",
              "              title=\"Convert this dataframe to an interactive table.\"\n",
              "              style=\"display:none;\">\n",
              "        \n",
              "  <svg xmlns=\"http://www.w3.org/2000/svg\" height=\"24px\"viewBox=\"0 0 24 24\"\n",
              "       width=\"24px\">\n",
              "    <path d=\"M0 0h24v24H0V0z\" fill=\"none\"/>\n",
              "    <path d=\"M18.56 5.44l.94 2.06.94-2.06 2.06-.94-2.06-.94-.94-2.06-.94 2.06-2.06.94zm-11 1L8.5 8.5l.94-2.06 2.06-.94-2.06-.94L8.5 2.5l-.94 2.06-2.06.94zm10 10l.94 2.06.94-2.06 2.06-.94-2.06-.94-.94-2.06-.94 2.06-2.06.94z\"/><path d=\"M17.41 7.96l-1.37-1.37c-.4-.4-.92-.59-1.43-.59-.52 0-1.04.2-1.43.59L10.3 9.45l-7.72 7.72c-.78.78-.78 2.05 0 2.83L4 21.41c.39.39.9.59 1.41.59.51 0 1.02-.2 1.41-.59l7.78-7.78 2.81-2.81c.8-.78.8-2.07 0-2.86zM5.41 20L4 18.59l7.72-7.72 1.47 1.35L5.41 20z\"/>\n",
              "  </svg>\n",
              "      </button>\n",
              "      \n",
              "  <style>\n",
              "    .colab-df-container {\n",
              "      display:flex;\n",
              "      flex-wrap:wrap;\n",
              "      gap: 12px;\n",
              "    }\n",
              "\n",
              "    .colab-df-convert {\n",
              "      background-color: #E8F0FE;\n",
              "      border: none;\n",
              "      border-radius: 50%;\n",
              "      cursor: pointer;\n",
              "      display: none;\n",
              "      fill: #1967D2;\n",
              "      height: 32px;\n",
              "      padding: 0 0 0 0;\n",
              "      width: 32px;\n",
              "    }\n",
              "\n",
              "    .colab-df-convert:hover {\n",
              "      background-color: #E2EBFA;\n",
              "      box-shadow: 0px 1px 2px rgba(60, 64, 67, 0.3), 0px 1px 3px 1px rgba(60, 64, 67, 0.15);\n",
              "      fill: #174EA6;\n",
              "    }\n",
              "\n",
              "    [theme=dark] .colab-df-convert {\n",
              "      background-color: #3B4455;\n",
              "      fill: #D2E3FC;\n",
              "    }\n",
              "\n",
              "    [theme=dark] .colab-df-convert:hover {\n",
              "      background-color: #434B5C;\n",
              "      box-shadow: 0px 1px 3px 1px rgba(0, 0, 0, 0.15);\n",
              "      filter: drop-shadow(0px 1px 2px rgba(0, 0, 0, 0.3));\n",
              "      fill: #FFFFFF;\n",
              "    }\n",
              "  </style>\n",
              "\n",
              "      <script>\n",
              "        const buttonEl =\n",
              "          document.querySelector('#df-73b2fbd6-d5dd-4114-b202-3c5c02115775 button.colab-df-convert');\n",
              "        buttonEl.style.display =\n",
              "          google.colab.kernel.accessAllowed ? 'block' : 'none';\n",
              "\n",
              "        async function convertToInteractive(key) {\n",
              "          const element = document.querySelector('#df-73b2fbd6-d5dd-4114-b202-3c5c02115775');\n",
              "          const dataTable =\n",
              "            await google.colab.kernel.invokeFunction('convertToInteractive',\n",
              "                                                     [key], {});\n",
              "          if (!dataTable) return;\n",
              "\n",
              "          const docLinkHtml = 'Like what you see? Visit the ' +\n",
              "            '<a target=\"_blank\" href=https://colab.research.google.com/notebooks/data_table.ipynb>data table notebook</a>'\n",
              "            + ' to learn more about interactive tables.';\n",
              "          element.innerHTML = '';\n",
              "          dataTable['output_type'] = 'display_data';\n",
              "          await google.colab.output.renderOutput(dataTable, element);\n",
              "          const docLink = document.createElement('div');\n",
              "          docLink.innerHTML = docLinkHtml;\n",
              "          element.appendChild(docLink);\n",
              "        }\n",
              "      </script>\n",
              "    </div>\n",
              "  </div>\n",
              "  "
            ]
          },
          "metadata": {},
          "execution_count": 45
        }
      ]
    },
    {
      "cell_type": "code",
      "source": [
        "die12.p_sum\n",
        "  # [근원사건] 1"
      ],
      "metadata": {
        "colab": {
          "base_uri": "https://localhost:8080/"
        },
        "id": "XzXbOwcCL6Hp",
        "outputId": "2f109ebb-c1e7-4bd3-d2d1-4e12022e804f"
      },
      "execution_count": 46,
      "outputs": [
        {
          "output_type": "execute_result",
          "data": {
            "text/plain": [
              "1"
            ]
          },
          "metadata": {},
          "execution_count": 46
        }
      ]
    },
    {
      "cell_type": "code",
      "source": [
        "# 첫 번째 주사위를 던질 때 값이 2보다 작거나 같을 조건부 확률\n",
        "\n",
        "die12.given( die1 <= 2 )"
      ],
      "metadata": {
        "colab": {
          "base_uri": "https://localhost:8080/"
        },
        "id": "Qa3hn8MWL6FV",
        "outputId": "5fac786c-1848-415a-f699-eda75d270849"
      },
      "execution_count": 47,
      "outputs": [
        {
          "output_type": "execute_result",
          "data": {
            "text/plain": [
              "(1, 1) : 1/12\n",
              "(1, 2) : 1/12\n",
              "(1, 3) : 1/12\n",
              "(1, 4) : 1/12\n",
              "(1, 5) : 1/12\n",
              "(1, 6) : 1/12\n",
              "(2, 1) : 1/12\n",
              "(2, 2) : 1/12\n",
              "(2, 3) : 1/12\n",
              "(2, 4) : 1/12\n",
              "(2, 5) : 1/12\n",
              "(2, 6) : 1/12"
            ]
          },
          "metadata": {},
          "execution_count": 47
        }
      ]
    },
    {
      "cell_type": "markdown",
      "source": [
        "##### 베이지안(베이즈) 정리에 따르면 두 사건의 확률을 처리할 때 두 사건을 합쳐 복합사건으로 처리함.\n",
        "\n",
        "사건이 동시에 일어난 경우 != 개별적으로 일어난 경우에 따라 확률을 처리하는 법칙이 다름.\n",
        "\n",
        "```\n",
        "P(B|A) = P(A∩B) / P(A)\n",
        "표본공간이 전체(A∪B)에서 A로 축소\n",
        "P(A∩B) = P(A) * P(B|A)\n",
        "\n",
        "IF, P(B)와 P(A) 독립이면 P(B|A) = P(B)\n",
        "표본 공간을 구할 수 없기 때문\n",
        "```\n",
        "\n",
        "![image.png](data:image/png;base64,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)\n",
        "\n",
        "특정 표본 공간에서 사전 확률이 명확히 분해된 경우, 두 확률이 **배반사건일 경우** 이 사건의 결과로 기존 원인 사건을 역으로 계산하는 법칙을 베이지안 정리라고 함"
      ],
      "metadata": {
        "id": "MXqE_KTVNXpE"
      }
    },
    {
      "cell_type": "markdown",
      "source": [
        "```\n",
        "P(A1∩B) = P(B∩A1)\n",
        "P(A1|B)*P(B) = P(B|A1)*P(A1)\n",
        "\n",
        "-> 양변에 P(B)를 나눔\n",
        "\n",
        "P(A1|B) = P(B|A1)*P(A1) / P(B)\n",
        "\n",
        "P(A1|B) = P(B|A1)*P(A1) / ( P(B|A1)*P(A1) + P(B|A2)*P(A2) )\n",
        "```\n",
        "표본 공간에서 사건이 먼저 분해됨"
      ],
      "metadata": {
        "id": "y2QLvuHHQn5m"
      }
    },
    {
      "cell_type": "code",
      "source": [
        "# 사전 확률\n",
        "# 사후 확률, 우도.가능도\n",
        "\n",
        "bowl = lea.vals(\n",
        "    \"bowl1\", \"bow12\", prob_type = \"r\"\n",
        ")\n",
        "  # [두 번째 그릇의 쿠키에 대한 확률 생성]"
      ],
      "metadata": {
        "id": "ohdWOcWAL6Cg"
      },
      "execution_count": 48,
      "outputs": []
    },
    {
      "cell_type": "code",
      "source": [
        "bowl"
      ],
      "metadata": {
        "id": "cj00kZe0L56x",
        "colab": {
          "base_uri": "https://localhost:8080/"
        },
        "outputId": "26fd7059-f814-4653-ddc3-5277489ae36b"
      },
      "execution_count": 49,
      "outputs": [
        {
          "output_type": "execute_result",
          "data": {
            "text/plain": [
              "bow12 : 1/2\n",
              "bowl1 : 1/2"
            ]
          },
          "metadata": {},
          "execution_count": 49
        }
      ]
    },
    {
      "cell_type": "code",
      "source": [
        "bowl1 = lea.pmf(\n",
        "    {\"V\" : 30, \"C\" : 10}, prob_type = \"r\")\n",
        "  # [그릇1에 들어갈 확률은 바닐라 맛 쿠키 30, 초콜릿 쿠키 10]\n",
        "bowl1"
      ],
      "metadata": {
        "colab": {
          "base_uri": "https://localhost:8080/"
        },
        "id": "Iun-S9FpKpkb",
        "outputId": "c974edbe-30e4-4012-8d6e-4d3e3b9e8a1c"
      },
      "execution_count": 50,
      "outputs": [
        {
          "output_type": "execute_result",
          "data": {
            "text/plain": [
              "C : 1/4\n",
              "V : 3/4"
            ]
          },
          "metadata": {},
          "execution_count": 50
        }
      ]
    },
    {
      "cell_type": "code",
      "source": [
        "bowl2 = lea.pmf(\n",
        "    {\"V\" : 20, \"C\" : 20}, prob_type = \"r\")\n",
        "  # [그릇1에서 하나를 선택하여 바닐라 맛 쿠키가 나올 경우]\n",
        "  # [그 결과를 보고 그릇1에서 바닐라 맛 쿠키를 선택할 확률]\n",
        "bowl2"
      ],
      "metadata": {
        "colab": {
          "base_uri": "https://localhost:8080/"
        },
        "id": "YRY5fcKqQebd",
        "outputId": "f0f79138-ad69-446d-8c85-40ec2029d9f5"
      },
      "execution_count": 51,
      "outputs": [
        {
          "output_type": "execute_result",
          "data": {
            "text/plain": [
              "C : 1/2\n",
              "V : 1/2"
            ]
          },
          "metadata": {},
          "execution_count": 51
        }
      ]
    },
    {
      "cell_type": "code",
      "source": [
        "data = {\"bowl1\" : bowl1.ps,\n",
        "        \"bowl2\" : bowl2.ps}\n",
        "bowl_df = pd.DataFrame(\n",
        "    data,\n",
        "    index = [\"chocolate\", \"vanilla\"]\n",
        ")\n",
        "bowl_df"
      ],
      "metadata": {
        "colab": {
          "base_uri": "https://localhost:8080/",
          "height": 0
        },
        "id": "Y2UTNoICQeR1",
        "outputId": "3157d2a7-720b-4b0f-8e0a-5bd6ce3c7013"
      },
      "execution_count": 52,
      "outputs": [
        {
          "output_type": "execute_result",
          "data": {
            "text/plain": [
              "          bowl1 bowl2\n",
              "chocolate   1/4   1/2\n",
              "vanilla     3/4   1/2"
            ],
            "text/html": [
              "\n",
              "  <div id=\"df-b89a425f-4c77-436e-a2d1-29e2c68cdff3\">\n",
              "    <div class=\"colab-df-container\">\n",
              "      <div>\n",
              "<style scoped>\n",
              "    .dataframe tbody tr th:only-of-type {\n",
              "        vertical-align: middle;\n",
              "    }\n",
              "\n",
              "    .dataframe tbody tr th {\n",
              "        vertical-align: top;\n",
              "    }\n",
              "\n",
              "    .dataframe thead th {\n",
              "        text-align: right;\n",
              "    }\n",
              "</style>\n",
              "<table border=\"1\" class=\"dataframe\">\n",
              "  <thead>\n",
              "    <tr style=\"text-align: right;\">\n",
              "      <th></th>\n",
              "      <th>bowl1</th>\n",
              "      <th>bowl2</th>\n",
              "    </tr>\n",
              "  </thead>\n",
              "  <tbody>\n",
              "    <tr>\n",
              "      <th>chocolate</th>\n",
              "      <td>1/4</td>\n",
              "      <td>1/2</td>\n",
              "    </tr>\n",
              "    <tr>\n",
              "      <th>vanilla</th>\n",
              "      <td>3/4</td>\n",
              "      <td>1/2</td>\n",
              "    </tr>\n",
              "  </tbody>\n",
              "</table>\n",
              "</div>\n",
              "      <button class=\"colab-df-convert\" onclick=\"convertToInteractive('df-b89a425f-4c77-436e-a2d1-29e2c68cdff3')\"\n",
              "              title=\"Convert this dataframe to an interactive table.\"\n",
              "              style=\"display:none;\">\n",
              "        \n",
              "  <svg xmlns=\"http://www.w3.org/2000/svg\" height=\"24px\"viewBox=\"0 0 24 24\"\n",
              "       width=\"24px\">\n",
              "    <path d=\"M0 0h24v24H0V0z\" fill=\"none\"/>\n",
              "    <path d=\"M18.56 5.44l.94 2.06.94-2.06 2.06-.94-2.06-.94-.94-2.06-.94 2.06-2.06.94zm-11 1L8.5 8.5l.94-2.06 2.06-.94-2.06-.94L8.5 2.5l-.94 2.06-2.06.94zm10 10l.94 2.06.94-2.06 2.06-.94-2.06-.94-.94-2.06-.94 2.06-2.06.94z\"/><path d=\"M17.41 7.96l-1.37-1.37c-.4-.4-.92-.59-1.43-.59-.52 0-1.04.2-1.43.59L10.3 9.45l-7.72 7.72c-.78.78-.78 2.05 0 2.83L4 21.41c.39.39.9.59 1.41.59.51 0 1.02-.2 1.41-.59l7.78-7.78 2.81-2.81c.8-.78.8-2.07 0-2.86zM5.41 20L4 18.59l7.72-7.72 1.47 1.35L5.41 20z\"/>\n",
              "  </svg>\n",
              "      </button>\n",
              "      \n",
              "  <style>\n",
              "    .colab-df-container {\n",
              "      display:flex;\n",
              "      flex-wrap:wrap;\n",
              "      gap: 12px;\n",
              "    }\n",
              "\n",
              "    .colab-df-convert {\n",
              "      background-color: #E8F0FE;\n",
              "      border: none;\n",
              "      border-radius: 50%;\n",
              "      cursor: pointer;\n",
              "      display: none;\n",
              "      fill: #1967D2;\n",
              "      height: 32px;\n",
              "      padding: 0 0 0 0;\n",
              "      width: 32px;\n",
              "    }\n",
              "\n",
              "    .colab-df-convert:hover {\n",
              "      background-color: #E2EBFA;\n",
              "      box-shadow: 0px 1px 2px rgba(60, 64, 67, 0.3), 0px 1px 3px 1px rgba(60, 64, 67, 0.15);\n",
              "      fill: #174EA6;\n",
              "    }\n",
              "\n",
              "    [theme=dark] .colab-df-convert {\n",
              "      background-color: #3B4455;\n",
              "      fill: #D2E3FC;\n",
              "    }\n",
              "\n",
              "    [theme=dark] .colab-df-convert:hover {\n",
              "      background-color: #434B5C;\n",
              "      box-shadow: 0px 1px 3px 1px rgba(0, 0, 0, 0.15);\n",
              "      filter: drop-shadow(0px 1px 2px rgba(0, 0, 0, 0.3));\n",
              "      fill: #FFFFFF;\n",
              "    }\n",
              "  </style>\n",
              "\n",
              "      <script>\n",
              "        const buttonEl =\n",
              "          document.querySelector('#df-b89a425f-4c77-436e-a2d1-29e2c68cdff3 button.colab-df-convert');\n",
              "        buttonEl.style.display =\n",
              "          google.colab.kernel.accessAllowed ? 'block' : 'none';\n",
              "\n",
              "        async function convertToInteractive(key) {\n",
              "          const element = document.querySelector('#df-b89a425f-4c77-436e-a2d1-29e2c68cdff3');\n",
              "          const dataTable =\n",
              "            await google.colab.kernel.invokeFunction('convertToInteractive',\n",
              "                                                     [key], {});\n",
              "          if (!dataTable) return;\n",
              "\n",
              "          const docLinkHtml = 'Like what you see? Visit the ' +\n",
              "            '<a target=\"_blank\" href=https://colab.research.google.com/notebooks/data_table.ipynb>data table notebook</a>'\n",
              "            + ' to learn more about interactive tables.';\n",
              "          element.innerHTML = '';\n",
              "          dataTable['output_type'] = 'display_data';\n",
              "          await google.colab.output.renderOutput(dataTable, element);\n",
              "          const docLink = document.createElement('div');\n",
              "          docLink.innerHTML = docLinkHtml;\n",
              "          element.appendChild(docLink);\n",
              "        }\n",
              "      </script>\n",
              "    </div>\n",
              "  </div>\n",
              "  "
            ]
          },
          "metadata": {},
          "execution_count": 52
        }
      ]
    },
    {
      "cell_type": "code",
      "source": [
        "bowl_df = bowl_df.astype(\"float\")"
      ],
      "metadata": {
        "id": "IqaghVodS96O"
      },
      "execution_count": 53,
      "outputs": []
    },
    {
      "cell_type": "code",
      "source": [
        "bowl_df.plot(kind = \"bar\")"
      ],
      "metadata": {
        "colab": {
          "base_uri": "https://localhost:8080/",
          "height": 0
        },
        "id": "7BoiIsIDQEnC",
        "outputId": "4bebdc8b-4df6-4293-ffcb-00139f0b4504"
      },
      "execution_count": 54,
      "outputs": [
        {
          "output_type": "execute_result",
          "data": {
            "text/plain": [
              "<matplotlib.axes._subplots.AxesSubplot at 0x7fc6bb64a700>"
            ]
          },
          "metadata": {},
          "execution_count": 54
        },
        {
          "output_type": "display_data",
          "data": {
            "text/plain": [
              "<Figure size 432x288 with 1 Axes>"
            ],
            "image/png": "[encoded data removed]"
          },
          "metadata": {
            "needs_background": "light"
          }
        }
      ]
    },
    {
      "cell_type": "markdown",
      "source": [
        "##### 사후확률(posterior) = 사전확률(prior) * 우도(likelihood) / 정규화상수 또는 증거(normarlizing constant)\n",
        "\n",
        "'A의 발생 확률인 P(A)’에 ‘A가 발생한 상태에서 B가 발생할 확률인 P(B|A)’를 곱'\n",
        "**주어진 데이터를 판별(혹은 판단)하기 위해 사전 지식(prior)에 추가정보(likelihood)를 곱한 값을 판단근거로 삼을 수 있다.**\n",
        "\n",
        "'evidence를 관측하여 갱신하기 전 후의 내 주장에 관한 신뢰도'가 사전 사후를 가르는 새로운 정보가 된다.\n",
        "\n",
        "https://github.com/joelgrus/data-science-from-scratch/blob/master/scratch/naive_bayes.py\n",
        "\n",
        "https://github.com/scikit-learn/scikit-learn/blob/main/sklearn/naive_bayes.py\n",
        "\n",
        "병에 걸리는 경우 : 사건 D\n",
        "\n",
        "양성 반응을 보이는 경우 : 사건 S\n",
        "\n",
        "병에 걸린 사람이 양성 반응을 보이는 경우 : 조건부 사건 S|D\n",
        "\n",
        "양성 반응을 보이는 사람이 병에 걸려 있을 경우 : 조건부 사건 D|S"
      ],
      "metadata": {
        "id": "z2k0VmVKIeGa"
      }
    },
    {
      "cell_type": "markdown",
      "source": [
        "##### 가능도, 베이즈정리, 조건부확률, 나이브 베이지안 분류기(신뢰도 기반 이진분류)\n",
        "\n",
        "* 가능도를 계산하기 위해서는 각 데이터 샘플에서 후보 분포에 대한 높이(즉, \n",
        "likelihood 기여도)를 계산해서 다 곱한 것을 이용할 수 있을 것이다. 계산된 높이를 더해주지 않고 곱해주는 것은 모든 데이터들의 추출이 독립적으로 연달아 일어나는 사건이기 때문이다.\n",
        "\n",
        "* 전체 표본집합의 결합확률밀도 함수, likelihood function\n",
        "\n",
        "  Likelihood 함수의 최대값을 찾는 방법, 가장 보편적인 방법은 미분계수를 이용하는 것이다. 파라미터 θ에 대하여 다음과 같이 편미분하고 그 값이 0이 되도록 하는 θ를 찾는 과정\n",
        "* L(θ|x) = logP(x|θ) = ∑i=1,...,n logP(xi|θ)\n",
        "\n",
        "\n",
        "* L(θ|x)를 μ에 대해 편미분하면, ∂L(θ|x)/∂μ= 1/σ2(∑i=1...n (xi − nμ))\n",
        "\n",
        "* 따라서 최대우도를 만들어주는 모평균의 추정량은 μhat = 1/n∑i=1...n (xi))\n",
        "\n",
        "* L(θ|x)를 표준편차 σ로 편미분하면, ∂L(θ|x)/∂σ = \n",
        "−n/σ+1/σ^3 ∑i=1...n((xi − μ)^2 = 0\n",
        "\n",
        "* 따라서, 최대우도를 만들어주는 모분산의 추정량은 σ^2hat = 1/n ∑i=1...n (xi − μ)^2\n",
        "\n",
        "* P(c1|x1, x2, ⋯, xn) = p(c1) * p(x1|c1) * p(x2|c1) * ⋯ * p(xn|c1)\n",
        "= P(c1)n∏i=1 P(xi|c1)\n",
        "\n",
        "* yhat = argmax k∈{1,2,⋯,k} P(ck)n∏i=1 P(xk|ck)\n",
        "\n",
        "  x1이 일어나든 말든 x2의 확률에는 x1의 발생여부가 조건으로써 영향을 받지 않는다는 것"
      ],
      "metadata": {
        "id": "sDUAf2jZhMXe"
      }
    },
    {
      "cell_type": "code",
      "source": [
        "# P(A1|B) 사후확률의 예로는 바닐라 맛 쿠키 전체 중에 그릇 1에 해당하는 경우\n",
        "\n",
        "cookie = lea.pmf(\n",
        "    {\"vanilla\" : 50, \"chocolate\":30},\n",
        "    prob_type = \"r\"\n",
        ")\n",
        "  # [전체 쿠키에 대한 확률 생성] P(bowl_1|V)*P(V)\n",
        "bowl1.p(\"V\") * bowl.p(\"bowl1\") / cookie.p(\"vanilla\")"
      ],
      "metadata": {
        "colab": {
          "base_uri": "https://localhost:8080/"
        },
        "id": "tnQHJPxHS46o",
        "outputId": "a4bad25c-1bb0-4149-967e-c1d8b6db202c"
      },
      "execution_count": 55,
      "outputs": [
        {
          "output_type": "execute_result",
          "data": {
            "text/plain": [
              "3/5"
            ]
          },
          "metadata": {},
          "execution_count": 55
        }
      ]
    },
    {
      "cell_type": "code",
      "source": [
        "# 쿠키에 대한 베이지안 처리\n",
        "\n",
        "(T, F) = (True, False)\n",
        "  # [변수에 논리값 할당]\n",
        "\n",
        "_bowl = lea.pmf(\n",
        "    {(T,F,T,F): 20,\n",
        "     (T,F,F,T): 20,\n",
        "     (F,T,T,F): 10,\n",
        "     (F,T,F,T): 30},\n",
        "     normalization = False,\n",
        "     prob_type = \"r\"\n",
        ")\n",
        "  # [확률분포표 만들되, 중요한 쿠키 정보를 그대로 처리하기 위해 정규화 과정 생략]\n",
        "  # [그릇 1, 그릇 2, 바닐라맛 쿠키, 초콜릿맛 쿠키]\n",
        "  # [50개 기준으로 정규화 처리]"
      ],
      "metadata": {
        "id": "yFBmi0x9SHgJ"
      },
      "execution_count": 56,
      "outputs": []
    },
    {
      "cell_type": "code",
      "source": [
        "_bowl"
      ],
      "metadata": {
        "id": "560WVkSsSp5e",
        "colab": {
          "base_uri": "https://localhost:8080/"
        },
        "outputId": "fff183f1-08d3-4e3a-ada1-97a6f094c4b1"
      },
      "execution_count": 57,
      "outputs": [
        {
          "output_type": "execute_result",
          "data": {
            "text/plain": [
              "(False, True , False, True ) : 30\n",
              "(False, True , True , False) : 10\n",
              "(True , False, False, True ) : 20\n",
              "(True , False, True , False) : 20"
            ]
          },
          "metadata": {},
          "execution_count": 57
        }
      ]
    },
    {
      "cell_type": "code",
      "source": [
        "bowl = _bowl.as_joint(\"bowl1\", \"bowl2\", \"vanilla\", \"chocolate\")\n",
        "  # [논리값의 열에 대한 이름 생성]\n",
        "bowl"
      ],
      "metadata": {
        "colab": {
          "base_uri": "https://localhost:8080/"
        },
        "id": "UjgFR5x-EeXs",
        "outputId": "92f7af3d-3f5e-4c08-a11b-ace9c9bb87d5"
      },
      "execution_count": 58,
      "outputs": [
        {
          "output_type": "execute_result",
          "data": {
            "text/plain": [
              " bowl1, bowl2, vanilla, chocolate\n",
              "(False, True , False  , True     ) : 3/8\n",
              "(False, True , True   , False    ) : 1/8\n",
              "(True , False, False  , True     ) : 2/8\n",
              "(True , False, True   , False    ) : 2/8"
            ]
          },
          "metadata": {},
          "execution_count": 58
        }
      ]
    },
    {
      "cell_type": "code",
      "source": [
        "bowl.support\n",
        "  # [쿠키의 표시가 명확한지 support 속성으로 확인]\n",
        "  # [해당 그릇과 쿠키의 확률을 표시하는 논리값 True]"
      ],
      "metadata": {
        "colab": {
          "base_uri": "https://localhost:8080/"
        },
        "id": "y9W1KykiDtsZ",
        "outputId": "6f56d522-8669-4683-b934-6cf2b5b28f0f"
      },
      "execution_count": 59,
      "outputs": [
        {
          "output_type": "execute_result",
          "data": {
            "text/plain": [
              "(_(bowl1=False, bowl2=True, vanilla=False, chocolate=True),\n",
              " _(bowl1=False, bowl2=True, vanilla=True, chocolate=False),\n",
              " _(bowl1=True, bowl2=False, vanilla=False, chocolate=True),\n",
              " _(bowl1=True, bowl2=False, vanilla=True, chocolate=False))"
            ]
          },
          "metadata": {},
          "execution_count": 59
        }
      ]
    },
    {
      "cell_type": "code",
      "source": [
        "print(lea.P(bowl.bowl1 & bowl.vanilla))\n",
        "  # [조건을 처리하는 함수 P로 그릇 1과 바닐라맛 쿠키의 결합 확률* 생성]\n",
        "  # [*) 전체 분포에서 해당하는 전체 확률]\n",
        "print(bowl.ps)"
      ],
      "metadata": {
        "colab": {
          "base_uri": "https://localhost:8080/"
        },
        "id": "MYYaN606E-L9",
        "outputId": "69610268-a0c0-4f5b-8e87-c2f26f003044"
      },
      "execution_count": 60,
      "outputs": [
        {
          "output_type": "stream",
          "name": "stdout",
          "text": [
            "1/4\n",
            "(3/8, 1/8, 1/4, 1/4)\n"
          ]
        }
      ]
    },
    {
      "cell_type": "code",
      "source": [
        "bowl.given(bowl.vanilla)\n",
        "  # [바닐라맛 쿠키일 경우 확률]"
      ],
      "metadata": {
        "colab": {
          "base_uri": "https://localhost:8080/"
        },
        "id": "zXVYWhcXF_bQ",
        "outputId": "949cc784-a5e6-4f53-808f-7573d50c7213"
      },
      "execution_count": 61,
      "outputs": [
        {
          "output_type": "execute_result",
          "data": {
            "text/plain": [
              " bowl1, bowl2, vanilla, chocolate\n",
              "(False, True , True   , False    ) : 1/3\n",
              "(True , False, True   , False    ) : 2/3"
            ]
          },
          "metadata": {},
          "execution_count": 61
        }
      ]
    },
    {
      "cell_type": "code",
      "source": [
        "lea.P(bowl.bowl1.given( bowl.vanilla ))\n",
        "  # [그릇 1에서 선택한 것이 바닐라쿠키일 조건의 확률]"
      ],
      "metadata": {
        "colab": {
          "base_uri": "https://localhost:8080/"
        },
        "id": "_fGhInP5E8AM",
        "outputId": "998b147f-7184-4ddd-c96d-231b13faad20"
      },
      "execution_count": 62,
      "outputs": [
        {
          "output_type": "execute_result",
          "data": {
            "text/plain": [
              "2/3"
            ]
          },
          "metadata": {},
          "execution_count": 62
        }
      ]
    },
    {
      "cell_type": "markdown",
      "source": [
        "##### **벡터나 행렬을 계산하는 선형 대수**로 넘파이 모듈 이해\n",
        "* 벡터와 1차원 배열 / 행렬과 2차원 배열 / 텐서(수학용어의 특정차원의 표현)와 다차원 배열\n",
        "* 유니버셜 함수\n",
        "* 선형대수 연산인 내적과 외적\n",
        "* 행렬식과 역행렬\n",
        "* 선형변환, 고윳값, 고유벡터 \n",
        "\n",
        "* **PCA(주성분분석), SVM(서포트벡터머신)의 알고리즘을 수학적으로 밑바닥부터 이해하기 위한 학습**\n"
      ],
      "metadata": {
        "id": "8MKtPA1Rt_aM"
      }
    },
    {
      "cell_type": "markdown",
      "source": [
        "* 스칼라 값을 벡터(수학: 열벡터, 넘파이: 행벡터)의 원소마다 상숫값을 곱한 결과\n",
        "\n",
        "  스칼라 값을 벡터와 같은 차원을 만들어 인덱스의 원소를 곱하는 것과 같다.\n",
        "  스칼라 값이 벡터의 형상(shape)과 같게 확장되는 것을 브로드캐스팅(broadcasting)이라고 한다.\n",
        "\n",
        "* 벡터란 상수배(곱셈 규칙)와 덧셈 규칙이 정의되는 원소들은 선형성을 갖는다.\n",
        "\n",
        "  이들의 집합에 **이 연산들이 정의된 집합을 벡터 공간**이라고 한다.\n",
        "\n",
        "  행렬은 벡터를 또 다른 벡터로 변환(내적과 정사영)시키는 일종의 연산자(행렬과 벡터의 곱은 행렬의 열 벡터들을 얼마나 선형 결합시킬 것인지 결정)\n",
        "\n",
        "  해당 열벡터가 등고선 몇 개를 통과했는가, 따라서 행벡터의 길이가 길어진다면 등고선의 간격이 더 좁아지는 것과 같은 효과를 내게 된다는 것을 알 수 있다.\n",
        "\n",
        "* 전치행렬(행렬 교환 축변환) : np.reshape() != np.T(), np.transpose()"
      ],
      "metadata": {
        "id": "VTpm0WqY7jsP"
      }
    },
    {
      "cell_type": "code",
      "source": [
        "b = np.arange(10).reshape(5, 2)\n",
        "  # [numpy] [1 dimension array] [range] [reshape 2 dimension 2row, 5col]"
      ],
      "metadata": {
        "id": "qCcsdJ1XFNOF"
      },
      "execution_count": 63,
      "outputs": []
    },
    {
      "cell_type": "code",
      "source": [
        "b\n",
        "  # [row 기준 정렬]"
      ],
      "metadata": {
        "colab": {
          "base_uri": "https://localhost:8080/"
        },
        "id": "_jgFgf4YJOFO",
        "outputId": "7a3f1e0f-2b85-4ffb-92a4-40e3987f08c8"
      },
      "execution_count": 64,
      "outputs": [
        {
          "output_type": "execute_result",
          "data": {
            "text/plain": [
              "array([[0, 1],\n",
              "       [2, 3],\n",
              "       [4, 5],\n",
              "       [6, 7],\n",
              "       [8, 9]])"
            ]
          },
          "metadata": {},
          "execution_count": 64
        }
      ]
    },
    {
      "cell_type": "code",
      "source": [
        "a = np.arange(10).reshape(2, 5).T"
      ],
      "metadata": {
        "id": "aDgDrJL27Yey"
      },
      "execution_count": 65,
      "outputs": []
    },
    {
      "cell_type": "code",
      "source": [
        "a\n",
        "  # [내부의 원소값 변경 없이 축만 변경, column 기준 정렬]"
      ],
      "metadata": {
        "colab": {
          "base_uri": "https://localhost:8080/"
        },
        "id": "04fKyQC17Ybd",
        "outputId": "c1a2028e-1148-4754-a02e-843822084c41"
      },
      "execution_count": 66,
      "outputs": [
        {
          "output_type": "execute_result",
          "data": {
            "text/plain": [
              "array([[0, 5],\n",
              "       [1, 6],\n",
              "       [2, 7],\n",
              "       [3, 8],\n",
              "       [4, 9]])"
            ]
          },
          "metadata": {},
          "execution_count": 66
        }
      ]
    },
    {
      "cell_type": "code",
      "source": [
        "try:\n",
        "   print(a + b)\n",
        "except Exception as e:\n",
        "    print(e)"
      ],
      "metadata": {
        "colab": {
          "base_uri": "https://localhost:8080/"
        },
        "id": "wAYaDlTQ7YWN",
        "outputId": "487c74a8-bb1e-4da8-f8cf-43a672f12468"
      },
      "execution_count": 67,
      "outputs": [
        {
          "output_type": "stream",
          "name": "stdout",
          "text": [
            "[[ 0  6]\n",
            " [ 3  9]\n",
            " [ 6 12]\n",
            " [ 9 15]\n",
            " [12 18]]\n"
          ]
        }
      ]
    },
    {
      "cell_type": "code",
      "source": [
        "try: \n",
        "  a = a.T\n",
        "  b = np.reshape(b, (2, 5))\n",
        "    # [a = b]\n",
        "  print(a + b)\n",
        "except Exception as e:\n",
        "  print(e)"
      ],
      "metadata": {
        "colab": {
          "base_uri": "https://localhost:8080/"
        },
        "id": "UfFuhugx7YTY",
        "outputId": "65d4bbf8-abb7-459d-eee9-b5b8cec4f908"
      },
      "execution_count": 68,
      "outputs": [
        {
          "output_type": "stream",
          "name": "stdout",
          "text": [
            "[[ 0  2  4  6  8]\n",
            " [10 12 14 16 18]]\n"
          ]
        }
      ]
    },
    {
      "cell_type": "markdown",
      "source": [
        "##### 행렬\n",
        "* **행벡터는 열벡터를 입력으로 받아 스칼라값을 출력하는 함수**,  \n",
        "f: V → R\n",
        "x,y 순서 쌍들을 하나의 선으로 연결\n",
        "\n",
        "* 단위행렬(identify matrix)은 행과 열이 같은 정사각 행렬 때만 사용 : np.eye(), bp.identity()\n",
        "  \n",
        "  선형 대수에서 행렬곱을 처리해도 같은 행렬을 유지하는 것(수학의 항등원)\n",
        "\n",
        "* 선형대수의 삼각행렬(triangular matrix), 하삼각행렬(lower triangular matrix), 상삼각행렬(upper triangular matrix)\n",
        "\n",
        "* 하나의 삼각행렬을 하삼각행렬과 상삼각행렬의 곱으로 표현되어 분해하는 LU decomposition(factorization)\n",
        "\n",
        "  [충북대 소프트웨어학과 LU분해](http://elearning.kocw.net/contents4/document/lec/2013/Chungbuk/LeeGeonmyeong1/7.pdf)\n",
        "\n",
        "  [충북대 소프트웨어학과 고유값과 고유벡터](http://contents.kocw.or.kr/contents4/document/lec/2013/Chungbuk/LeeGeonmyeong1/10.pdf)\n",
        "\n",
        "  [충북대 소프트웨어학과 특이값 분해](http://elearning.kocw.net/contents4/document/lec/2013/Chungbuk/LeeGeonmyeong1/15.pdf)"
      ],
      "metadata": {
        "id": "iVw0xiT-P9qG"
      }
    },
    {
      "cell_type": "markdown",
      "source": [
        "\\begin{bmatrix}1\\\\3\\end{bmatrix}\\begin{bmatrix}2\\\\4\\end{bmatrix}\\begin{bmatrix}3\\\\5\\end{bmatrix}"
      ],
      "metadata": {
        "id": "jYl2KO_0ZUny"
      }
    },
    {
      "cell_type": "markdown",
      "source": [
        "![image.png](data:image/png;base64,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)\n",
        "\n",
        "![image.png](data:image/png;base64,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)"
      ],
      "metadata": {
        "id": "9e-kryUyhUGG"
      }
    },
    {
      "cell_type": "markdown",
      "source": [
        "행렬을 이용한 연립방정식의 표현으로 컴퓨터로 문제 풀이\n",
        "\n",
        "행렬곱의 관점은 행벡터와 열벡터 간의 내적(inner product)을 계산함으로써 행렬곱이 이루어진다. 또한 **행렬과 벡터의 곱**을 **열 벡터의 선형결합**, 기저 벡터의 변형(→x = [1, 1])을 통한 선형변환으로 해석할 수 있도록 도움을 준다.\n",
        "\n",
        "**두 벡터 [1, 3]과 [2, 4]로부터 생성된 벡터 공간 내에 벡터 [3, 5]가 존재하는가?**\n",
        "\n",
        "**만약 그렇다면, [1, 3]과 [2, 4]을 어떻게 조합해야 [3, 5]를 구할 수 있는가?**\n",
        "\n",
        "* 연립방정식 풀이과정: \n",
        "  \n",
        "  (1) 방정식의 양변에 숫자 곱하기 (Row multiplication) \n",
        "  \n",
        "  r2 -> s*r2\n",
        "  (sr2) * (1/s)*r2 = r2\n",
        "  E^(−1)*E = I(Identity matrix)\n",
        "\n",
        "  단위행렬 대각성분 중 하나의 숫자를 바꾸어 얻게되는 행렬\n",
        "  (기본 행렬의 역할은 뒤에 곱해질 행렬의 행에 연산을 취하는 것)\n",
        "   \n",
        "  (2) 서로 다른 방정식 합치기 (Row addition)\n",
        "\n",
        "  (3) 서로 다른 방정식 순서 바꾸기 (Row switching = Permutation matrix)\n",
        "\n",
        "  단위행렬의 행을 바꾸어주는 것, 바꿔주는 행 두개의 번호를 Pij와 같이 관례적으로 적어주어서 어떤 두 행의 순서를 바꾸고자 하는지를 명시\n",
        "\n",
        "* r1 : 2x + 3y = 1 r2 : 4x + 7y = 3\n",
        "\n",
        "* A = np.array([[2, 3], [4, 7]]).reshape(2, 2)\n",
        "\n",
        "  A[x, y] = b = [1, 3]\n",
        "\n",
        "  [A|b] = [[2, 3] [4, 7] | [1, 3]] : 첨가행렬(2 by 3 augmenated matrix)"
      ],
      "metadata": {
        "id": "JFotprYPAGOx"
      }
    },
    {
      "cell_type": "markdown",
      "source": [
        "![image.png](data:image/png;base64,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)\n",
        "\n",
        "![image.png](data:image/png;base64,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)"
      ],
      "metadata": {
        "id": "6LY9nkCTJiYb"
      }
    },
    {
      "cell_type": "code",
      "source": [
        "e = np.eye(3)\n",
        "print(e)\n",
        "  # [대각선 원소 1, 나머지 0인 단위 행렬 생성]\n",
        "ide = np.identity(4)\n",
        "print(ide)\n",
        "  # [하나의 인자를 받아 정사각 행렬 생성]"
      ],
      "metadata": {
        "colab": {
          "base_uri": "https://localhost:8080/"
        },
        "id": "su8a5NPsFaci",
        "outputId": "72b98458-438e-4d00-c5ff-295d10e2fe14"
      },
      "execution_count": 69,
      "outputs": [
        {
          "output_type": "stream",
          "name": "stdout",
          "text": [
            "[[1. 0. 0.]\n",
            " [0. 1. 0.]\n",
            " [0. 0. 1.]]\n",
            "[[1. 0. 0. 0.]\n",
            " [0. 1. 0. 0.]\n",
            " [0. 0. 1. 0.]\n",
            " [0. 0. 0. 1.]]\n"
          ]
        }
      ]
    },
    {
      "cell_type": "code",
      "source": [
        "tri = np.tri(3)\n",
        "  # [대각선과 그 밑의 원소가 1인 삼각 행렬 생성]\n",
        "print(tri)"
      ],
      "metadata": {
        "colab": {
          "base_uri": "https://localhost:8080/"
        },
        "id": "Dtw2Fd6pMIiQ",
        "outputId": "5c2d67f9-c394-484a-dde0-ebfe1c15b77f"
      },
      "execution_count": 70,
      "outputs": [
        {
          "output_type": "stream",
          "name": "stdout",
          "text": [
            "[[1. 0. 0.]\n",
            " [1. 1. 0.]\n",
            " [1. 1. 1.]]\n"
          ]
        }
      ]
    },
    {
      "cell_type": "code",
      "source": [
        "tri = np.tri(3, k = 1)\n",
        "  # [대각선보다 위에 있는 원소도 1이 들어가게 하는 인수 k]\n",
        "print(tri)"
      ],
      "metadata": {
        "id": "CcGXoKVfH42W",
        "colab": {
          "base_uri": "https://localhost:8080/"
        },
        "outputId": "a9dbffab-a706-4c8b-a3cc-06c1ced5e893"
      },
      "execution_count": 71,
      "outputs": [
        {
          "output_type": "stream",
          "name": "stdout",
          "text": [
            "[[1. 1. 0.]\n",
            " [1. 1. 1.]\n",
            " [1. 1. 1.]]\n"
          ]
        }
      ]
    },
    {
      "cell_type": "code",
      "source": [
        "triList = np.tril([[1, 2, 3], [4, 5, 6], [7, 8, 9]])\n",
        "  # [리스트를 인자로 받아 하삼각 행렬 생성]\n",
        "print(triList)"
      ],
      "metadata": {
        "id": "Bpb6foYwU94-",
        "colab": {
          "base_uri": "https://localhost:8080/"
        },
        "outputId": "88d53ce0-dc43-4fc8-a45d-eabf78a36abe"
      },
      "execution_count": 72,
      "outputs": [
        {
          "output_type": "stream",
          "name": "stdout",
          "text": [
            "[[1 0 0]\n",
            " [4 5 0]\n",
            " [7 8 9]]\n"
          ]
        }
      ]
    },
    {
      "cell_type": "code",
      "source": [
        "triList_low = np.tril([[1, 2, 3], [4, 5, 6], [7, 8, 9]],\n",
        "                      -1)\n",
        "  # [하삼각행렬, k파라미터 = -1 지정하면 대각선보다 더 밑에 원소를 0]\n",
        "  # triList^(-1) = triList_low\n",
        "print(triList_low)"
      ],
      "metadata": {
        "id": "fzAiQsg0t_E7",
        "colab": {
          "base_uri": "https://localhost:8080/"
        },
        "outputId": "6f08ea88-8fb4-4b92-fe8b-d851667658d4"
      },
      "execution_count": 73,
      "outputs": [
        {
          "output_type": "stream",
          "name": "stdout",
          "text": [
            "[[0 0 0]\n",
            " [4 0 0]\n",
            " [7 8 0]]\n"
          ]
        }
      ]
    },
    {
      "cell_type": "code",
      "source": [
        "triList_up = np.triu([[1, 2, 3], [4, 5, 6], [7, 8, 9]])\n",
        "  # [상삼각행렬 생성]\n",
        "print(triList_up)"
      ],
      "metadata": {
        "id": "NKHm8B5gMhNF",
        "colab": {
          "base_uri": "https://localhost:8080/"
        },
        "outputId": "51b40eeb-7d03-4c41-f25f-e2cd817bab7e"
      },
      "execution_count": 74,
      "outputs": [
        {
          "output_type": "stream",
          "name": "stdout",
          "text": [
            "[[1 2 3]\n",
            " [0 5 6]\n",
            " [0 0 9]]\n"
          ]
        }
      ]
    },
    {
      "cell_type": "code",
      "source": [
        "triList_up1 = np.triu([[1, 2, 3], [4, 5, 6], [7, 8, 9]],\n",
        "                      1)\n",
        "  # [상삼각행렬의 대각선 위치를 변경하여 생성, 양수 파라미터]\n",
        "print(triList_up1)"
      ],
      "metadata": {
        "colab": {
          "base_uri": "https://localhost:8080/"
        },
        "id": "HS3EfRlegaZU",
        "outputId": "42ef947c-cc5f-4a02-a28a-0a0a2e17618e"
      },
      "execution_count": 75,
      "outputs": [
        {
          "output_type": "stream",
          "name": "stdout",
          "text": [
            "[[0 2 3]\n",
            " [0 0 6]\n",
            " [0 0 0]]\n"
          ]
        }
      ]
    },
    {
      "cell_type": "markdown",
      "source": [
        "##### LU 분해 알고리즘\n",
        "\n",
        "LU 분해가 되지 않은 경우, 행교환을 한 다음에 LU 분해를 하기도 한다.\n",
        "\n",
        "```\n",
        "A = [[a11, a12, a13],\n",
        "     [a21, a22, a23],\n",
        "     [a31, a32, a33]]\n",
        "\n",
        "LU_low_triangular_matrix = [[1, 0, 0],\n",
        "                            [L21(a21/u11), 1, 0],\n",
        "                            [L31(a22/u11), L32(a32 - L31*U12/U22), 1]]\n",
        "                            # (a32 = L31*U12 + L32*U22)\n",
        "LU_up_triangular_matrix= [[U11(a11), U12(a12), U13(13)],\n",
        "                          [0, U22(a22-L21*U12), U23(a23-L21*U13)],\n",
        "                          [0, 0, U33(a32-L31*U13-L32*U23)]]\n",
        "```\n",
        "\n",
        "```\n",
        "# A = (aij)n*n 행렬\n",
        "\n",
        "for i in range(1, n, 1):\n",
        "  for j in range(1, i-1, 1):\n",
        "    # [i > j]\n",
        "    alpha = aij\n",
        "    \n",
        "    for p in range(1, j-1, 1):\n",
        "      alpha = alpha - aip*apj\n",
        "        # [Low(row = i, column = p, Up(row = p, column = j) 곱의 누적합]\n",
        "\n",
        "    aij = alpha*ajj\n",
        "      # [Lowij = alpha/Upjj]\n",
        "  \n",
        "  for j in range(i, n, 1):\n",
        "    # [i <= j]\n",
        "    alpha = aij\n",
        "\n",
        "    for p in range(1, i-1, 1):\n",
        "      alpha = alpha - aip*apj\n",
        "    \n",
        "    aij = alpha\n",
        "```"
      ],
      "metadata": {
        "id": "rOwyTT2o3HEI"
      }
    },
    {
      "cell_type": "markdown",
      "source": [
        "![image.png](data:image/png;base64,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)"
      ],
      "metadata": {
        "id": "86WLXBoX5CV4"
      }
    },
    {
      "cell_type": "markdown",
      "source": [
        "선형 시스템의 해법 (factor-solve 접근법)으로 LU 분해 활용\n",
        "\n",
        "* Ax = b\n",
        "* A = LU\n",
        "* Ax = **(LU)*x = b**\n",
        "* Ly = b, Ux = y"
      ],
      "metadata": {
        "id": "cr3mlnyH2Qgl"
      }
    },
    {
      "cell_type": "code",
      "source": [
        "A = np.array(\n",
        "  [[7, 3, -1, 2],\n",
        "    [3, 8, 1, -4],\n",
        "    [-1, 1, 4, -1],\n",
        "    [2, -4, -1, 6]]\n",
        ")"
      ],
      "metadata": {
        "id": "A_nt4UFgg01I"
      },
      "execution_count": 76,
      "outputs": []
    },
    {
      "cell_type": "code",
      "source": [
        "# LU 분해를 통해 하삼각행렬과 상삼각행렬로 분해\n",
        "\n",
        "P, L, U = LA.lu(A)\n",
        "  # [linearAlgebra lu decomposition의 약자]\n",
        "print(A)"
      ],
      "metadata": {
        "colab": {
          "base_uri": "https://localhost:8080/"
        },
        "id": "LREcD7yDg0xf",
        "outputId": "86965b99-6b45-4b55-ffd3-96af3e7ef127"
      },
      "execution_count": 77,
      "outputs": [
        {
          "output_type": "stream",
          "name": "stdout",
          "text": [
            "[[ 7  3 -1  2]\n",
            " [ 3  8  1 -4]\n",
            " [-1  1  4 -1]\n",
            " [ 2 -4 -1  6]]\n"
          ]
        }
      ]
    },
    {
      "cell_type": "code",
      "source": [
        "print(P)\n",
        "  # [단위 행렬, 하삼각 행렬의 대각선]\n",
        "print(L)\n",
        "  # [하삼각 행렬]\n",
        "print(U)\n",
        "  # [상삼각 행렬]"
      ],
      "metadata": {
        "colab": {
          "base_uri": "https://localhost:8080/"
        },
        "id": "po6eH-xFg0uZ",
        "outputId": "97993750-5b0b-4595-b322-fc64ab763fbe"
      },
      "execution_count": 78,
      "outputs": [
        {
          "output_type": "stream",
          "name": "stdout",
          "text": [
            "[[1. 0. 0. 0.]\n",
            " [0. 1. 0. 0.]\n",
            " [0. 0. 1. 0.]\n",
            " [0. 0. 0. 1.]]\n",
            "[[ 1.          0.          0.          0.        ]\n",
            " [ 0.42857143  1.          0.          0.        ]\n",
            " [-0.14285714  0.21276596  1.          0.        ]\n",
            " [ 0.28571429 -0.72340426  0.08982036  1.        ]]\n",
            "[[ 7.          3.         -1.          2.        ]\n",
            " [ 0.          6.71428571  1.42857143 -4.85714286]\n",
            " [ 0.          0.          3.55319149  0.31914894]\n",
            " [ 0.          0.          0.          1.88622754]]\n"
          ]
        }
      ]
    },
    {
      "cell_type": "code",
      "source": [
        "A_ = np.matmul(L, U)\n",
        "  # [분해된 하삼각행렬과 상삼각행렬을 행렬곱 연산 후 변수에 할당]\n",
        "  # [하삼각행렬[상삼각행렬]의 전치행렬은 상삼각행렬[하삼각행렬]이다]\n",
        "print(A_)"
      ],
      "metadata": {
        "colab": {
          "base_uri": "https://localhost:8080/"
        },
        "id": "KCC_8vW1g0q1",
        "outputId": "9306c77e-75b5-425c-d418-1ffe77493b19"
      },
      "execution_count": 79,
      "outputs": [
        {
          "output_type": "stream",
          "name": "stdout",
          "text": [
            "[[ 7.  3. -1.  2.]\n",
            " [ 3.  8.  1. -4.]\n",
            " [-1.  1.  4. -1.]\n",
            " [ 2. -4. -1.  6.]]\n"
          ]
        }
      ]
    },
    {
      "cell_type": "code",
      "source": [
        "np.allclose(A_, A)\n",
        "  # [분해된 결과 합산한 것과 원본의 일치 여부 확인]"
      ],
      "metadata": {
        "colab": {
          "base_uri": "https://localhost:8080/"
        },
        "id": "2E_6cNXWg0o7",
        "outputId": "440ecd12-b1f7-4259-a0e8-9c221849ffd1"
      },
      "execution_count": 80,
      "outputs": [
        {
          "output_type": "execute_result",
          "data": {
            "text/plain": [
              "True"
            ]
          },
          "metadata": {},
          "execution_count": 80
        }
      ]
    },
    {
      "cell_type": "code",
      "source": [
        "# 기본행렬을 이용한 연립방정식 풀이\n",
        "\n",
        "# r1 : 2x + 3y = 1 r2 : 4x + 7y = 3\n",
        "# r2 - 2r1 연산으로 x에 관한 항 제거\n",
        "\n",
        "E3 = np.array([1/2, 0, 0, 1]).reshape(2, 2)\n",
        "E2 = np.array([1, -3, 0, 1]).reshape(2, 2)\n",
        "E1 = np.array([1, 3, -2, 1]).reshape(2, 2)\n",
        "  # r1 - 3r2 연산을 하기 위해 E2 기본행렬을 첨가행렬의 왼편에 곱함\n",
        "\n",
        "A_aug = np.array([2, 3, 1, 4, 7, 3]).reshape(2, 3)\n",
        "  # 연립방정식(r1, r2)이 기울기와 y절편\n",
        "\n",
        "# E3*E2*E1*A_aug"
      ],
      "metadata": {
        "id": "EVMEtedgters"
      },
      "execution_count": 81,
      "outputs": []
    },
    {
      "cell_type": "code",
      "source": [
        "np.round(E3*E2*E1, decimals = 2)"
      ],
      "metadata": {
        "colab": {
          "base_uri": "https://localhost:8080/"
        },
        "id": "wcwGmI_x6a8z",
        "outputId": "22cdd252-96b5-4cfe-b61c-83bc13f89a02"
      },
      "execution_count": 82,
      "outputs": [
        {
          "output_type": "execute_result",
          "data": {
            "text/plain": [
              "array([[ 0.5, -0. ],\n",
              "       [-0. ,  1. ]])"
            ]
          },
          "metadata": {},
          "execution_count": 82
        }
      ]
    },
    {
      "cell_type": "code",
      "source": [
        "np.ufunc\n",
        "  # [넘파이 모듈에 있는 ufunc 함수 클래스를 확인]\n",
        "type(np.ufunc)"
      ],
      "metadata": {
        "colab": {
          "base_uri": "https://localhost:8080/"
        },
        "id": "elycmn-ntejn",
        "outputId": "291a8d0f-bbf2-4ca1-b191-80d35882ec73"
      },
      "execution_count": 83,
      "outputs": [
        {
          "output_type": "execute_result",
          "data": {
            "text/plain": [
              "type"
            ]
          },
          "metadata": {},
          "execution_count": 83
        }
      ]
    },
    {
      "cell_type": "code",
      "source": [
        "import types\n",
        "  # [파이썬 내부에서 작동하는 객체들을 가진 클래스 모듈 사용]\n",
        "types.FunctionType is np.ufunc\n",
        "  # [함수와 유니버셜 함수와 클래스가 서로 다르게 구현]"
      ],
      "metadata": {
        "colab": {
          "base_uri": "https://localhost:8080/"
        },
        "id": "-q9pDn3Eao7_",
        "outputId": "cab25629-a512-49fb-ce4f-9182d70227af"
      },
      "execution_count": 84,
      "outputs": [
        {
          "output_type": "execute_result",
          "data": {
            "text/plain": [
              "False"
            ]
          },
          "metadata": {},
          "execution_count": 84
        }
      ]
    },
    {
      "cell_type": "markdown",
      "source": [
        "##### 벡터와 내적\n",
        "\n",
        "$$ |ν| = \\sqrt{a^2 + b^2} = \\sqrt{ν*ν} $$\n",
        "$$ [2 \\ 1] * (\\begin{bmatrix}3\\\\-4\\end{bmatrix}) = 1 $$\n",
        "$$ [2 \\ 1] * (\\begin{bmatrix}x\\\\y\\end{bmatrix}) = scalar $$"
      ],
      "metadata": {
        "id": "LAaY75DnRLsZ"
      }
    },
    {
      "cell_type": "code",
      "source": [
        "# 선형대수 연산인 내적(inner(), sqrt(), @)과 외적\n",
        "\n",
        "# 행벡터(함수) [1, 2] * 열벡터(입력값) [3, -4].T = 스칼라(출력값) 2\n",
        "# f:V -> R\n",
        "\n",
        "# 함수를 시각화하면?\n",
        "# 열벡터의 정사영 길이(코사인, 사이각) * 행벡터의 길이 = 내적 값과 일치함\n",
        "\n",
        "a = np.arange(1, 10)\n",
        "b = np.arange(11, 20)\n",
        "a.size == b.size\n",
        "\n",
        "c = np.sqrt(np.dot(a, a))\n",
        "d = np.sqrt(np.dot(b, b))\n",
        "  # [벡터의 크기]\n",
        "print(c)\n",
        "print(LA.norm(a))\n",
        "  # [벡터의 크기]\n",
        "print(np.sqrt( np.square(a).sum() ))\n",
        "  # [벡터의 크기를 수식으로 풀면]\n",
        "  # [벡터의 제곱을 하고 합산]\n",
        "  # [다시 그 값에 제곱근 처리]"
      ],
      "metadata": {
        "id": "QX6QNEL4ZxCH",
        "colab": {
          "base_uri": "https://localhost:8080/"
        },
        "outputId": "ec48b823-3cdb-43cb-f093-b558166875e5"
      },
      "execution_count": 85,
      "outputs": [
        {
          "output_type": "stream",
          "name": "stdout",
          "text": [
            "16.881943016134134\n",
            "16.881943016134134\n",
            "16.881943016134134\n"
          ]
        }
      ]
    },
    {
      "cell_type": "markdown",
      "source": [
        "$$ [\\alpha_1*\\alpha_2] [\\beta_1*\\beta_2] = Σ\\alpha_i*\\beta_i = \\alpha_1*\\beta_1 + \\alpha_2*\\beta_2$$\n",
        "$$ cos(θ) = ν* ω / |ν| * |ω|$$\n",
        "$$ \\vec{v}_1\\cdot\\vec{v}_2 = |\\vec{v}_1||\\vec{v}_2|\\cos\\theta $$"
      ],
      "metadata": {
        "id": "yBMksHBgX1W9"
      }
    },
    {
      "cell_type": "markdown",
      "source": [
        "![image.png](data:image/png;base64,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)"
      ],
      "metadata": {
        "id": "CX2fGG-zhKCw"
      }
    },
    {
      "cell_type": "code",
      "source": [
        "print(\"1차원 배열 a :\", a)\n",
        "print(\"1차원 배열 b :\", b)\n",
        "\n",
        "print(\"두 벡터의 내적 :\", np.inner(a, b))\n",
        "  # [두 벡터의 내적]\n",
        "print(\"두 벡터의 내적 :\", np.dot(a, b))\n",
        "  # [두 벡터의 내적]\n",
        "  # 열벡터의 정사영(project) 길이(코사인, 사잇각) * 행벡터의 길이 = 내적 값과 일치함\n",
        "  # 두 벡터의 내적 = 두 벡터의 크기와 두 벡터의 사잇각에 cos함수 곱하여 구함"
      ],
      "metadata": {
        "colab": {
          "base_uri": "https://localhost:8080/"
        },
        "id": "C-qSgYYAQ_0U",
        "outputId": "14374a42-019e-4f2e-c774-21e047b6f31a"
      },
      "execution_count": 86,
      "outputs": [
        {
          "output_type": "stream",
          "name": "stdout",
          "text": [
            "1차원 배열 a : [1 2 3 4 5 6 7 8 9]\n",
            "1차원 배열 b : [11 12 13 14 15 16 17 18 19]\n",
            "두 벡터의 내적 : 735\n",
            "두 벡터의 내적 : 735\n"
          ]
        }
      ]
    },
    {
      "cell_type": "code",
      "source": [
        "e = np.dot(a, b) / (c * d)\n",
        "e\n",
        "  # [epsilon] 거리\n",
        "  # [두 벡터 사잇각 = 두 벡터의 내적 / 두 벡터 크기의 곱]"
      ],
      "metadata": {
        "colab": {
          "base_uri": "https://localhost:8080/"
        },
        "id": "hZyAK1SdfDfp",
        "outputId": "1a9f15c7-15f6-4dd4-9d84-ac1edb33c476"
      },
      "execution_count": 87,
      "outputs": [
        {
          "output_type": "execute_result",
          "data": {
            "text/plain": [
              "0.9534806402407423"
            ]
          },
          "metadata": {},
          "execution_count": 87
        }
      ]
    },
    {
      "cell_type": "code",
      "source": [
        "np.cos( np.rad2deg(180 * e) )\n",
        "  # [Q&A][라디안은 삼각비를 구하므로]원주율 파이에 180도 나눈 것과 동일]"
      ],
      "metadata": {
        "colab": {
          "base_uri": "https://localhost:8080/"
        },
        "id": "vKlb_FhunzTs",
        "outputId": "4787ad15-cab5-4d05-9008-81ee32118914"
      },
      "execution_count": 88,
      "outputs": [
        {
          "output_type": "execute_result",
          "data": {
            "text/plain": [
              "0.9582523836962719"
            ]
          },
          "metadata": {},
          "execution_count": 88
        }
      ]
    },
    {
      "cell_type": "code",
      "source": [
        "np.cos( np.deg2rad(17.6) )\n",
        "  # [deg 각과 rad 라디안]\n",
        "  # [라디안 90도 = pi/2]"
      ],
      "metadata": {
        "colab": {
          "base_uri": "https://localhost:8080/"
        },
        "id": "dx26NdbFfDcD",
        "outputId": "ee2bc8b8-97e9-4ef2-e1b6-8b4f2d2b0667"
      },
      "execution_count": 89,
      "outputs": [
        {
          "output_type": "execute_result",
          "data": {
            "text/plain": [
              "0.953190667792947"
            ]
          },
          "metadata": {},
          "execution_count": 89
        }
      ]
    },
    {
      "cell_type": "code",
      "source": [
        "# 다차원 배열 행렬곱\n",
        "\n",
        "A = np.array([[1, 2, 3],\n",
        "              [4, 5, 6],\n",
        "              [7, 8, 9]])\n",
        "B = np.array([[9, 8, 7],\n",
        "              [6, 5, 4],\n",
        "              [3, 2, 1]]) "
      ],
      "metadata": {
        "id": "GmErjukQfDZ_"
      },
      "execution_count": 90,
      "outputs": []
    },
    {
      "cell_type": "code",
      "source": [
        "print(\"\\n\", A, \"\\n\", B)"
      ],
      "metadata": {
        "colab": {
          "base_uri": "https://localhost:8080/"
        },
        "id": "LB2yC6AgfDVo",
        "outputId": "af8231b0-c723-4148-ae80-a497bc8a187a"
      },
      "execution_count": 91,
      "outputs": [
        {
          "output_type": "stream",
          "name": "stdout",
          "text": [
            "\n",
            " [[1 2 3]\n",
            " [4 5 6]\n",
            " [7 8 9]] \n",
            " [[9 8 7]\n",
            " [6 5 4]\n",
            " [3 2 1]]\n"
          ]
        }
      ]
    },
    {
      "cell_type": "code",
      "source": [
        "np.dot(A, B)"
      ],
      "metadata": {
        "id": "VgO8lOtOQ_w1",
        "colab": {
          "base_uri": "https://localhost:8080/"
        },
        "outputId": "fcba0c40-a7b9-46a2-bcf3-af4baa42af5b"
      },
      "execution_count": 92,
      "outputs": [
        {
          "output_type": "execute_result",
          "data": {
            "text/plain": [
              "array([[ 30,  24,  18],\n",
              "       [ 84,  69,  54],\n",
              "       [138, 114,  90]])"
            ]
          },
          "metadata": {},
          "execution_count": 92
        }
      ]
    },
    {
      "cell_type": "code",
      "source": [
        "A[0] # 행 벡터\n",
        "B[:, 0] # 열 벡터\n",
        "\n",
        "print(\n",
        "    np.dot(A[0], B[:, 0]),\n",
        "    np.dot(A[0], B[:, 1]),\n",
        "    np.dot(A[0], B[:, 2])\n",
        ")\n",
        "print(\n",
        "    np.dot(A[1], B[:, 0]),\n",
        "    np.dot(A[1], B[:, 1]),\n",
        "    np.dot(A[1], B[:, 2])\n",
        ")"
      ],
      "metadata": {
        "id": "rFXUbSANQ_uH",
        "colab": {
          "base_uri": "https://localhost:8080/"
        },
        "outputId": "0b54170d-23ec-4e1a-8677-7ae556c6fdf9"
      },
      "execution_count": 93,
      "outputs": [
        {
          "output_type": "stream",
          "name": "stdout",
          "text": [
            "30 24 18\n",
            "84 69 54\n"
          ]
        }
      ]
    },
    {
      "cell_type": "code",
      "source": [
        "# 외적은 벡터의 수직으로, 평면과 직교하는 법선벡터\n",
        "\n",
        "np.cross(A[0], B[:, 1])"
      ],
      "metadata": {
        "id": "CL_yV9tAQ_sQ",
        "colab": {
          "base_uri": "https://localhost:8080/"
        },
        "outputId": "9aa86f09-e732-4e03-8f99-187418994dfd"
      },
      "execution_count": 94,
      "outputs": [
        {
          "output_type": "execute_result",
          "data": {
            "text/plain": [
              "array([-11,  22, -11])"
            ]
          },
          "metadata": {},
          "execution_count": 94
        }
      ]
    },
    {
      "cell_type": "code",
      "source": [
        "# 행 벡터와 열 벡터의 곱\n",
        "\n",
        "np.outer(A[0], B[:, 1])"
      ],
      "metadata": {
        "id": "gwOpplleQ_qT",
        "colab": {
          "base_uri": "https://localhost:8080/"
        },
        "outputId": "8278be9d-8487-4be7-e640-ef85704e7d0a"
      },
      "execution_count": 95,
      "outputs": [
        {
          "output_type": "execute_result",
          "data": {
            "text/plain": [
              "array([[ 8,  5,  2],\n",
              "       [16, 10,  4],\n",
              "       [24, 15,  6]])"
            ]
          },
          "metadata": {},
          "execution_count": 95
        }
      ]
    },
    {
      "cell_type": "markdown",
      "source": [
        "##### 행렬식의 역행렬 (이해못한 단계)\n",
        "\n",
        "![image.png](data:image/png;base64,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)"
      ],
      "metadata": {
        "id": "w4uTXxmdya0l"
      }
    },
    {
      "cell_type": "code",
      "source": [
        "# 행렬식(determinant)와 역행렬\n",
        "\n",
        "print(A)\n",
        "Adet = LA.det(A)\n",
        "  # 음수 표시\n",
        "print(Adet)\n",
        "\n",
        "try: \n",
        "  Ainv = LA.inv(A)\n",
        "except Exception as e:\n",
        "  print(e)\n",
        "  # 행렬식의 역행렬 계산 (행렬식의 결과가 0이 나와 계산 불가)"
      ],
      "metadata": {
        "id": "gfCMjukHQ_l5",
        "colab": {
          "base_uri": "https://localhost:8080/"
        },
        "outputId": "f342a4a7-44d3-4018-ac67-20f432e9cadf"
      },
      "execution_count": 96,
      "outputs": [
        {
          "output_type": "stream",
          "name": "stdout",
          "text": [
            "[[1 2 3]\n",
            " [4 5 6]\n",
            " [7 8 9]]\n",
            "0.0\n",
            "singular matrix\n"
          ]
        }
      ]
    },
    {
      "cell_type": "markdown",
      "source": [
        "##### 선형변환, 고윳값, 고유벡터\n",
        "\n",
        "* 선형변환이란 행렬을 이용하여 벡터를 현재 벡터 공간에서 다른 벡터 공간으로 이동시키는 것(= 선형사상, 일차변환)이다.\n",
        "\n",
        "  $ A ⋅ x = λ ⋅ E ⋅ x\t$\n",
        "\n",
        "* 양변에 고유벡터(eigen vector, x)가 있고, 정사각 행렬(A)과 벡터(x)의 벡터곱(A⋅x)이 상수곱(λ)과 같을 때, 이 상수가 고윳값(eigen value)가 된다.\n",
        "\n",
        "  $ det(A - λ ⋅ E) = 0 $\n",
        "\n",
        "  $ E = \\begin{bmatrix} 1 & 0 & 0 \\\\ 0 & 1 & 0 \\\\ 0 & 0 & 1 \\end{bmatrix} $\n",
        "\n",
        "  정사각행렬을 분해할 수 있는 조건은 행렬(A)에 상수(λ)와 단위행렬(E)의 곱을 뺀 후에 행렬식이 0이 나와야 한다는 것이다. "
      ],
      "metadata": {
        "id": "96Xc1mSVzkHU"
      }
    },
    {
      "cell_type": "markdown",
      "source": [],
      "metadata": {
        "id": "Ukv0Gtux43FB"
      }
    },
    {
      "cell_type": "markdown",
      "source": [
        "![image.png](data:image/png;base64,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)"
      ],
      "metadata": {
        "id": "5ShRukFc4R58"
      }
    },
    {
      "cell_type": "code",
      "source": [
        "A = 0\n",
        "x = 0\n",
        "  # [초기화]\n",
        "A = np.array(\n",
        "    [[3, 0],\n",
        "     [8, -1]]\n",
        ")\n",
        "  # [행렬은 대문자]\n",
        "x = np.array([1, 2])\n",
        "  # [벡터는 소문자]\n",
        "\n",
        "E = np.eye(2)\n",
        "  # [단위 행렬 생성]\n",
        "\n",
        "for λ in range(1, 10, 1):\n",
        "  det = LA.det(A - λ*E)\n",
        "  if det == 0.0:\n",
        "    print(λ)\n",
        "  else: \n",
        "    pass\n",
        "  # 상수배 λ = 3은 고윳값\n",
        "  # [y = Ax] A * [x, y].T"
      ],
      "metadata": {
        "colab": {
          "base_uri": "https://localhost:8080/"
        },
        "outputId": "49a2d6c9-d018-46b4-ecb9-eee30039d11a",
        "id": "pkKmkm0T5xEM"
      },
      "execution_count": 97,
      "outputs": [
        {
          "output_type": "stream",
          "name": "stdout",
          "text": [
            "3\n"
          ]
        }
      ]
    },
    {
      "cell_type": "code",
      "source": [
        "c = 0\n",
        "  # [초기화]\n",
        "c = np.dot(A, x)\n",
        "  # [행렬과 벡터의 닷 연산 처리]\n",
        "print(c)\n",
        "print(3*x)\n",
        "  # [계산된 결과가 x열벡터에 λ고윳값(상수배)를 곱한 결과와 동일]"
      ],
      "metadata": {
        "colab": {
          "base_uri": "https://localhost:8080/"
        },
        "id": "EFOzKv_eznTW",
        "outputId": "a19ebc5c-5007-45c9-b87c-bbd6c706c424"
      },
      "execution_count": 98,
      "outputs": [
        {
          "output_type": "stream",
          "name": "stdout",
          "text": [
            "[3 6]\n",
            "[3 6]\n"
          ]
        }
      ]
    },
    {
      "cell_type": "code",
      "source": [
        "v, w = LA.eig(A)\n",
        "  # [고윳값과 고유벡터]\n",
        "print(v)\n",
        "print(w)"
      ],
      "metadata": {
        "colab": {
          "base_uri": "https://localhost:8080/"
        },
        "id": "qsywCNnFznRi",
        "outputId": "6d88f25a-29b9-4b77-f2f7-c6fddf93005c"
      },
      "execution_count": 99,
      "outputs": [
        {
          "output_type": "stream",
          "name": "stdout",
          "text": [
            "[-1.+0.j  3.+0.j]\n",
            "[[0.         0.4472136 ]\n",
            " [1.         0.89442719]]\n"
          ]
        }
      ]
    },
    {
      "cell_type": "markdown",
      "source": [
        "## **김도형의 데이터 사이언스 스쿨 [수학편]**"
      ],
      "metadata": {
        "id": "okuzuIa1t4P3"
      }
    },
    {
      "cell_type": "markdown",
      "source": [
        "## **박유성, 파이썬을 이용한 통계적 머신러닝 [제3판]**"
      ],
      "metadata": {
        "id": "-nPtwkyuWheC"
      }
    },
    {
      "cell_type": "markdown",
      "source": [
        "##### * **좋은 데이터의 전제조건**\n",
        "\n",
        "  (1) **같은 모집단(identical)에서 뽑힌** 모집단에 대한 정보를 왜곡 없이 가지는 데이터(임의표본)\n",
        "\n",
        "  (2) **임의표본 간의 독립성(idenpendence)**\n",
        "  즉, identically independently distributed data (i.i.d)\n",
        "\n",
        "  F(y) = P(Y <= y) (y = p)이 0 ~ 1 사이의 어떤 값을 임의추출할 때 임의표본이 불확실성을 가지는 cdf(누적확률밀도함수)를 가진 확률변수가 통계분석의 대상이 된다."
      ],
      "metadata": {
        "id": "ZLMR1hafWw7B"
      }
    },
    {
      "cell_type": "markdown",
      "source": [
        "##### * **임의표본추출(random sampling)에 의한 추정**\n",
        "\n",
        "  (1) $ η(Y) $의 기대치는 $ E(η(Y)) = ∫{η(y)f(y)dy} $\n",
        "  \n",
        "  (2) $ η(Y) = y $일 때 $ F(y) $로부터 임의표본 $ y_i $를 추출하여 계산한 적률추정치(moment estimate) 또는 몬테카를로 추정치는 $ \\frac{1}{n} \\Sigma{η(y_i)} $\n",
        "\n",
        "  다만, 적률 추정치의 약점은 $y$의 극단값에 민감하다는 것이다.\n",
        "\n",
        "  (3) 오분류율이 높은 데이터에 높은 가중치를 부여하여 모형의 성능을 개선하는 Adaboost의 resampling 기법에 활용되는 개념\n",
        "\n",
        "  $ y_3 $가 중요한 임의표본이어서 가중치를 부여하여 $ {y_i:n} $의 가중치 합이 1이 되도록 재조정하면, 이 비율에 대응하는 cdf(누적확률밀도함수)를 구할 수 있다. 기존 이산형 확률변수의 분포와 가중치 부여 후 분포를 $ g(y) $와 $ f(y) $라고 하자.\n",
        "\n",
        "  (4) Bayesian 표본추출 기법\n",
        "  \n",
        "  베이지안 기법의 핵심인 Posterior(사후확률) 분포를 구할 때 분포함수를 불완전하게 알고 있다고 가정하자.\n",
        "\n",
        "  $ F(∞) = Pr(Y ≤ ∞) = 1 $을 만족하는 조절상수 y(scale constant)를 구할 수 없다. $ f(y) = \\frac{f^*(y)}{M} $(단, $M$은 미지의 수) \n",
        "  \n",
        "  $f(y)^*$보다 꼬리가 두껍지만(아주 크거나 작은 값이 뽑힐 확률에 가중치 부여) 표본추출이 용이한 적절한 후보 pdf(probability density function)을 이용한다. \n",
        "\n",
        "   $ f(y)^* = g(y)⋅\\frac{f^*(y)}{g(y)} $ (단, $ \\frac{f^*(y)}{g(y)}$ = 가중치)\n",
        "\n",
        "   Uniform(0, 1)로부커 $u$를 추출하고, u < $ \\frac{f^*(y_i)/g(y_i)}{\\Sigma^n_{j=1}{f(y_j)^*/g(y_j)}} $일 때 $y_i$를 f(y)의 임의표본으로 채택"
      ],
      "metadata": {
        "id": "-qojtlRQtJIZ"
      }
    },
    {
      "cell_type": "markdown",
      "source": [
        "##### * **특성변수를 이용한 통계모형**\n",
        "\n",
        "  (1) 특성변수(IV)들의 모든 조합을 고려하지 않은 각 특성변수(marginal)만의 모수 선형결합인 확률모형 $ P_W(x_1, x_2, ⋯, x_n) = h(ω_1, ω_2, ⋯, ω_n) $\n",
        "\n",
        "  대부분의 머신러닝, 딥러닝 모형은 이 확률모형에 해당한다.\n",
        "  예를 들어, $h(ω_i)$를 소위 sigmoid함수인 $ \\frac{1}{1 + e^(-ω_0 + \\Sigma^n_{i=1}{ω_i⋅x_i})}$로 선택하여 비선형 변환하여 모집단의 특성에 대한 추정치(모수) $ω$를 추정하여 대출금을 상환하거나 상환하지 않을 확률을 구하게 된다. \n",
        "\n",
        "  (2) 통계학과 통계적 머신러닝의 관계\n",
        "\n",
        "  통계학에서는 선형결합모수 $ω$를 잘 추정하여 목적변수 $y$를 예측하지만,\n",
        "\n",
        "  머신러닝에서는 $y$를 잘 예측하도록 $ω$를 조절 또는 추정한다는 차이점이 있다. 전자는 소위 대수의 법칙, 중심극한정리를 이용하여 모수 추정치 $ \\hat{\\omega_0}, ⋯, \\hat{\\omega_k} $의 정확도를 점검하고 근사분포를 구하게 된다. 예측치 $\\hat{y}$의 정밀도에 기여하지 못하는 $\\omega_j$는 제거한다. 확률변수 오차항 $𝟄_i$를 더해주어(오차항의 평균은 0으로 가정) $ \\hat{\\omega_0}, ⋯, \\hat{\\omega_k} $의 분포를 구하게 된다. \n",
        "\n",
        "  머신러닝에서는 오차항 $𝟄_i$의 분산이 과대적합(overfitting)의 중요한 기준을 제공한다. 단, 머신러닝적 접근은 필연적으로 2가지 문제가 발생한다.\n",
        "\n",
        "  (a) 특성변수 $x_k$가 $\\hat{y}$의 정밀도에 기여하는지를 측정하는 문제\n",
        "\n",
        "  (b) 모형 $ h(ω_0 + \\Sigma^k_{j=1}{ω_j⋅x_{ij}}) $가 관측된 표본에만 지나치게 적합되는 문제\n",
        "\n",
        "  (a-대안) 특성변수 없이 구한 표본평균모형과 비교하여 특성변수의 기여도를 측정한다. 특성변수를 선형결합한 모형이 평균모형보다 우수하면 특성변수가 모형성능에 기여한다고 말한다. \n",
        "\n",
        "  (b-대안) 시험 데이터(test or never-seen-before data)에 $\\hat{y}$의 성능이 가장 좋도록 모수 $\\omega$를 추정한 모형을 적용한다. 모형진단과 교차검증을 통해 모수 $\\omega$를 재추정한다. \n",
        "\n",
        "  과소추정된(학습데이터 성능이 시험데이터 성능보다 많이 떨어지는 경우) 특성변수를 더 늘리거나 특성변수의 선형결합이 아닌 비선형 모형을 시도하여야 한다. \n",
        "\n",
        "  y의 예를 들어, 은행에서 돈을 갚지 못할 디폴트 차주(돈을 빌린 채무자 중 연체하는 자)비율이 작을 경우 모형이 다수 그룹에 과대적합되어 전체 오분류율을 줄이기 때문에 소수그룹은 과대표집(oversampling)하고 다수그룹은 과소표집(undersampling)하여 관측치의 균형을 맞추어야 한다."
      ],
      "metadata": {
        "id": "a-npPypytEP0"
      }
    },
    {
      "cell_type": "markdown",
      "source": [
        "##### * **모형의 성능향상**\n",
        "\n",
        "  (1) random forest : boostraping 기법\n",
        "\n",
        "  $n$개로 구성된 임의표본은 without replacement로 반복추출하여 $n$개의 데이터 셋을 $M$개로 만들어 $M$개의 데이터 셋에 동일한 $M$개의 모형을 추정, 새로운 데이터를 입력하여 $M$개의 예측결과를 출력하는 것\n",
        "\n",
        "  y(목적변수, 종속변수)가 분류일 경우 $M$개의 모형이 예측한 결과에서 가장 높은 빈도의 그룹으로 새로운 데이터를 분류한다. 회귀이면 $M$개의 예측치 평균을 최종 예측치로 한다. $M$개의 예측치 분포와 모수추정치 분포를 구할 수 있다. \n",
        "\n",
        "  (2) boosting 기법\n",
        "  \n",
        "  부스팅은 앞 모형의 결과를 이용하여 뒤따르는 모형은 잔차(즉, 예측 오차)가 큰 관측치에 좀 더 가중치를 부여하여 모형을 향상시키고 있다. \n",
        "\n",
        "  잔차(residual) $y_i - \\hat{y_i} = r_i$를 목적변수로 하여 동일한 특성변수로  $\\hat{r_i}$를 예측하는 것. \n",
        "  \n",
        "  $y - \\hat{y} - r_1, \\cdots - r_{9} = r_{10}$를 구하여 동일한 특성변수 $\\hat{r_{10}}$을 구한다.\n",
        "\n",
        "  $M$번의 절차를 반복하여 $y$의 추정치인 $\\hat{y} + \\Sigma^M_{i=1}{\\hat{r_i}} $을 구한다. \n",
        "\n",
        "  **(3) 모형진단과 규제화**\n",
        "\n",
        "    특성변수선택\n",
        "    불균형자료(imbalance data) : 클래스 불균형 조정\n",
        "    쌍방향 시각화  \n",
        "    L1, L2 규제화(regularization != scaling)\n",
        "    Gradient decent(경사적 하강)\n",
        "    Cross Validation(k-폴드 교차검증 등)\n",
        "    Grid search CV(CV를 이용한 최적의 하이퍼파라미터 선택)\n",
        "    Nested cross-validation(머신러닝의 최종 성능 점검)\n",
        "    Pipeline(머신러닝 여러 기법을 통합 처리)"
      ],
      "metadata": {
        "id": "CjAn6G3e4RO8"
      }
    },
    {
      "cell_type": "markdown",
      "source": [
        "##### * **머신러닝 모형과 손실함수**\n",
        "\n",
        "  (1) 머신러닝 모형은 크게 4가지 조건부 확률로 분류할 수 있다.\n",
        "\n",
        "  **(2) $P(y_i|x_i)$ : 특성변수 $x_i$를 입력하여 $y_i$의 예측치를 출력하는 구조**\n",
        "\n",
        "  지도학습 머신러닝 : LinearRegression, BinaryLinearRegression, SupportVectorMachine, DiscriminateAnalysis, RandomForest(EnsembleLearning), XGBoost, LightGBM, CatBoost\n",
        "\n",
        "  비지도학습 머신러닝 : K-means, K-medoids, DBSCAN, HDBSCAN(군집이 곧 목적변수 역할)\n",
        "\n",
        "  이러한 구조를 가진 딥러닝 : R-CNN, YOLO, transformer, BERT, GAN\n",
        "\n",
        "  또한 이러한 구조를 가지는 정책기반 / 가치기반 강화학습도 있으나 어차피 지금 수준으로는 받아들이기 어려우니 생략\n",
        "\n",
        "  **(3) $P(y_i|x_i)$ : 모형에 $x_i$를 입력하여 이 $x_i$를 재생하는 모형군 (정보의 손실 없이 차원축소된 $x_i^*$를 생성)**\n",
        "\n",
        "  통계적 머신러닝 : PCA, MDS, ManifoldLearning, t-SNE\n",
        "  \n",
        "  딥러닝 : AutoEncoder, GAN\n",
        "\n",
        "  (4) $P(y_t|y_{t-1}, \\cdots)$ : 자료의 순서가 중요한 정보를 가질 때 $y_t$를 예측하기 위해 $y_i$의 과거치를 입력하는 모형\n",
        "\n",
        "  통계적 머신러닝 : ARIMA 등 모든 시계열자료분석 모형\n",
        "\n",
        "  딥러닝 : RNN(recurrent neural network)\n",
        "\n",
        "  (5) $P(y_t|y_{T}, \\cdots, y_{t-1})$ : $y_t$를 예측하기 위해 과거시점뿐만 아니라 미래시점 정보를 양방향으로 이용하여 시점 t의 목적변수 $y_i$를 예측하는 모형\n",
        "\n",
        "  딥러닝 머신번역 모형 : transformer, BERT, XLM 등\n",
        "\n",
        "  **(6) 손실함수**\n",
        "\n",
        "  $L(θ) = - \\Sigma{logP_w(y_i|x_i)} $를 손실함수로 정의하고 이를 최소로 하는 $ω$를 추정한다.\n",
        "  \n",
        "  로그우도가 정규분포를 따른다면, $ P_w(y_i|x_i) $ ~ $ N(ω + \\Sigma^n_{j=1}{ω_i⋅x_{ij}} , σ^2) $이고 \n",
        "  \n",
        "  $ L(\\omega) = \\Sigma^n_{i=1}{(y_i - \\omega_i - \\Sigma^n_{j=1}{ω_i⋅x_{ij}})^2} $\n",
        "\n",
        "  $ P_w(y_i = 1|x_i) $가 $ P_w(y_i = 1|x_i) = p_i $인 베르누이 분포를 따르면 손실함수 $L(θ)$는 binary cross-entropy(이진 교차/상호정보량)이 된다.\n",
        "\n",
        "  $ L(\\omega) = - \\Sigma^n_{i=1}{y_i⋅logp_i + (1-y_i)⋅log(1-p_i)} $\n"
      ],
      "metadata": {
        "id": "vYDkinOK60Oe"
      }
    },
    {
      "cell_type": "code",
      "source": [
        "import AutoViz\n",
        "  # [데이터 변수의 분포적 특성, 목적변수와의 관계 등 변수선택과 모형설정에 필요한 정보 파악을 위한 시각화 모듈]\n",
        "import Bamboolib\n",
        "  # [결측치, 이상치, 불균형 자료 전처리]"
      ],
      "metadata": {
        "id": "sxxuWrmUZw9R"
      },
      "execution_count": 99,
      "outputs": []
    },
    {
      "cell_type": "code",
      "source": [],
      "metadata": {
        "id": "H7rSxPxjbM_n"
      },
      "execution_count": null,
      "outputs": []
    },
    {
      "cell_type": "code",
      "source": [],
      "metadata": {
        "id": "prFEjSdYbGeC"
      },
      "execution_count": 99,
      "outputs": []
    },
    {
      "cell_type": "code",
      "source": [],
      "metadata": {
        "id": "rHCHsIXWZw3o"
      },
      "execution_count": 99,
      "outputs": []
    },
    {
      "cell_type": "code",
      "source": [],
      "metadata": {
        "id": "D0QyNDplZwwt"
      },
      "execution_count": 99,
      "outputs": []
    },
    {
      "cell_type": "code",
      "source": [],
      "metadata": {
        "id": "SNepN4NyvJnm"
      },
      "execution_count": 99,
      "outputs": []
    },
    {
      "cell_type": "code",
      "source": [],
      "metadata": {
        "id": "QpFYqtivaGGA"
      },
      "execution_count": 99,
      "outputs": []
    }
  ]
}