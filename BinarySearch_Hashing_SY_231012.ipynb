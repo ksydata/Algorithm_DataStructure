{
  "nbformat": 4,
  "nbformat_minor": 0,
  "metadata": {
    "colab": {
      "provenance": [],
      "authorship_tag": "ABX9TyO0t7vkBXC0sT1A6lTPnYdA",
      "include_colab_link": true
    },
    "kernelspec": {
      "name": "python3",
      "display_name": "Python 3"
    },
    "language_info": {
      "name": "python"
    }
  },
  "cells": [
    {
      "cell_type": "markdown",
      "metadata": {
        "id": "view-in-github",
        "colab_type": "text"
      },
      "source": [
        "<a href=\"https://colab.research.google.com/github/ksydata/Algorithm_DataStructure/blob/main/BinarySearch_Hashing_SY_231012.ipynb\" target=\"_parent\"><img src=\"https://colab.research.google.com/assets/colab-badge.svg\" alt=\"Open In Colab\"/></a>"
      ]
    },
    {
      "cell_type": "code",
      "execution_count": 1,
      "metadata": {
        "id": "y5_NUFjvW9yJ"
      },
      "outputs": [],
      "source": [
        "import numpy as np\n",
        "import pandas as pd\n",
        "import os\n",
        "from typing import *\n",
        "import time"
      ]
    },
    {
      "cell_type": "markdown",
      "source": [
        "#### 알고리즘 성능 비교(빅오표기법 시간복잡도)\n",
        "\n",
        "각 복잡도 클래스에 대한 알고리즘에 대한 크기가 N인 문제 인스턴스(행)을 처리하는 데 드는 예상시간은 1시간이다.\n",
        "\n",
        "| 연번 | 알고리즘 | 1시간 동안 처리 가능한 문제 인스턴스(행) 크기 N |\n",
        "| --- | --- | --- |\n",
        "| 0 | O(1) 알고리즘 | 성능이 문제 인스턴스 크기와 무관 |\n",
        "| 1 | O(logN) 알고리즘 | 문제 인스턴스 크기 2^4096개 이하 |\n",
        "| 2 | O(N) 알고리즘 | 4096개 이하 |\n",
        "| 3 | O(NlogN) 알고리즘 | 462개 이하 |\n",
        "| 4 | O(N^2) 알고리즘 | 64개 이하 |\n",
        "| 5 | O(2^N) 알고리즘 | 12개 이하 |\n",
        "| 6 | O(N!) 알고리즘 | 7개 이하 |\n",
        "\n",
        "| 연번 | 알고리즘 | 상황 |\n",
        "| --- | --- | --- |\n",
        "| 0 | 삽입 정렬 알고리즘 | 항목이 몇 개 되지 않는다 |\n",
        "| 1 | 삽입 정렬 알고리즘 | 항목이 대부분 정렬되어 있다 |\n",
        "| 2 | 힙 정렬 알고리즘 | 최저 상황을 고려하여야 한다 |\n",
        "| 3 | 퀵 정렬 알고리즘 | 평균 정렬 결과가 필요하다 |\n",
        "| 4 | 버킷 정렬 알고리즘 | 항목을 조밀한 모집단에서 가져왔다 |\n",
        "| 5 | 삽입 정렬 알고리즘 | 가능한 짧은 코드를 선호한다 |"
      ],
      "metadata": {
        "id": "u9DwxDSMYB8h"
      }
    },
    {
      "cell_type": "markdown",
      "source": [
        "## 이진배열탐색 알고리즘\n"
      ],
      "metadata": {
        "id": "f7hgybZjJMCQ"
      }
    },
    {
      "cell_type": "markdown",
      "source": [
        "#### 1.정렬된 리스트에서 Target하는 특정 수를 찾는 이진배열탐색 구현(인덱스 위치)"
      ],
      "metadata": {
        "id": "yH7GGgGdcfxn"
      }
    },
    {
      "cell_type": "code",
      "source": [
        "def binaryArraySearch(Array, target):\n",
        "  low_index = 0\n",
        "  high_index = len(Array) - 1\n",
        "\n",
        "  while low_index <= high_index:\n",
        "    # 조건을 걸어서 반복 루프를 돌릴 것\n",
        "\n",
        "    mid_index = (low_index + high_index) // 2\n",
        "      # 입력받은 배열의 중간값 위치를 몫으로 계산\n",
        "\n",
        "  # [1] 인덱스 번호 high가 low보다 작아져 교차되면 반복 루프 종료\n",
        "    if target < Array[mid_index]:\n",
        "      # target이 중간값보다 작으면 이어서 계속 찾음\n",
        "      high_index = mid_index - 1\n",
        "        # 배열의 끝 범위를 high에서 mid_index-1로 제한하는 접근 방식(파이썬은 0부터 시작하니까 1빼주는 것 잊지말 것)\n",
        "    elif target > Array[mid_index]:\n",
        "      # targert이 중간값보다 크면 이어서 계속 찾음\n",
        "      low_index = mid_index + 1\n",
        "        # 배열의 시작 범위를 low에서 mid_index+1로 제한하는 접근 방식\n",
        "\n",
        "  # [2] target이 중간값과 같으면 반복 루프 종료\n",
        "    else:\n",
        "      return True\n",
        "        # target = Array[mid_index]\n",
        "\n",
        "    # SY's Error\n",
        "      # if low >= Array[mid_index]: Array[mid_index] = low\n",
        "      # elif high <= Array[mid_index]: Array[mid_index] = high\n",
        "\n",
        "  return False\n",
        "    # 배열 크기가 0일 때 인덱스 에러를 방지하는 출력값"
      ],
      "metadata": {
        "id": "7h7FlCDqXAbl"
      },
      "execution_count": 6,
      "outputs": []
    },
    {
      "cell_type": "code",
      "source": [
        "binaryArraySearch(Array = [5*n for n in range(0, 100, 5)], target = 25)"
      ],
      "metadata": {
        "colab": {
          "base_uri": "https://localhost:8080/"
        },
        "id": "97YZD8S2ekQb",
        "outputId": "f80de395-dfdf-42b8-e2f5-c5c869fb6102"
      },
      "execution_count": 7,
      "outputs": [
        {
          "output_type": "execute_result",
          "data": {
            "text/plain": [
              "True"
            ]
          },
          "metadata": {},
          "execution_count": 7
        }
      ]
    },
    {
      "cell_type": "markdown",
      "source": [
        "#### 2.이진배열탐색으로 리스트에서 값 찾은 후 위치 반환하기"
      ],
      "metadata": {
        "id": "dFwBDZ65jywT"
      }
    },
    {
      "cell_type": "code",
      "source": [
        "def binaryArraySearchValue(Array, target):\n",
        "  # 그전에 target >= Array[0]이나 target <= Array[-1]인지 확인할 필요가 있나\n",
        "  # 정렬된 리스트에서 있을 수 없는 목표값을 찾는 의미없는 탐색을 방지하기 위함이나 굳이 할 필요는 없음\n",
        "\n",
        "  low_index = 0\n",
        "  high_index = len(Array) - 1\n",
        "\n",
        "  while low_index <= high_index:\n",
        "    mid_index = (low_index + high_index) // 2\n",
        "\n",
        "    if target < Array[mid_index]:\n",
        "      high_index = mid_index - 1\n",
        "    elif target > Array[mid_index]:\n",
        "      low_index = mid_index + 1\n",
        "    else:\n",
        "      return mid_index\n",
        "\n",
        "  return -(low_index + 1)\n",
        "    # 배열에 없는 값을 탐색할 경우 target을 0을 제외한 모든 인덱스가 될 수 있도록 (low_index + 1)에 음수를 취한 값을 반환"
      ],
      "metadata": {
        "id": "clgPvtSJekM7"
      },
      "execution_count": 9,
      "outputs": []
    },
    {
      "cell_type": "code",
      "source": [
        "display([5*n for n in range(0, 10, 1)])\n",
        "binaryArraySearchValue(Array = [5*n for n in range(0, 10, 1)], target = 25)"
      ],
      "metadata": {
        "colab": {
          "base_uri": "https://localhost:8080/",
          "height": 53
        },
        "id": "vuQbysaMekED",
        "outputId": "e8986675-03d1-4b7c-bb3e-edce7018e0d9"
      },
      "execution_count": 13,
      "outputs": [
        {
          "output_type": "display_data",
          "data": {
            "text/plain": [
              "[0, 5, 10, 15, 20, 25, 30, 35, 40, 45]"
            ]
          },
          "metadata": {}
        },
        {
          "output_type": "execute_result",
          "data": {
            "text/plain": [
              "5"
            ]
          },
          "metadata": {},
          "execution_count": 13
        }
      ]
    },
    {
      "cell_type": "markdown",
      "source": [
        "#### 3.목표에 없는 값(target)을 조회할 때 유효하지 않은 위치 인덱스(-1)을 반환하는 대신 배열에 값을 삽입한다면 해당 위치에 넣을 수 있다는 반환값을 출력하는 알고리즘\n",
        "floor($log_2(N)$) 이상 순회할 수 없는 이진배열탐색의 while문 반복 루프"
      ],
      "metadata": {
        "id": "fDZZQ2A1pXFP"
      }
    },
    {
      "cell_type": "code",
      "source": [
        "def binaryArraySearchNaN(Array, target):\n",
        "\n",
        "  low_index = 0\n",
        "  high_index = len(Array) - 1\n",
        "\n",
        "  while low_index <= high_index:\n",
        "    mid_index = (low_index + high_index) // 2\n",
        "    difference = target - Array[mid_index]\n",
        "\n",
        "    if difference < 0:\n",
        "      # target < Array[mid_index]:\n",
        "      high_index = mid_index - 1\n",
        "    elif difference > 0:\n",
        "      # target > Array[mid_index]:\n",
        "      low_index = mid_index + 1\n",
        "    else:\n",
        "      return mid_index\n",
        "\n",
        "  return None"
      ],
      "metadata": {
        "id": "SNmBXwpIekAe"
      },
      "execution_count": 16,
      "outputs": []
    },
    {
      "cell_type": "code",
      "source": [
        "binaryArraySearchNaN(Array = [5*n for n in range(0, 10, 1)], target = 31)"
      ],
      "metadata": {
        "id": "piGEodF_kXnR"
      },
      "execution_count": 17,
      "outputs": []
    },
    {
      "cell_type": "markdown",
      "source": [
        "#### 4.1)리스트에서 순열을 생성하기"
      ],
      "metadata": {
        "id": "b-9NSiK-rrBB"
      }
    },
    {
      "cell_type": "code",
      "source": [
        "class PermutationList:\n",
        "  def __init__(self, Array: List):\n",
        "    self.Array = Array\n",
        "\n",
        "  # 팩토리얼(재귀함수)\n",
        "  def factorial(self, N):\n",
        "    from scipy.special import factorial\n",
        "\n",
        "    return self.Array * factorial(N)\n",
        "\n",
        "  def checkSorted(self):\n",
        "    for index, value in enumerate(self.Array):\n",
        "      if index > 0 and value < self.Array[index-1]:\n",
        "        # 정렬되어 있다면 index와 value가 같은 배열 위치값으로 반환될 것\n",
        "        return False\n",
        "\n",
        "    return True\n",
        "\n",
        "  def permutationSort(self):\n",
        "    from itertools import permutations\n",
        "\n",
        "    for attempt in permutations:\n",
        "      if self.checkSorted(attempt):\n",
        "        self.Array[:] = attempt[:]\n",
        "        return"
      ],
      "metadata": {
        "id": "640CjVDVkXj6"
      },
      "execution_count": 26,
      "outputs": []
    },
    {
      "cell_type": "code",
      "source": [
        "permutationInstance = PermutationList(Array = [5*n for n in range(0, 10, 1)])"
      ],
      "metadata": {
        "id": "s5OcE_x2kXhm"
      },
      "execution_count": 27,
      "outputs": []
    },
    {
      "cell_type": "code",
      "source": [
        "# permutationInstance.factorial(N = 10)"
      ],
      "metadata": {
        "id": "ignutZ8ot1Ic"
      },
      "execution_count": 29,
      "outputs": []
    },
    {
      "cell_type": "markdown",
      "source": [
        "#### 4.2)리스트에서 **반복적으로 최댓값을 제거**하여 **정렬하기**"
      ],
      "metadata": {
        "id": "IahuQ5u9wkdk"
      }
    },
    {
      "cell_type": "code",
      "source": [
        "def maxSorted(Array):\n",
        "  result: List = []\n",
        "\n",
        "  while len(Array) > 1:\n",
        "    # 둘 이상의 값을 가져야 최댓값과 최솟값이 존재함\n",
        "    index_max = max(\n",
        "        range(len(Array)),\n",
        "        key = Array.__getitem__\n",
        "    )\n",
        "    result.insert(0, Array[index_max])\n",
        "    Array = list(Array[ :index_max ]) + list(Array[ index_max+1: ])\n",
        "      # index_max행번호의 원소를 리스트에서 제외함(index_max행번호 위치의 값에 0을 삽입하여 result 리스트에 저장)\n",
        "    print(\"\\n\", index_max, \"\\n\", result, \"\\n\", Array, \"\\n\")\n",
        "\n",
        "  return Array + result"
      ],
      "metadata": {
        "id": "Z5OSGQhot5V4"
      },
      "execution_count": 34,
      "outputs": []
    },
    {
      "cell_type": "code",
      "source": [
        "maxSorted(Array = [5*n for n in range(0, 5, 1)])"
      ],
      "metadata": {
        "colab": {
          "base_uri": "https://localhost:8080/"
        },
        "id": "2mJXuxeu0rHN",
        "outputId": "7517daae-e889-454d-fb9c-b5a1b8830c5a"
      },
      "execution_count": 36,
      "outputs": [
        {
          "output_type": "stream",
          "name": "stdout",
          "text": [
            "\n",
            " 4 \n",
            " [20] \n",
            " [0, 5, 10, 15] \n",
            "\n",
            "\n",
            " 3 \n",
            " [15, 20] \n",
            " [0, 5, 10] \n",
            "\n",
            "\n",
            " 2 \n",
            " [10, 15, 20] \n",
            " [0, 5] \n",
            "\n",
            "\n",
            " 1 \n",
            " [5, 10, 15, 20] \n",
            " [0] \n",
            "\n"
          ]
        },
        {
          "output_type": "execute_result",
          "data": {
            "text/plain": [
              "[0, 5, 10, 15, 20]"
            ]
          },
          "metadata": {},
          "execution_count": 36
        }
      ]
    },
    {
      "cell_type": "markdown",
      "source": [
        "클래스 연산자 오버로딩 메서드\n",
        "\n",
        "> Vector Class\n",
        "> self._x와 같이 nonpublic 멤버변수는 import되지 않고 감춰지므로 좌표값을 참조하기 위해 magic method `__getitem__`, `__setitem__`을 사용\n",
        "> * `__getitem__`\n",
        "  self의 k번째 값을 리턴하는 매직 메서드\n",
        "> * `__setitem__`\n",
        "  self의 k번째 값에 value값을 대입하는 매직 메서드"
      ],
      "metadata": {
        "id": "uBsGVULo0KzC"
      }
    },
    {
      "cell_type": "markdown",
      "source": [
        "\n",
        "> Point Class\n",
        "> * `__add__`, `__sub__`, `__mul__`, `__mod__`(%), `__truediv__`(/), `__floordiv__`(//)\n",
        "> * `__iadd__`, `__isub__`, `__imul__`, `__imod__`, `__itruediv__`, `__ifloordiv__`\n",
        "> * `__lt__`(<), `__le__`(<=), `__gt__`(>), `__ge__`(>=), `__eq__`(==), `__ne__`(!=)\n",
        "> * dot(p, q) = 두 벡터 p, q의 내적 = p*x * q*x + p*y * q*y\n",
        "> * dist(p, q) = 두 점 p, q의 길이\n",
        "> * length(p) = 벡터 p의 길이\n",
        "> * move(p, dx, dy) = 점 p를 x축으로 dx만큼, y축으로 dy만큼 더해 이동"
      ],
      "metadata": {
        "id": "5gUfCDdU0CZB"
      }
    },
    {
      "cell_type": "markdown",
      "source": [
        "---"
      ],
      "metadata": {
        "id": "zBOz4e5iy_LC"
      }
    },
    {
      "cell_type": "markdown",
      "source": [
        "## 해싱과 해시 테이블\n",
        "\n",
        "* 효율성을 유지하면서 심볼 테이블 크기를 조정하는 방법\n",
        "* 계산적 해시함수가 키 값을 균일하게 분포시켜 심볼 테이블 구현의 효율성을 보장하는 방법\n",
        "\n",
        "* 연속적인 호출로 연산의 동작이 변경될 수 있는 경우에 평균 런타임 성능을 결정하기 위한 분할 상환 분석(amortized analysis)\n",
        "* 기하학적 크기 재조정으로 비용이 큰 크기 조정 연산의 빈도를 줄이는 방법\n"
      ],
      "metadata": {
        "id": "D69gFHg7y7QQ"
      }
    },
    {
      "cell_type": "code",
      "source": [],
      "metadata": {
        "id": "CBy7w6GAy9ZH"
      },
      "execution_count": null,
      "outputs": []
    }
  ]
}