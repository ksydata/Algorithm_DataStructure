{
  "nbformat": 4,
  "nbformat_minor": 0,
  "metadata": {
    "colab": {
      "provenance": [],
      "authorship_tag": "ABX9TyMMsIjsWuEIw87jzaFNGaD9",
      "include_colab_link": true
    },
    "kernelspec": {
      "name": "python3",
      "display_name": "Python 3"
    },
    "language_info": {
      "name": "python"
    }
  },
  "cells": [
    {
      "cell_type": "markdown",
      "metadata": {
        "id": "view-in-github",
        "colab_type": "text"
      },
      "source": [
        "<a href=\"https://colab.research.google.com/github/ksydata/Algorithm_DataStructure/blob/main/%5BMAIN%5D%20AlgorithmCodingTest.ipynb\" target=\"_parent\"><img src=\"https://colab.research.google.com/assets/colab-badge.svg\" alt=\"Open In Colab\"/></a>"
      ]
    },
    {
      "cell_type": "code",
      "execution_count": 2,
      "metadata": {
        "id": "VT8SLPtE2kba"
      },
      "outputs": [],
      "source": [
        "import random\n",
        "from typing import *"
      ]
    },
    {
      "cell_type": "markdown",
      "source": [
        "#### 10 ~ 99 사이의 난수 n개 생성하되, 13이 나오면 중단하기"
      ],
      "metadata": {
        "id": "j0_qQH2zON-0"
      }
    },
    {
      "cell_type": "code",
      "source": [
        "n = int( input(\"난수의 개수 입력: \") )\n",
        "\n",
        "for _ in range(n):\n",
        "  # 0부터 n(인풋값)번 반복하되, 반복할 변수 지정 안함\n",
        "\n",
        "  r = random.randint(10, 99)\n",
        "    # 10 ~ 99까지 랜덤한 정수를 난수로 생성하여 r에 저장\n",
        "  print(r, end = \" \")\n",
        "    # r을 출력하되, 마지막 출력값에 공백 생성\n",
        "\n",
        "  if r == 13:\n",
        "    # r이 13일 때,\n",
        "    print(\"\\n프로그램을 중단함\")\n",
        "    break\n",
        "      # 사후판단 반복문 형태\n",
        "\n",
        "  else:\n",
        "    print(\"\\n난수생성을 종료함\")\n"
      ],
      "metadata": {
        "colab": {
          "base_uri": "https://localhost:8080/"
        },
        "id": "meoAuRNgOW_r",
        "outputId": "b459063d-1809-4d13-b93d-8ebee4706f62"
      },
      "execution_count": 3,
      "outputs": [
        {
          "output_type": "stream",
          "name": "stdout",
          "text": [
            "난수의 개수 입력: 55\n",
            "80 \n",
            "난수생성을 종료함\n",
            "49 \n",
            "난수생성을 종료함\n",
            "85 \n",
            "난수생성을 종료함\n",
            "90 \n",
            "난수생성을 종료함\n",
            "46 \n",
            "난수생성을 종료함\n",
            "96 \n",
            "난수생성을 종료함\n",
            "66 \n",
            "난수생성을 종료함\n",
            "88 \n",
            "난수생성을 종료함\n",
            "93 \n",
            "난수생성을 종료함\n",
            "35 \n",
            "난수생성을 종료함\n",
            "88 \n",
            "난수생성을 종료함\n",
            "75 \n",
            "난수생성을 종료함\n",
            "89 \n",
            "난수생성을 종료함\n",
            "39 \n",
            "난수생성을 종료함\n",
            "30 \n",
            "난수생성을 종료함\n",
            "27 \n",
            "난수생성을 종료함\n",
            "13 \n",
            "프로그램을 중단함\n"
          ]
        }
      ]
    },
    {
      "cell_type": "markdown",
      "source": [
        "#### 1부터 n까지 정수의 합 구하기(n값은 양수만 입력 받기)"
      ],
      "metadata": {
        "id": "E9HwxYOHR9Ir"
      }
    },
    {
      "cell_type": "code",
      "source": [
        "while True:\n",
        "  # while i <= n:\n",
        "  # 마지막 반복 루프에서 i가 n+1(카운터용 변수)보다 작거나 같으면 중단\n",
        "  n = int( input(\"n값 입력 : \") )\n",
        "  if n > 0:\n",
        "    break\n",
        "    # n이 0보다 커질 때까지 반복하고 그렇지 않으면 중단"
      ],
      "metadata": {
        "colab": {
          "base_uri": "https://localhost:8080/"
        },
        "id": "GVrluNhUQAPW",
        "outputId": "4d34fe4d-b58b-4a65-d014-9d96338ff1fb"
      },
      "execution_count": 7,
      "outputs": [
        {
          "name": "stdout",
          "output_type": "stream",
          "text": [
            "n값 입력 : 9\n"
          ]
        }
      ]
    },
    {
      "cell_type": "code",
      "source": [
        "sum: int = 0\n",
        "i: int = 0\n",
        "\n",
        "for i in range(1, n+1):\n",
        "  sum += i\n",
        "    # sum에 i를 반복합하며 n번째(카운터용 변수)일 때 종료\n",
        "  i += 1\n",
        "    # i의 크기를 0부터 1씩 증가\n",
        "\n",
        "print(f\"1부터 {n}까지 정수의 합은 {sum}입니다.\")"
      ],
      "metadata": {
        "colab": {
          "base_uri": "https://localhost:8080/"
        },
        "id": "j-VzYnXCYZXA",
        "outputId": "b6fe4bcd-2e9c-495a-fa75-3068b37867bb"
      },
      "execution_count": 8,
      "outputs": [
        {
          "output_type": "stream",
          "name": "stdout",
          "text": [
            "1부터 9까지 정수의 합은 45입니다.\n"
          ]
        }
      ]
    },
    {
      "cell_type": "markdown",
      "source": [
        "#### 가로, 세로 길이가 정수이고 넓이가 area인 직사각형 변의 길이 나열하기\n"
      ],
      "metadata": {
        "id": "87qIer4GcDDl"
      }
    },
    {
      "cell_type": "code",
      "source": [
        "area = int( input(\"직사각형의 넓이 입력 : \"))\n",
        "\n",
        "for i in range(1, area + 1):\n",
        "  # 변의 길이(가로, 세로)가 1부터 area까지 1씩 증가할 때\n",
        "\n",
        "  if i * i > area:\n",
        "    # 가로i와 세로i의 넓이(곱)가 area(입력값)보다 클 경우\n",
        "    break\n",
        "      # [break] 강제 종료\n",
        "  if area % i:\n",
        "    # area(직사각형 넓이)가 i로 나누었을 때 \"나누어떨어지지 않으면\"\n",
        "    # \"i는 변의 길이(약수)가 될 수 없음\"\n",
        "     continue\n",
        "    # [continue] if 조건문에 해당하지 않으면 for문의 다음 반복 수행,\n",
        "    # [pass]와의 차이는 나머지 루프 본문을 건너뛰고 조건식으로 돌아간다는 점에 있음\n",
        "  print(f\"{i} * {area // i}\")\n",
        "    # else: i * i == area일 때 i, i를 반환하라는 것과 같은 의미\n",
        "    # i와 area를 i로 나누었을 때의 몫\n",
        "    # [else] break문이 실행되지 않았을 때만 실행\n"
      ],
      "metadata": {
        "colab": {
          "base_uri": "https://localhost:8080/"
        },
        "id": "orxblEptfQXY",
        "outputId": "d5006203-5438-4c49-f300-ce5f4b7ffccc"
      },
      "execution_count": 10,
      "outputs": [
        {
          "output_type": "stream",
          "name": "stdout",
          "text": [
            "직사각형의 넓이 입력 : 50\n",
            "1 * 50\n",
            "2 * 25\n",
            "5 * 10\n"
          ]
        }
      ]
    },
    {
      "cell_type": "markdown",
      "source": [],
      "metadata": {
        "id": "oTxwJIGwh2xI"
      }
    },
    {
      "cell_type": "code",
      "source": [],
      "metadata": {
        "id": "kIpFiOGUfQTv"
      },
      "execution_count": null,
      "outputs": []
    },
    {
      "cell_type": "code",
      "source": [],
      "metadata": {
        "id": "O2Erg__hR86x"
      },
      "execution_count": null,
      "outputs": []
    },
    {
      "cell_type": "code",
      "source": [],
      "metadata": {
        "id": "8KI7txGWYYyt"
      },
      "execution_count": null,
      "outputs": []
    },
    {
      "cell_type": "code",
      "source": [],
      "metadata": {
        "id": "0o6YdO1pbnc1"
      },
      "execution_count": null,
      "outputs": []
    },
    {
      "cell_type": "code",
      "source": [],
      "metadata": {
        "id": "WAMXkimIY9uj"
      },
      "execution_count": null,
      "outputs": []
    },
    {
      "cell_type": "code",
      "source": [],
      "metadata": {
        "id": "0qko-hZ-Y10E"
      },
      "execution_count": null,
      "outputs": []
    },
    {
      "cell_type": "code",
      "source": [],
      "metadata": {
        "id": "WZMBVMEHY1wl"
      },
      "execution_count": null,
      "outputs": []
    },
    {
      "cell_type": "code",
      "source": [],
      "metadata": {
        "id": "GsTYswTJY1qV"
      },
      "execution_count": null,
      "outputs": []
    },
    {
      "cell_type": "code",
      "source": [],
      "metadata": {
        "id": "IB50O_mvY88O"
      },
      "execution_count": null,
      "outputs": []
    }
  ]
}