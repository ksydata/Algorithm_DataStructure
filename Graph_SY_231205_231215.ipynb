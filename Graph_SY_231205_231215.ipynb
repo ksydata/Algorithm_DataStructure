{
  "nbformat": 4,
  "nbformat_minor": 0,
  "metadata": {
    "colab": {
      "provenance": [],
      "authorship_tag": "ABX9TyPZJwNb7t5xe+JXjj7WuwPR"
    },
    "kernelspec": {
      "name": "python3",
      "display_name": "Python 3"
    },
    "language_info": {
      "name": "python"
    }
  },
  "cells": [
    {
      "cell_type": "code",
      "execution_count": null,
      "metadata": {
        "id": "bLqSF1rEsniI"
      },
      "outputs": [],
      "source": [
        "import numpy as np\n",
        "from typing import *\n",
        "from abc import ABC, abstractmethod"
      ]
    },
    {
      "cell_type": "markdown",
      "source": [
        "### 0.이진 탐색 트리\n",
        "\n",
        "* 이진 탐색 트리의 속성\n",
        "\n",
        "  모든 노드의 오른쪽 서브 트리에 있는 노드들은 그 노드보다 크고, 왼쪽 부분 트리에 있는 노드는 그 노드보다 작아야 한다\n",
        "\n",
        "  이진 탐색 트리의 높이는 평균적으로 O(lg(n))\n",
        "\n",
        "  다만, 어떤 순서로 삽입하는지에 따라 최악의 경우 O(n)이 될 수 있다.\n",
        "\n",
        "  이진 탐색 트리의 모든 기본 연산들은 (삽입, 탐색, 삭제) 높이 h에 비례한다."
      ],
      "metadata": {
        "id": "LVCq0Ful4Nqj"
      }
    },
    {
      "cell_type": "markdown",
      "source": [
        "### 1.그래프\n",
        "\n",
        "* 연결 관계가 있는 데이터를 저장하는 자료구조\n",
        "* 차수란 한 노드가 가지고 있는 엣지의 수"
      ],
      "metadata": {
        "id": "m31IjplTuHuP"
      }
    },
    {
      "cell_type": "markdown",
      "source": [
        "\n",
        "* 너비우선탐색 알고리즘 Pseudo Code\n",
        "```\n",
        "class BFS:\n",
        "    시작 노드를 방문 표시한 후\n",
        "    큐에 넣는다.\n",
        "\n",
        "    만약 큐에 노드가 있다면(큐에 아무 노드가 없을 때까지):\n",
        "      큐의 가장 앞 노드를 꺼낸다(First-In)\n",
        "      꺼낸 노드에 인접한 노드를 모두 순회하면서:\n",
        "        \n",
        "        만약 처음 방문한 노드라면:\n",
        "          방문한 노드 표시를 한다\n",
        "          큐에 넣는다\n",
        "```\n",
        "\n"
      ],
      "metadata": {
        "id": "Eqo21KkeF80O"
      }
    },
    {
      "cell_type": "markdown",
      "source": [
        "* 깊이우선탐색 알고리즘 Pseudo Code\n",
        "```\n",
        "class DFS:\n",
        "    시작 노드를 방문 표시 후\n",
        "    스택에 넣는다.\n",
        "\n",
        "    만약 스택에 노드가 있다면(스택에 아무 노드가 없을 때까지):\n",
        "      노드를 방문 표시한다.\n",
        "      꺼낸 노드에 인접한 노드를 모두 순회하면서:\n",
        "        만약 처음 방문하거나 스택에 없는 노드라면:\n",
        "          방문한 노드 표시를 한다.\n",
        "          스택에 넣는다.\n",
        "```"
      ],
      "metadata": {
        "id": "ynQsgKNySW11"
      }
    },
    {
      "cell_type": "code",
      "source": [],
      "metadata": {
        "id": "kDzXa3EOHIm-"
      },
      "execution_count": null,
      "outputs": []
    },
    {
      "cell_type": "code",
      "source": [],
      "metadata": {
        "id": "YLB8uaSL0np3"
      },
      "execution_count": null,
      "outputs": []
    },
    {
      "cell_type": "markdown",
      "source": [
        "* 가중치 그래프 최단 경로(Dijkstra) 알고리즘 Pseudo Code\n",
        "\n",
        "  ```\n",
        "    class Dijkstra:\n",
        "        # def __init__(self):\n",
        "        시작점의 distance를 0으로 초기화\n",
        "        predecessor를 None으로 초기화\n",
        "\n",
        "        만약 모든 노드가 complete라면 종료:\n",
        "            complete하지 않은 노드 중 distance가 가장 작은 노드를 선택\n",
        "            이 노드에 인접한 노드 중 complete하지 않은 변수를 순회하면서:\n",
        "              각 엣지를 relax한다\n",
        "            현재 노드를 complete처리한다\n",
        "  ```\n",
        "\n",
        "* 가중치 그래프 최단 경로(Dijkstra) 알고리즘 변수\n",
        "\n",
        "  distance : 특정 노드까지의 최단거리 예상치(현재까지 아는 정보로 계산한 최단 거리)\n",
        "\n",
        "  predecessor : 특정 노드가 어디에서 왔는지 이전 노드(직전 노드)를 표시, 더 짧은 경로를 찾으면 predecessor를 수정\n",
        "\n",
        "  complete : 노드까지의 최단 경로를 찾았다고 표시하기 위한 변수(TRUE)\n",
        "\n",
        "* 엣지(Relaxation)\n",
        "\n",
        "  노드 A -> 노드 B를 방문하면서 B의 distance, predecessor를 바꾸는 것을 엣지(A, B)를 relax한다고 표현한다.\n",
        "\n",
        "  A.distance와 엣지(A, B)의 가중치를 더한 후 B.distance와 비교한다.\n",
        "\n",
        "  B.predecessor = A(새로 찾은 거리가 최단 경로라면 변경)\n",
        "\n",
        "  B.predecessor = start_node(그대로)\n",
        "\n",
        "* 최단 거리와 최단 경로 문제\n",
        "  \n",
        "  Dijkstra 알고리즘이 끝나면 모든 노드의 distance와 predecessor 변수가 확정된다. 시작점에서 마지막 노드까지의 최단 경로를 알고 싶다면 predecessor를 이용하여 back tracking을 하면 되고, 최단 거리를 알고 싶다면 각 노드의 distance 변수를 보면 된다.\n",
        "\n",
        "* 최단 경로 문제와 최적 부분 구조"
      ],
      "metadata": {
        "id": "08kSBh_vs1s2"
      }
    },
    {
      "cell_type": "code",
      "source": [],
      "metadata": {
        "id": "vmgo-prjswqV"
      },
      "execution_count": null,
      "outputs": []
    },
    {
      "cell_type": "code",
      "source": [],
      "metadata": {
        "id": "7Wzc9f_50XSu"
      },
      "execution_count": null,
      "outputs": []
    },
    {
      "cell_type": "code",
      "source": [],
      "metadata": {
        "id": "hQMqAlwqzwia"
      },
      "execution_count": null,
      "outputs": []
    },
    {
      "cell_type": "code",
      "source": [],
      "metadata": {
        "id": "ZmvaeceOuRvF"
      },
      "execution_count": null,
      "outputs": []
    },
    {
      "cell_type": "code",
      "source": [],
      "metadata": {
        "id": "rRYV7_A9uRrT"
      },
      "execution_count": null,
      "outputs": []
    },
    {
      "cell_type": "code",
      "source": [],
      "metadata": {
        "id": "fEwwAOsD78Fn"
      },
      "execution_count": null,
      "outputs": []
    },
    {
      "cell_type": "code",
      "source": [],
      "metadata": {
        "id": "2pRQm2kquRpQ"
      },
      "execution_count": null,
      "outputs": []
    },
    {
      "cell_type": "code",
      "source": [],
      "metadata": {
        "id": "o8PoTPO9uRm8"
      },
      "execution_count": null,
      "outputs": []
    }
  ]
}