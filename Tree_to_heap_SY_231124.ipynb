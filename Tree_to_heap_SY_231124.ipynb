{
  "nbformat": 4,
  "nbformat_minor": 0,
  "metadata": {
    "colab": {
      "provenance": [],
      "authorship_tag": "ABX9TyNBtMz4KvCmQiqToVLXDlH1"
    },
    "kernelspec": {
      "name": "python3",
      "display_name": "Python 3"
    },
    "language_info": {
      "name": "python"
    }
  },
  "cells": [
    {
      "cell_type": "code",
      "source": [
        "from abc import ABC, abstractmethod\n",
        "import sys\n",
        "from typing import *"
      ],
      "metadata": {
        "id": "_b0oof97IfKn"
      },
      "execution_count": 28,
      "outputs": []
    },
    {
      "cell_type": "markdown",
      "source": [
        "* 트리 순회\n",
        "  \n",
        "  자료구조에 저장된 모든 데이터를 도는 순회를 위해서는 어떤 순서로 데이터를 출력할 수 있는지 알아야 한다. (재귀의 문제)\n",
        "\n",
        "  (1) 재귀적으로 왼쪽 서브 트리를 순회 (2) 재귀적으로 오른쪽 서브 트리를 순회 (3) 현재 노드 데이터를 출력\n",
        "\n",
        "  데이터 간 계층적 관계를 나타내는 트리도 순회를 하면 노드들 사이에 앞과 뒤라는 선형적 순서를 만들 수 있다.\n",
        "\n",
        "* pre-order 순회 (3) - (1) - (2)\n",
        "\n",
        "* post-order 순회 (1) - (2) - (3)\n",
        "\n",
        "* in-order 순회 (1) - (3) - (2) 왼쪽 자식 노드에 더 이상 반환할 값이 없으면"
      ],
      "metadata": {
        "id": "5Dl0LBuCDh8s"
      }
    },
    {
      "cell_type": "markdown",
      "source": [
        "* in-order 순회 구현하기"
      ],
      "metadata": {
        "id": "ExZx1yZwIGMH"
      }
    },
    {
      "cell_type": "code",
      "execution_count": 25,
      "metadata": {
        "id": "t6srtFePDZgf"
      },
      "outputs": [],
      "source": [
        "class Node:\n",
        "  \"\"\"이진 트리 노드를 나타내는 클래스\"\"\"\n",
        "  def __init__(self, data: any):\n",
        "    \"\"\"데이터와 왼쪽, 오른쪽 자식 노드에 대한 레퍼런스를 가지는 이진 트리 노드\"\"\"\n",
        "    self.data = data\n",
        "    self.left_childnode = None\n",
        "    self.right_childnode = None\n",
        "\n",
        "def inorder_traversal(node):\n",
        "  \"\"\"계속 왼쪽으로 순회하면 리프노드가 나오고, 자식 노드가 None이 되어 순회를 완료\"\"\"\n",
        "  if node.left_childnode is None:\n",
        "    inorder_traversal(node.left_childnode)\n",
        "    # 재귀적으로 왼쪽 서브 트리 순회\n",
        "    print(node.data)\n",
        "    # 현재 노드 데이터를 출력\n",
        "    inorder_traversal(node.right_childnode)\n",
        "    # 재귀적으로 오른쪽 서브 트리 순회"
      ]
    },
    {
      "cell_type": "code",
      "source": [
        "# 노드 인스턴스 생성\n",
        "node_A = Node(\"A\")\n",
        "node_B = Node(\"B\")\n",
        "node_C = Node(\"C\")\n",
        "node_D = Node(\"D\")\n",
        "node_E = Node(\"E\")\n",
        "node_F = Node(\"F\")\n",
        "node_G = Node(\"G\")\n",
        "node_H = Node(\"H\")\n",
        "node_I = Node(\"I\")"
      ],
      "metadata": {
        "id": "8kQikEFtJ-gJ"
      },
      "execution_count": 22,
      "outputs": []
    },
    {
      "cell_type": "code",
      "source": [
        "# 생성한 노드 인스턴스를 연결\n",
        "node_F.left_childnode = node_B\n",
        "node_F.right_childnode = node_G\n",
        "\n",
        "# F-B-A, F-B-D\n",
        "node_B.left_childnode = node_A\n",
        "node_B.right_childnode = node_D\n",
        "\n",
        "# F-B-D-C, F-B-D-E\n",
        "node_D.left_childnode = node_C\n",
        "node_D.right_childnode = node_E\n",
        "\n",
        "node_F.left_childnode = node_B\n",
        "node_F.right_childnode = node_G\n",
        "\n",
        "# F-G-I-H\n",
        "node_G.left_childnode = node_I\n",
        "node_I.left_childnode = node_H"
      ],
      "metadata": {
        "id": "F-Hc_iJsKYBk"
      },
      "execution_count": 23,
      "outputs": []
    },
    {
      "cell_type": "code",
      "source": [
        "# F 노드를 루트 노드로 만든다\n",
        "root_node = node_F\n",
        "\n",
        "# 만들어 놓은 트리를 in-order 방식으로 순회한다.\n",
        "# traverse_inorder(node = root_node)\n",
        "inorder_traversal(node = root_node)"
      ],
      "metadata": {
        "id": "BJLPm2AsLQqb"
      },
      "execution_count": 24,
      "outputs": []
    },
    {
      "cell_type": "markdown",
      "source": [
        "* [코딩테스트] 백준 트리의 순회\n",
        "\n",
        "    ```\n",
        "    문제\n",
        "    이진 트리를 입력받아 전위 순회(preorder traversal), 중위 순회(inorder traversal), 후위 순회(postorder traversal)한\n",
        "    결과를 출력하는 프로그램을 작성하시오.\n",
        "\n",
        "    입력\n",
        "    예를 들어 위와 같은 이진 트리가 입력되면,\n",
        "    전위 순회한 결과 : ABDCEFG // (루트) (왼쪽 자식) (오른쪽 자식)\n",
        "    중위 순회한 결과 : DBAECFG // (왼쪽 자식) (루트) (오른쪽 자식)\n",
        "    후위 순회한 결과 : DBEGFCA // (왼쪽 자식) (오른쪽 자식) (루트)\n",
        "\n",
        "    첫째 줄에는 이진 트리의 노드의 개수 N(1 ≤ N ≤ 26)이 주어진다.\n",
        "    둘째 줄부터 N개의 줄에 걸쳐 각 노드와 그의 왼쪽 자식 노드, 오른쪽 자식 노드가 주어진다.\n",
        "    노드의 이름은 A부터 차례대로 알파벳 대문자로 매겨지며, 항상 A가 루트 노드가 된다.\n",
        "    자식 노드가 없는 경우에는 .으로 표현한다.\n",
        "\n",
        "    출력\n",
        "    첫째 줄에 전위 순회, 둘째 줄에 중위 순회, 셋째 줄에 후위 순회한 결과를 출력한다.\n",
        "    각 줄에 N개의 알파벳을 공백 없이 출력하면 된다.\n",
        "    ```\n"
      ],
      "metadata": {
        "id": "ZkfDd2-OSzum"
      }
    },
    {
      "cell_type": "code",
      "source": [
        "class Node:\n",
        "  \"\"\"이진 트리 노드 클래스\"\"\"\n",
        "  def __init__(self, data):\n",
        "    \"\"\"레퍼런스\"\"\"\n",
        "    self.data = data\n",
        "    self.left_childnode = None\n",
        "    self.right_childnode = None\n",
        "\n",
        "def traversal_preorder(node: any):\n",
        "  \"\"\"트리 전위 순회(루트 - 왼 - 오) 메서드\"\"\"\n",
        "  if node.data is not None:\n",
        "    print(node.data, end = \"\")\n",
        "  if node.left_childnode is None:\n",
        "    traversal_preorder( tree[node.left_childnode] )\n",
        "  if node.left_childnode is None:\n",
        "    traversal_preorder( tree[node.right_childnode] )\n",
        "  # ???\n",
        "\n",
        "def traversal_inorder(node: any):\n",
        "  \"\"\"트리 중위 순회(루트 - 왼 - 오) 메서드\"\"\"\n",
        "  if\n",
        "\n",
        "def traversal_postorder(node: any):\n",
        "  \"\"\"트리 후위 순회(루트 - 왼 - 오) 메서드\"\"\"\n",
        "  if\n"
      ],
      "metadata": {
        "id": "qX3VR5NbUboO"
      },
      "execution_count": null,
      "outputs": []
    },
    {
      "cell_type": "code",
      "source": [
        "N = int(sys.stdin.readline().rstrip())\n",
        "tree = {}\n",
        "\n",
        "for i in range(N):\n",
        "    data, left, right = sys.stdin.readline().split()\n",
        "    if left == '.':\n",
        "        left = None\n",
        "    if right == '.':\n",
        "        right = None\n",
        "    tree[data] = Node(data, left, right)"
      ],
      "metadata": {
        "id": "oAJ-LGSjNe-J"
      },
      "execution_count": null,
      "outputs": []
    },
    {
      "cell_type": "code",
      "source": [
        "traversal_preorder(tree['A'])\n",
        "print()\n",
        "traversal_inorder(tree['A'])\n",
        "print()\n",
        "traversal_postorder(tree['A'])"
      ],
      "metadata": {
        "id": "ZYtpD2ieXjUy"
      },
      "execution_count": null,
      "outputs": []
    }
  ]
}